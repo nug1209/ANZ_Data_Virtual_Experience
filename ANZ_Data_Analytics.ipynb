{
  "nbformat": 4,
  "nbformat_minor": 0,
  "metadata": {
    "colab": {
      "name": "ANZ_Data_Analytics.ipynb",
      "provenance": [],
      "collapsed_sections": [],
      "authorship_tag": "ABX9TyOlfpJCjFlpQFQX5UofwuAy",
      "include_colab_link": true
    },
    "kernelspec": {
      "name": "python3",
      "display_name": "Python 3"
    },
    "language_info": {
      "name": "python"
    }
  },
  "cells": [
    {
      "cell_type": "markdown",
      "metadata": {
        "id": "view-in-github",
        "colab_type": "text"
      },
      "source": [
        "<a href=\"https://colab.research.google.com/github/nugi1209/ANZ_Data_Virtual_Experience/blob/main/ANZ_Data_Analytics.ipynb\" target=\"_parent\"><img src=\"https://colab.research.google.com/assets/colab-badge.svg\" alt=\"Open In Colab\"/></a>"
      ]
    },
    {
      "cell_type": "code",
      "execution_count": 868,
      "metadata": {
        "id": "uB9uTsIlozPI"
      },
      "outputs": [],
      "source": [
        "import pandas as pd\n",
        "import matplotlib\n",
        "import seaborn as sns\n",
        "import numpy as np\n",
        "import matplotlib.pyplot as plt\n",
        "from sklearn import linear_model, metrics"
      ]
    },
    {
      "cell_type": "code",
      "source": [
        "df = pd.read_excel('https://github.com/nugi1209/ANZ_Data_Virtual_Experience/blob/main/dataset.xlsx?raw=true')\n",
        "\n",
        "df.head()"
      ],
      "metadata": {
        "colab": {
          "base_uri": "https://localhost:8080/",
          "height": 487
        },
        "id": "EjXQ33Invraf",
        "outputId": "ae8debf0-2a59-47dc-f868-ece61fe639c3"
      },
      "execution_count": 869,
      "outputs": [
        {
          "output_type": "execute_result",
          "data": {
            "text/html": [
              "<div>\n",
              "<style scoped>\n",
              "    .dataframe tbody tr th:only-of-type {\n",
              "        vertical-align: middle;\n",
              "    }\n",
              "\n",
              "    .dataframe tbody tr th {\n",
              "        vertical-align: top;\n",
              "    }\n",
              "\n",
              "    .dataframe thead th {\n",
              "        text-align: right;\n",
              "    }\n",
              "</style>\n",
              "<table border=\"1\" class=\"dataframe\">\n",
              "  <thead>\n",
              "    <tr style=\"text-align: right;\">\n",
              "      <th></th>\n",
              "      <th>status</th>\n",
              "      <th>card_present_flag</th>\n",
              "      <th>bpay_biller_code</th>\n",
              "      <th>account</th>\n",
              "      <th>currency</th>\n",
              "      <th>long_lat</th>\n",
              "      <th>txn_description</th>\n",
              "      <th>merchant_id</th>\n",
              "      <th>merchant_code</th>\n",
              "      <th>first_name</th>\n",
              "      <th>balance</th>\n",
              "      <th>date</th>\n",
              "      <th>gender</th>\n",
              "      <th>age</th>\n",
              "      <th>merchant_suburb</th>\n",
              "      <th>merchant_state</th>\n",
              "      <th>extraction</th>\n",
              "      <th>amount</th>\n",
              "      <th>transaction_id</th>\n",
              "      <th>country</th>\n",
              "      <th>customer_id</th>\n",
              "      <th>merchant_long_lat</th>\n",
              "      <th>movement</th>\n",
              "    </tr>\n",
              "  </thead>\n",
              "  <tbody>\n",
              "    <tr>\n",
              "      <th>0</th>\n",
              "      <td>authorized</td>\n",
              "      <td>1.0</td>\n",
              "      <td>NaN</td>\n",
              "      <td>ACC-1598451071</td>\n",
              "      <td>AUD</td>\n",
              "      <td>153.41 -27.95</td>\n",
              "      <td>POS</td>\n",
              "      <td>81c48296-73be-44a7-befa-d053f48ce7cd</td>\n",
              "      <td>NaN</td>\n",
              "      <td>Diana</td>\n",
              "      <td>35.39</td>\n",
              "      <td>2018-08-01</td>\n",
              "      <td>F</td>\n",
              "      <td>26</td>\n",
              "      <td>Ashmore</td>\n",
              "      <td>QLD</td>\n",
              "      <td>2018-08-01T01:01:15.000+0000</td>\n",
              "      <td>16.25</td>\n",
              "      <td>a623070bfead4541a6b0fff8a09e706c</td>\n",
              "      <td>Australia</td>\n",
              "      <td>CUS-2487424745</td>\n",
              "      <td>153.38 -27.99</td>\n",
              "      <td>debit</td>\n",
              "    </tr>\n",
              "    <tr>\n",
              "      <th>1</th>\n",
              "      <td>authorized</td>\n",
              "      <td>0.0</td>\n",
              "      <td>NaN</td>\n",
              "      <td>ACC-1598451071</td>\n",
              "      <td>AUD</td>\n",
              "      <td>153.41 -27.95</td>\n",
              "      <td>SALES-POS</td>\n",
              "      <td>830a451c-316e-4a6a-bf25-e37caedca49e</td>\n",
              "      <td>NaN</td>\n",
              "      <td>Diana</td>\n",
              "      <td>21.20</td>\n",
              "      <td>2018-08-01</td>\n",
              "      <td>F</td>\n",
              "      <td>26</td>\n",
              "      <td>Sydney</td>\n",
              "      <td>NSW</td>\n",
              "      <td>2018-08-01T01:13:45.000+0000</td>\n",
              "      <td>14.19</td>\n",
              "      <td>13270a2a902145da9db4c951e04b51b9</td>\n",
              "      <td>Australia</td>\n",
              "      <td>CUS-2487424745</td>\n",
              "      <td>151.21 -33.87</td>\n",
              "      <td>debit</td>\n",
              "    </tr>\n",
              "    <tr>\n",
              "      <th>2</th>\n",
              "      <td>authorized</td>\n",
              "      <td>1.0</td>\n",
              "      <td>NaN</td>\n",
              "      <td>ACC-1222300524</td>\n",
              "      <td>AUD</td>\n",
              "      <td>151.23 -33.94</td>\n",
              "      <td>POS</td>\n",
              "      <td>835c231d-8cdf-4e96-859d-e9d571760cf0</td>\n",
              "      <td>NaN</td>\n",
              "      <td>Michael</td>\n",
              "      <td>5.71</td>\n",
              "      <td>2018-08-01</td>\n",
              "      <td>M</td>\n",
              "      <td>38</td>\n",
              "      <td>Sydney</td>\n",
              "      <td>NSW</td>\n",
              "      <td>2018-08-01T01:26:15.000+0000</td>\n",
              "      <td>6.42</td>\n",
              "      <td>feb79e7ecd7048a5a36ec889d1a94270</td>\n",
              "      <td>Australia</td>\n",
              "      <td>CUS-2142601169</td>\n",
              "      <td>151.21 -33.87</td>\n",
              "      <td>debit</td>\n",
              "    </tr>\n",
              "    <tr>\n",
              "      <th>3</th>\n",
              "      <td>authorized</td>\n",
              "      <td>1.0</td>\n",
              "      <td>NaN</td>\n",
              "      <td>ACC-1037050564</td>\n",
              "      <td>AUD</td>\n",
              "      <td>153.10 -27.66</td>\n",
              "      <td>SALES-POS</td>\n",
              "      <td>48514682-c78a-4a88-b0da-2d6302e64673</td>\n",
              "      <td>NaN</td>\n",
              "      <td>Rhonda</td>\n",
              "      <td>2117.22</td>\n",
              "      <td>2018-08-01</td>\n",
              "      <td>F</td>\n",
              "      <td>40</td>\n",
              "      <td>Buderim</td>\n",
              "      <td>QLD</td>\n",
              "      <td>2018-08-01T01:38:45.000+0000</td>\n",
              "      <td>40.90</td>\n",
              "      <td>2698170da3704fd981b15e64a006079e</td>\n",
              "      <td>Australia</td>\n",
              "      <td>CUS-1614226872</td>\n",
              "      <td>153.05 -26.68</td>\n",
              "      <td>debit</td>\n",
              "    </tr>\n",
              "    <tr>\n",
              "      <th>4</th>\n",
              "      <td>authorized</td>\n",
              "      <td>1.0</td>\n",
              "      <td>NaN</td>\n",
              "      <td>ACC-1598451071</td>\n",
              "      <td>AUD</td>\n",
              "      <td>153.41 -27.95</td>\n",
              "      <td>SALES-POS</td>\n",
              "      <td>b4e02c10-0852-4273-b8fd-7b3395e32eb0</td>\n",
              "      <td>NaN</td>\n",
              "      <td>Diana</td>\n",
              "      <td>17.95</td>\n",
              "      <td>2018-08-01</td>\n",
              "      <td>F</td>\n",
              "      <td>26</td>\n",
              "      <td>Mermaid Beach</td>\n",
              "      <td>QLD</td>\n",
              "      <td>2018-08-01T01:51:15.000+0000</td>\n",
              "      <td>3.25</td>\n",
              "      <td>329adf79878c4cf0aeb4188b4691c266</td>\n",
              "      <td>Australia</td>\n",
              "      <td>CUS-2487424745</td>\n",
              "      <td>153.44 -28.06</td>\n",
              "      <td>debit</td>\n",
              "    </tr>\n",
              "  </tbody>\n",
              "</table>\n",
              "</div>"
            ],
            "text/plain": [
              "       status  card_present_flag  ... merchant_long_lat movement\n",
              "0  authorized                1.0  ...     153.38 -27.99    debit\n",
              "1  authorized                0.0  ...     151.21 -33.87    debit\n",
              "2  authorized                1.0  ...     151.21 -33.87    debit\n",
              "3  authorized                1.0  ...     153.05 -26.68    debit\n",
              "4  authorized                1.0  ...     153.44 -28.06    debit\n",
              "\n",
              "[5 rows x 23 columns]"
            ]
          },
          "metadata": {},
          "execution_count": 869
        }
      ]
    },
    {
      "cell_type": "code",
      "source": [
        "df.describe()"
      ],
      "metadata": {
        "colab": {
          "base_uri": "https://localhost:8080/",
          "height": 300
        },
        "id": "M-n8CCEPv68U",
        "outputId": "00b37ce2-ad95-4092-ea99-a76e1a333ff5"
      },
      "execution_count": 870,
      "outputs": [
        {
          "output_type": "execute_result",
          "data": {
            "text/html": [
              "<div>\n",
              "<style scoped>\n",
              "    .dataframe tbody tr th:only-of-type {\n",
              "        vertical-align: middle;\n",
              "    }\n",
              "\n",
              "    .dataframe tbody tr th {\n",
              "        vertical-align: top;\n",
              "    }\n",
              "\n",
              "    .dataframe thead th {\n",
              "        text-align: right;\n",
              "    }\n",
              "</style>\n",
              "<table border=\"1\" class=\"dataframe\">\n",
              "  <thead>\n",
              "    <tr style=\"text-align: right;\">\n",
              "      <th></th>\n",
              "      <th>card_present_flag</th>\n",
              "      <th>merchant_code</th>\n",
              "      <th>balance</th>\n",
              "      <th>age</th>\n",
              "      <th>amount</th>\n",
              "    </tr>\n",
              "  </thead>\n",
              "  <tbody>\n",
              "    <tr>\n",
              "      <th>count</th>\n",
              "      <td>7717.000000</td>\n",
              "      <td>883.0</td>\n",
              "      <td>12043.000000</td>\n",
              "      <td>12043.000000</td>\n",
              "      <td>12043.000000</td>\n",
              "    </tr>\n",
              "    <tr>\n",
              "      <th>mean</th>\n",
              "      <td>0.802644</td>\n",
              "      <td>0.0</td>\n",
              "      <td>14704.195553</td>\n",
              "      <td>30.582330</td>\n",
              "      <td>187.933588</td>\n",
              "    </tr>\n",
              "    <tr>\n",
              "      <th>std</th>\n",
              "      <td>0.398029</td>\n",
              "      <td>0.0</td>\n",
              "      <td>31503.722652</td>\n",
              "      <td>10.046343</td>\n",
              "      <td>592.599934</td>\n",
              "    </tr>\n",
              "    <tr>\n",
              "      <th>min</th>\n",
              "      <td>0.000000</td>\n",
              "      <td>0.0</td>\n",
              "      <td>0.240000</td>\n",
              "      <td>18.000000</td>\n",
              "      <td>0.100000</td>\n",
              "    </tr>\n",
              "    <tr>\n",
              "      <th>25%</th>\n",
              "      <td>1.000000</td>\n",
              "      <td>0.0</td>\n",
              "      <td>3158.585000</td>\n",
              "      <td>22.000000</td>\n",
              "      <td>16.000000</td>\n",
              "    </tr>\n",
              "    <tr>\n",
              "      <th>50%</th>\n",
              "      <td>1.000000</td>\n",
              "      <td>0.0</td>\n",
              "      <td>6432.010000</td>\n",
              "      <td>28.000000</td>\n",
              "      <td>29.000000</td>\n",
              "    </tr>\n",
              "    <tr>\n",
              "      <th>75%</th>\n",
              "      <td>1.000000</td>\n",
              "      <td>0.0</td>\n",
              "      <td>12465.945000</td>\n",
              "      <td>38.000000</td>\n",
              "      <td>53.655000</td>\n",
              "    </tr>\n",
              "    <tr>\n",
              "      <th>max</th>\n",
              "      <td>1.000000</td>\n",
              "      <td>0.0</td>\n",
              "      <td>267128.520000</td>\n",
              "      <td>78.000000</td>\n",
              "      <td>8835.980000</td>\n",
              "    </tr>\n",
              "  </tbody>\n",
              "</table>\n",
              "</div>"
            ],
            "text/plain": [
              "       card_present_flag  merchant_code  ...           age        amount\n",
              "count        7717.000000          883.0  ...  12043.000000  12043.000000\n",
              "mean            0.802644            0.0  ...     30.582330    187.933588\n",
              "std             0.398029            0.0  ...     10.046343    592.599934\n",
              "min             0.000000            0.0  ...     18.000000      0.100000\n",
              "25%             1.000000            0.0  ...     22.000000     16.000000\n",
              "50%             1.000000            0.0  ...     28.000000     29.000000\n",
              "75%             1.000000            0.0  ...     38.000000     53.655000\n",
              "max             1.000000            0.0  ...     78.000000   8835.980000\n",
              "\n",
              "[8 rows x 5 columns]"
            ]
          },
          "metadata": {},
          "execution_count": 870
        }
      ]
    },
    {
      "cell_type": "code",
      "source": [
        "len(df)"
      ],
      "metadata": {
        "colab": {
          "base_uri": "https://localhost:8080/"
        },
        "id": "oh0gXVp6aVTU",
        "outputId": "5dc4357e-291d-487d-c189-fdd7b797d3cd"
      },
      "execution_count": 871,
      "outputs": [
        {
          "output_type": "execute_result",
          "data": {
            "text/plain": [
              "12043"
            ]
          },
          "metadata": {},
          "execution_count": 871
        }
      ]
    },
    {
      "cell_type": "code",
      "source": [
        "df.dtypes"
      ],
      "metadata": {
        "colab": {
          "base_uri": "https://localhost:8080/"
        },
        "id": "-i8OdnkYwGXX",
        "outputId": "9fe29067-c9c0-4cbc-af61-94ac1c3900e1"
      },
      "execution_count": 872,
      "outputs": [
        {
          "output_type": "execute_result",
          "data": {
            "text/plain": [
              "status                       object\n",
              "card_present_flag           float64\n",
              "bpay_biller_code             object\n",
              "account                      object\n",
              "currency                     object\n",
              "long_lat                     object\n",
              "txn_description              object\n",
              "merchant_id                  object\n",
              "merchant_code               float64\n",
              "first_name                   object\n",
              "balance                     float64\n",
              "date                 datetime64[ns]\n",
              "gender                       object\n",
              "age                           int64\n",
              "merchant_suburb              object\n",
              "merchant_state               object\n",
              "extraction                   object\n",
              "amount                      float64\n",
              "transaction_id               object\n",
              "country                      object\n",
              "customer_id                  object\n",
              "merchant_long_lat            object\n",
              "movement                     object\n",
              "dtype: object"
            ]
          },
          "metadata": {},
          "execution_count": 872
        }
      ]
    },
    {
      "cell_type": "code",
      "source": [
        "df.isna().sum()"
      ],
      "metadata": {
        "colab": {
          "base_uri": "https://localhost:8080/"
        },
        "id": "BnO2Zgcx0hlx",
        "outputId": "b18fda4c-89c2-4332-d105-fc23114b073c"
      },
      "execution_count": 873,
      "outputs": [
        {
          "output_type": "execute_result",
          "data": {
            "text/plain": [
              "status                   0\n",
              "card_present_flag     4326\n",
              "bpay_biller_code     11158\n",
              "account                  0\n",
              "currency                 0\n",
              "long_lat                 0\n",
              "txn_description          0\n",
              "merchant_id           4326\n",
              "merchant_code        11160\n",
              "first_name               0\n",
              "balance                  0\n",
              "date                     0\n",
              "gender                   0\n",
              "age                      0\n",
              "merchant_suburb       4326\n",
              "merchant_state        4326\n",
              "extraction               0\n",
              "amount                   0\n",
              "transaction_id           0\n",
              "country                  0\n",
              "customer_id              0\n",
              "merchant_long_lat     4326\n",
              "movement                 0\n",
              "dtype: int64"
            ]
          },
          "metadata": {},
          "execution_count": 873
        }
      ]
    },
    {
      "cell_type": "code",
      "source": [
        "df['extraction'] = pd.to_datetime(df['extraction'])\n",
        "df['extraction_date'] = df['extraction'].dt.date\n",
        "df['extraction_month_name'] = df['extraction'].dt.month_name()\n",
        "df['extraction_year'] = df['extraction'].dt.year\n",
        "df['extraction_day_name'] = df['extraction'].dt.day_name()\n",
        "df['extraction_hour'] = df['extraction'].dt.hour\n",
        "df.head(3)"
      ],
      "metadata": {
        "colab": {
          "base_uri": "https://localhost:8080/",
          "height": 319
        },
        "id": "pPJhAyIx3S2V",
        "outputId": "09f53a38-e720-4440-8de5-a9f75f449ed4"
      },
      "execution_count": 874,
      "outputs": [
        {
          "output_type": "execute_result",
          "data": {
            "text/html": [
              "<div>\n",
              "<style scoped>\n",
              "    .dataframe tbody tr th:only-of-type {\n",
              "        vertical-align: middle;\n",
              "    }\n",
              "\n",
              "    .dataframe tbody tr th {\n",
              "        vertical-align: top;\n",
              "    }\n",
              "\n",
              "    .dataframe thead th {\n",
              "        text-align: right;\n",
              "    }\n",
              "</style>\n",
              "<table border=\"1\" class=\"dataframe\">\n",
              "  <thead>\n",
              "    <tr style=\"text-align: right;\">\n",
              "      <th></th>\n",
              "      <th>status</th>\n",
              "      <th>card_present_flag</th>\n",
              "      <th>bpay_biller_code</th>\n",
              "      <th>account</th>\n",
              "      <th>currency</th>\n",
              "      <th>long_lat</th>\n",
              "      <th>txn_description</th>\n",
              "      <th>merchant_id</th>\n",
              "      <th>merchant_code</th>\n",
              "      <th>first_name</th>\n",
              "      <th>balance</th>\n",
              "      <th>date</th>\n",
              "      <th>gender</th>\n",
              "      <th>age</th>\n",
              "      <th>merchant_suburb</th>\n",
              "      <th>merchant_state</th>\n",
              "      <th>extraction</th>\n",
              "      <th>amount</th>\n",
              "      <th>transaction_id</th>\n",
              "      <th>country</th>\n",
              "      <th>customer_id</th>\n",
              "      <th>merchant_long_lat</th>\n",
              "      <th>movement</th>\n",
              "      <th>extraction_date</th>\n",
              "      <th>extraction_month_name</th>\n",
              "      <th>extraction_year</th>\n",
              "      <th>extraction_day_name</th>\n",
              "      <th>extraction_hour</th>\n",
              "    </tr>\n",
              "  </thead>\n",
              "  <tbody>\n",
              "    <tr>\n",
              "      <th>0</th>\n",
              "      <td>authorized</td>\n",
              "      <td>1.0</td>\n",
              "      <td>NaN</td>\n",
              "      <td>ACC-1598451071</td>\n",
              "      <td>AUD</td>\n",
              "      <td>153.41 -27.95</td>\n",
              "      <td>POS</td>\n",
              "      <td>81c48296-73be-44a7-befa-d053f48ce7cd</td>\n",
              "      <td>NaN</td>\n",
              "      <td>Diana</td>\n",
              "      <td>35.39</td>\n",
              "      <td>2018-08-01</td>\n",
              "      <td>F</td>\n",
              "      <td>26</td>\n",
              "      <td>Ashmore</td>\n",
              "      <td>QLD</td>\n",
              "      <td>2018-08-01 01:01:15+00:00</td>\n",
              "      <td>16.25</td>\n",
              "      <td>a623070bfead4541a6b0fff8a09e706c</td>\n",
              "      <td>Australia</td>\n",
              "      <td>CUS-2487424745</td>\n",
              "      <td>153.38 -27.99</td>\n",
              "      <td>debit</td>\n",
              "      <td>2018-08-01</td>\n",
              "      <td>August</td>\n",
              "      <td>2018</td>\n",
              "      <td>Wednesday</td>\n",
              "      <td>1</td>\n",
              "    </tr>\n",
              "    <tr>\n",
              "      <th>1</th>\n",
              "      <td>authorized</td>\n",
              "      <td>0.0</td>\n",
              "      <td>NaN</td>\n",
              "      <td>ACC-1598451071</td>\n",
              "      <td>AUD</td>\n",
              "      <td>153.41 -27.95</td>\n",
              "      <td>SALES-POS</td>\n",
              "      <td>830a451c-316e-4a6a-bf25-e37caedca49e</td>\n",
              "      <td>NaN</td>\n",
              "      <td>Diana</td>\n",
              "      <td>21.20</td>\n",
              "      <td>2018-08-01</td>\n",
              "      <td>F</td>\n",
              "      <td>26</td>\n",
              "      <td>Sydney</td>\n",
              "      <td>NSW</td>\n",
              "      <td>2018-08-01 01:13:45+00:00</td>\n",
              "      <td>14.19</td>\n",
              "      <td>13270a2a902145da9db4c951e04b51b9</td>\n",
              "      <td>Australia</td>\n",
              "      <td>CUS-2487424745</td>\n",
              "      <td>151.21 -33.87</td>\n",
              "      <td>debit</td>\n",
              "      <td>2018-08-01</td>\n",
              "      <td>August</td>\n",
              "      <td>2018</td>\n",
              "      <td>Wednesday</td>\n",
              "      <td>1</td>\n",
              "    </tr>\n",
              "    <tr>\n",
              "      <th>2</th>\n",
              "      <td>authorized</td>\n",
              "      <td>1.0</td>\n",
              "      <td>NaN</td>\n",
              "      <td>ACC-1222300524</td>\n",
              "      <td>AUD</td>\n",
              "      <td>151.23 -33.94</td>\n",
              "      <td>POS</td>\n",
              "      <td>835c231d-8cdf-4e96-859d-e9d571760cf0</td>\n",
              "      <td>NaN</td>\n",
              "      <td>Michael</td>\n",
              "      <td>5.71</td>\n",
              "      <td>2018-08-01</td>\n",
              "      <td>M</td>\n",
              "      <td>38</td>\n",
              "      <td>Sydney</td>\n",
              "      <td>NSW</td>\n",
              "      <td>2018-08-01 01:26:15+00:00</td>\n",
              "      <td>6.42</td>\n",
              "      <td>feb79e7ecd7048a5a36ec889d1a94270</td>\n",
              "      <td>Australia</td>\n",
              "      <td>CUS-2142601169</td>\n",
              "      <td>151.21 -33.87</td>\n",
              "      <td>debit</td>\n",
              "      <td>2018-08-01</td>\n",
              "      <td>August</td>\n",
              "      <td>2018</td>\n",
              "      <td>Wednesday</td>\n",
              "      <td>1</td>\n",
              "    </tr>\n",
              "  </tbody>\n",
              "</table>\n",
              "</div>"
            ],
            "text/plain": [
              "       status  card_present_flag  ... extraction_day_name extraction_hour\n",
              "0  authorized                1.0  ...           Wednesday               1\n",
              "1  authorized                0.0  ...           Wednesday               1\n",
              "2  authorized                1.0  ...           Wednesday               1\n",
              "\n",
              "[3 rows x 28 columns]"
            ]
          },
          "metadata": {},
          "execution_count": 874
        }
      ]
    },
    {
      "cell_type": "code",
      "source": [
        "df.loc[df['merchant_id'].isnull()]"
      ],
      "metadata": {
        "colab": {
          "base_uri": "https://localhost:8080/",
          "height": 617
        },
        "id": "IVunK1aW03Mm",
        "outputId": "1bf54a18-67c9-4ade-84f1-851f8c979bd7"
      },
      "execution_count": 875,
      "outputs": [
        {
          "output_type": "execute_result",
          "data": {
            "text/html": [
              "<div>\n",
              "<style scoped>\n",
              "    .dataframe tbody tr th:only-of-type {\n",
              "        vertical-align: middle;\n",
              "    }\n",
              "\n",
              "    .dataframe tbody tr th {\n",
              "        vertical-align: top;\n",
              "    }\n",
              "\n",
              "    .dataframe thead th {\n",
              "        text-align: right;\n",
              "    }\n",
              "</style>\n",
              "<table border=\"1\" class=\"dataframe\">\n",
              "  <thead>\n",
              "    <tr style=\"text-align: right;\">\n",
              "      <th></th>\n",
              "      <th>status</th>\n",
              "      <th>card_present_flag</th>\n",
              "      <th>bpay_biller_code</th>\n",
              "      <th>account</th>\n",
              "      <th>currency</th>\n",
              "      <th>long_lat</th>\n",
              "      <th>txn_description</th>\n",
              "      <th>merchant_id</th>\n",
              "      <th>merchant_code</th>\n",
              "      <th>first_name</th>\n",
              "      <th>balance</th>\n",
              "      <th>date</th>\n",
              "      <th>gender</th>\n",
              "      <th>age</th>\n",
              "      <th>merchant_suburb</th>\n",
              "      <th>merchant_state</th>\n",
              "      <th>extraction</th>\n",
              "      <th>amount</th>\n",
              "      <th>transaction_id</th>\n",
              "      <th>country</th>\n",
              "      <th>customer_id</th>\n",
              "      <th>merchant_long_lat</th>\n",
              "      <th>movement</th>\n",
              "      <th>extraction_date</th>\n",
              "      <th>extraction_month_name</th>\n",
              "      <th>extraction_year</th>\n",
              "      <th>extraction_day_name</th>\n",
              "      <th>extraction_hour</th>\n",
              "    </tr>\n",
              "  </thead>\n",
              "  <tbody>\n",
              "    <tr>\n",
              "      <th>5</th>\n",
              "      <td>posted</td>\n",
              "      <td>NaN</td>\n",
              "      <td>NaN</td>\n",
              "      <td>ACC-1608363396</td>\n",
              "      <td>AUD</td>\n",
              "      <td>151.22 -33.87</td>\n",
              "      <td>PAYMENT</td>\n",
              "      <td>NaN</td>\n",
              "      <td>NaN</td>\n",
              "      <td>Robert</td>\n",
              "      <td>1705.43</td>\n",
              "      <td>2018-08-01</td>\n",
              "      <td>M</td>\n",
              "      <td>20</td>\n",
              "      <td>NaN</td>\n",
              "      <td>NaN</td>\n",
              "      <td>2018-08-01 02:00:00+00:00</td>\n",
              "      <td>163.0</td>\n",
              "      <td>1005b48a6eda4ffd85e9b649dc9467d3</td>\n",
              "      <td>Australia</td>\n",
              "      <td>CUS-2688605418</td>\n",
              "      <td>NaN</td>\n",
              "      <td>debit</td>\n",
              "      <td>2018-08-01</td>\n",
              "      <td>August</td>\n",
              "      <td>2018</td>\n",
              "      <td>Wednesday</td>\n",
              "      <td>2</td>\n",
              "    </tr>\n",
              "    <tr>\n",
              "      <th>9</th>\n",
              "      <td>posted</td>\n",
              "      <td>NaN</td>\n",
              "      <td>NaN</td>\n",
              "      <td>ACC-602667573</td>\n",
              "      <td>AUD</td>\n",
              "      <td>151.23 -33.96</td>\n",
              "      <td>INTER BANK</td>\n",
              "      <td>NaN</td>\n",
              "      <td>NaN</td>\n",
              "      <td>Michael</td>\n",
              "      <td>466.58</td>\n",
              "      <td>2018-08-01</td>\n",
              "      <td>M</td>\n",
              "      <td>40</td>\n",
              "      <td>NaN</td>\n",
              "      <td>NaN</td>\n",
              "      <td>2018-08-01 06:00:00+00:00</td>\n",
              "      <td>21.0</td>\n",
              "      <td>798a77869014441b840a7a8a23408332</td>\n",
              "      <td>Australia</td>\n",
              "      <td>CUS-2031327464</td>\n",
              "      <td>NaN</td>\n",
              "      <td>debit</td>\n",
              "      <td>2018-08-01</td>\n",
              "      <td>August</td>\n",
              "      <td>2018</td>\n",
              "      <td>Wednesday</td>\n",
              "      <td>6</td>\n",
              "    </tr>\n",
              "    <tr>\n",
              "      <th>10</th>\n",
              "      <td>posted</td>\n",
              "      <td>NaN</td>\n",
              "      <td>NaN</td>\n",
              "      <td>ACC-2171593283</td>\n",
              "      <td>AUD</td>\n",
              "      <td>146.94 -36.04</td>\n",
              "      <td>PAYMENT</td>\n",
              "      <td>NaN</td>\n",
              "      <td>NaN</td>\n",
              "      <td>Fernando</td>\n",
              "      <td>4348.50</td>\n",
              "      <td>2018-08-01</td>\n",
              "      <td>M</td>\n",
              "      <td>19</td>\n",
              "      <td>NaN</td>\n",
              "      <td>NaN</td>\n",
              "      <td>2018-08-01 06:00:00+00:00</td>\n",
              "      <td>27.0</td>\n",
              "      <td>baff17b27b2643c48c84fca7129e9611</td>\n",
              "      <td>Australia</td>\n",
              "      <td>CUS-2317998716</td>\n",
              "      <td>NaN</td>\n",
              "      <td>debit</td>\n",
              "      <td>2018-08-01</td>\n",
              "      <td>August</td>\n",
              "      <td>2018</td>\n",
              "      <td>Wednesday</td>\n",
              "      <td>6</td>\n",
              "    </tr>\n",
              "    <tr>\n",
              "      <th>11</th>\n",
              "      <td>posted</td>\n",
              "      <td>NaN</td>\n",
              "      <td>NaN</td>\n",
              "      <td>ACC-2776252858</td>\n",
              "      <td>AUD</td>\n",
              "      <td>144.95 -37.76</td>\n",
              "      <td>PAYMENT</td>\n",
              "      <td>NaN</td>\n",
              "      <td>NaN</td>\n",
              "      <td>Kristin</td>\n",
              "      <td>1203.75</td>\n",
              "      <td>2018-08-01</td>\n",
              "      <td>F</td>\n",
              "      <td>43</td>\n",
              "      <td>NaN</td>\n",
              "      <td>NaN</td>\n",
              "      <td>2018-08-01 06:00:00+00:00</td>\n",
              "      <td>29.0</td>\n",
              "      <td>78a1b6c3a5534d48828d8ed266ba9c2e</td>\n",
              "      <td>Australia</td>\n",
              "      <td>CUS-4123612273</td>\n",
              "      <td>NaN</td>\n",
              "      <td>debit</td>\n",
              "      <td>2018-08-01</td>\n",
              "      <td>August</td>\n",
              "      <td>2018</td>\n",
              "      <td>Wednesday</td>\n",
              "      <td>6</td>\n",
              "    </tr>\n",
              "    <tr>\n",
              "      <th>13</th>\n",
              "      <td>posted</td>\n",
              "      <td>NaN</td>\n",
              "      <td>NaN</td>\n",
              "      <td>ACC-588564840</td>\n",
              "      <td>AUD</td>\n",
              "      <td>151.27 -33.76</td>\n",
              "      <td>INTER BANK</td>\n",
              "      <td>NaN</td>\n",
              "      <td>NaN</td>\n",
              "      <td>Isaiah</td>\n",
              "      <td>4438.16</td>\n",
              "      <td>2018-08-01</td>\n",
              "      <td>M</td>\n",
              "      <td>23</td>\n",
              "      <td>NaN</td>\n",
              "      <td>NaN</td>\n",
              "      <td>2018-08-01 07:00:00+00:00</td>\n",
              "      <td>25.0</td>\n",
              "      <td>eaafa602902b4f4194efb96a105dd7ab</td>\n",
              "      <td>Australia</td>\n",
              "      <td>CUS-1462656821</td>\n",
              "      <td>NaN</td>\n",
              "      <td>debit</td>\n",
              "      <td>2018-08-01</td>\n",
              "      <td>August</td>\n",
              "      <td>2018</td>\n",
              "      <td>Wednesday</td>\n",
              "      <td>7</td>\n",
              "    </tr>\n",
              "    <tr>\n",
              "      <th>...</th>\n",
              "      <td>...</td>\n",
              "      <td>...</td>\n",
              "      <td>...</td>\n",
              "      <td>...</td>\n",
              "      <td>...</td>\n",
              "      <td>...</td>\n",
              "      <td>...</td>\n",
              "      <td>...</td>\n",
              "      <td>...</td>\n",
              "      <td>...</td>\n",
              "      <td>...</td>\n",
              "      <td>...</td>\n",
              "      <td>...</td>\n",
              "      <td>...</td>\n",
              "      <td>...</td>\n",
              "      <td>...</td>\n",
              "      <td>...</td>\n",
              "      <td>...</td>\n",
              "      <td>...</td>\n",
              "      <td>...</td>\n",
              "      <td>...</td>\n",
              "      <td>...</td>\n",
              "      <td>...</td>\n",
              "      <td>...</td>\n",
              "      <td>...</td>\n",
              "      <td>...</td>\n",
              "      <td>...</td>\n",
              "      <td>...</td>\n",
              "    </tr>\n",
              "    <tr>\n",
              "      <th>12027</th>\n",
              "      <td>posted</td>\n",
              "      <td>NaN</td>\n",
              "      <td>NaN</td>\n",
              "      <td>ACC-2173390920</td>\n",
              "      <td>AUD</td>\n",
              "      <td>144.71 -37.58</td>\n",
              "      <td>PHONE BANK</td>\n",
              "      <td>NaN</td>\n",
              "      <td>NaN</td>\n",
              "      <td>Luis</td>\n",
              "      <td>13537.75</td>\n",
              "      <td>2018-10-31</td>\n",
              "      <td>M</td>\n",
              "      <td>27</td>\n",
              "      <td>NaN</td>\n",
              "      <td>NaN</td>\n",
              "      <td>2018-10-31 21:00:00+00:00</td>\n",
              "      <td>67.0</td>\n",
              "      <td>b2c42c27bb24464cb5e3e0ffbf9b1977</td>\n",
              "      <td>Australia</td>\n",
              "      <td>CUS-3180318393</td>\n",
              "      <td>NaN</td>\n",
              "      <td>debit</td>\n",
              "      <td>2018-10-31</td>\n",
              "      <td>October</td>\n",
              "      <td>2018</td>\n",
              "      <td>Wednesday</td>\n",
              "      <td>21</td>\n",
              "    </tr>\n",
              "    <tr>\n",
              "      <th>12032</th>\n",
              "      <td>posted</td>\n",
              "      <td>NaN</td>\n",
              "      <td>NaN</td>\n",
              "      <td>ACC-1710017148</td>\n",
              "      <td>AUD</td>\n",
              "      <td>150.82 -34.01</td>\n",
              "      <td>PAYMENT</td>\n",
              "      <td>NaN</td>\n",
              "      <td>NaN</td>\n",
              "      <td>Michelle</td>\n",
              "      <td>20699.90</td>\n",
              "      <td>2018-10-31</td>\n",
              "      <td>F</td>\n",
              "      <td>19</td>\n",
              "      <td>NaN</td>\n",
              "      <td>NaN</td>\n",
              "      <td>2018-10-31 22:00:00+00:00</td>\n",
              "      <td>33.0</td>\n",
              "      <td>96fe9c5dcda24b599e81b6f6d5bdcb66</td>\n",
              "      <td>Australia</td>\n",
              "      <td>CUS-883482547</td>\n",
              "      <td>NaN</td>\n",
              "      <td>debit</td>\n",
              "      <td>2018-10-31</td>\n",
              "      <td>October</td>\n",
              "      <td>2018</td>\n",
              "      <td>Wednesday</td>\n",
              "      <td>22</td>\n",
              "    </tr>\n",
              "    <tr>\n",
              "      <th>12035</th>\n",
              "      <td>posted</td>\n",
              "      <td>NaN</td>\n",
              "      <td>NaN</td>\n",
              "      <td>ACC-1973887809</td>\n",
              "      <td>AUD</td>\n",
              "      <td>115.78 -31.90</td>\n",
              "      <td>PAYMENT</td>\n",
              "      <td>NaN</td>\n",
              "      <td>NaN</td>\n",
              "      <td>Antonio</td>\n",
              "      <td>9349.51</td>\n",
              "      <td>2018-10-31</td>\n",
              "      <td>M</td>\n",
              "      <td>26</td>\n",
              "      <td>NaN</td>\n",
              "      <td>NaN</td>\n",
              "      <td>2018-10-31 23:00:00+00:00</td>\n",
              "      <td>29.0</td>\n",
              "      <td>dda53e538c5b4d5aae2481be22e60440</td>\n",
              "      <td>Australia</td>\n",
              "      <td>CUS-1646621553</td>\n",
              "      <td>NaN</td>\n",
              "      <td>debit</td>\n",
              "      <td>2018-10-31</td>\n",
              "      <td>October</td>\n",
              "      <td>2018</td>\n",
              "      <td>Wednesday</td>\n",
              "      <td>23</td>\n",
              "    </tr>\n",
              "    <tr>\n",
              "      <th>12036</th>\n",
              "      <td>posted</td>\n",
              "      <td>NaN</td>\n",
              "      <td>NaN</td>\n",
              "      <td>ACC-1349834573</td>\n",
              "      <td>AUD</td>\n",
              "      <td>145.17 -37.84</td>\n",
              "      <td>PAYMENT</td>\n",
              "      <td>NaN</td>\n",
              "      <td>NaN</td>\n",
              "      <td>Matthew</td>\n",
              "      <td>18127.50</td>\n",
              "      <td>2018-10-31</td>\n",
              "      <td>M</td>\n",
              "      <td>39</td>\n",
              "      <td>NaN</td>\n",
              "      <td>NaN</td>\n",
              "      <td>2018-10-31 23:00:00+00:00</td>\n",
              "      <td>32.0</td>\n",
              "      <td>df15d6f039554dcbb3ca02631ce22068</td>\n",
              "      <td>Australia</td>\n",
              "      <td>CUS-1790886359</td>\n",
              "      <td>NaN</td>\n",
              "      <td>debit</td>\n",
              "      <td>2018-10-31</td>\n",
              "      <td>October</td>\n",
              "      <td>2018</td>\n",
              "      <td>Wednesday</td>\n",
              "      <td>23</td>\n",
              "    </tr>\n",
              "    <tr>\n",
              "      <th>12037</th>\n",
              "      <td>posted</td>\n",
              "      <td>NaN</td>\n",
              "      <td>NaN</td>\n",
              "      <td>ACC-240804743</td>\n",
              "      <td>AUD</td>\n",
              "      <td>121.48 -30.75</td>\n",
              "      <td>PAYMENT</td>\n",
              "      <td>NaN</td>\n",
              "      <td>NaN</td>\n",
              "      <td>Kenneth</td>\n",
              "      <td>24775.66</td>\n",
              "      <td>2018-10-31</td>\n",
              "      <td>M</td>\n",
              "      <td>29</td>\n",
              "      <td>NaN</td>\n",
              "      <td>NaN</td>\n",
              "      <td>2018-10-31 23:00:00+00:00</td>\n",
              "      <td>39.0</td>\n",
              "      <td>c7bc398b9eb04e73933dc6d5a7beae0b</td>\n",
              "      <td>Australia</td>\n",
              "      <td>CUS-261674136</td>\n",
              "      <td>NaN</td>\n",
              "      <td>debit</td>\n",
              "      <td>2018-10-31</td>\n",
              "      <td>October</td>\n",
              "      <td>2018</td>\n",
              "      <td>Wednesday</td>\n",
              "      <td>23</td>\n",
              "    </tr>\n",
              "  </tbody>\n",
              "</table>\n",
              "<p>4326 rows × 28 columns</p>\n",
              "</div>"
            ],
            "text/plain": [
              "       status  card_present_flag  ... extraction_day_name extraction_hour\n",
              "5      posted                NaN  ...           Wednesday               2\n",
              "9      posted                NaN  ...           Wednesday               6\n",
              "10     posted                NaN  ...           Wednesday               6\n",
              "11     posted                NaN  ...           Wednesday               6\n",
              "13     posted                NaN  ...           Wednesday               7\n",
              "...       ...                ...  ...                 ...             ...\n",
              "12027  posted                NaN  ...           Wednesday              21\n",
              "12032  posted                NaN  ...           Wednesday              22\n",
              "12035  posted                NaN  ...           Wednesday              23\n",
              "12036  posted                NaN  ...           Wednesday              23\n",
              "12037  posted                NaN  ...           Wednesday              23\n",
              "\n",
              "[4326 rows x 28 columns]"
            ]
          },
          "metadata": {},
          "execution_count": 875
        }
      ]
    },
    {
      "cell_type": "code",
      "source": [
        "df['status'].unique()"
      ],
      "metadata": {
        "colab": {
          "base_uri": "https://localhost:8080/"
        },
        "id": "L7U2Xtn3YsLs",
        "outputId": "be5e9579-739f-4447-f79e-8df9f63f4260"
      },
      "execution_count": 876,
      "outputs": [
        {
          "output_type": "execute_result",
          "data": {
            "text/plain": [
              "array(['authorized', 'posted'], dtype=object)"
            ]
          },
          "metadata": {},
          "execution_count": 876
        }
      ]
    },
    {
      "cell_type": "code",
      "source": [
        "sns.catplot(data=df, x='status', kind='count')"
      ],
      "metadata": {
        "colab": {
          "base_uri": "https://localhost:8080/",
          "height": 387
        },
        "id": "YRa6Ia55cLUC",
        "outputId": "d6cb5e50-1962-4aef-dd39-31f9c69d659a"
      },
      "execution_count": 877,
      "outputs": [
        {
          "output_type": "execute_result",
          "data": {
            "text/plain": [
              "<seaborn.axisgrid.FacetGrid at 0x7f511552d450>"
            ]
          },
          "metadata": {},
          "execution_count": 877
        },
        {
          "output_type": "display_data",
          "data": {
            "image/png": "[encoded data removed]",
            "text/plain": [
              "<Figure size 360x360 with 1 Axes>"
            ]
          },
          "metadata": {
            "needs_background": "light"
          }
        }
      ]
    },
    {
      "cell_type": "code",
      "source": [
        "df['card_present_flag'].unique()"
      ],
      "metadata": {
        "colab": {
          "base_uri": "https://localhost:8080/"
        },
        "id": "4-cIx0WKY8p5",
        "outputId": "7c4ad291-6476-46af-a51c-242636198f17"
      },
      "execution_count": 878,
      "outputs": [
        {
          "output_type": "execute_result",
          "data": {
            "text/plain": [
              "array([ 1.,  0., nan])"
            ]
          },
          "metadata": {},
          "execution_count": 878
        }
      ]
    },
    {
      "cell_type": "code",
      "source": [
        "df_card_present_1 = df[['card_present_flag']].copy().fillna(\"Missing\")\n",
        "sns.catplot(data=df_card_present_1, x='card_present_flag', kind='count')"
      ],
      "metadata": {
        "colab": {
          "base_uri": "https://localhost:8080/",
          "height": 387
        },
        "id": "0JxSi0sLc808",
        "outputId": "0ffbb4a3-bc67-45b3-b5a4-42fd0b2663ca"
      },
      "execution_count": 879,
      "outputs": [
        {
          "output_type": "execute_result",
          "data": {
            "text/plain": [
              "<seaborn.axisgrid.FacetGrid at 0x7f51147a7850>"
            ]
          },
          "metadata": {},
          "execution_count": 879
        },
        {
          "output_type": "display_data",
          "data": {
            "image/png": "[encoded data removed]",
            "text/plain": [
              "<Figure size 360x360 with 1 Axes>"
            ]
          },
          "metadata": {
            "needs_background": "light"
          }
        }
      ]
    },
    {
      "cell_type": "code",
      "source": [
        "df['bpay_biller_code'].unique()"
      ],
      "metadata": {
        "colab": {
          "base_uri": "https://localhost:8080/"
        },
        "id": "RSjqdWCpZM4Z",
        "outputId": "ece02ae4-ae8a-40a5-d2d9-d81cc34aa81e"
      },
      "execution_count": 880,
      "outputs": [
        {
          "output_type": "execute_result",
          "data": {
            "text/plain": [
              "array([nan, 0, ' THE DISCOUNT CHEMIST GROUP',\n",
              "       ' LAND WATER & PLANNING East Melbourne'], dtype=object)"
            ]
          },
          "metadata": {},
          "execution_count": 880
        }
      ]
    },
    {
      "cell_type": "code",
      "source": [
        "df_bpay_biller_1 = df[['bpay_biller_code']].copy().fillna(\"Missing\")\n",
        "sns.catplot(data=df_bpay_biller_1, y='bpay_biller_code', kind='count')"
      ],
      "metadata": {
        "colab": {
          "base_uri": "https://localhost:8080/",
          "height": 387
        },
        "id": "ogpFdz6weDU8",
        "outputId": "dbdd996c-2a7f-44ef-8202-df9ea2ffa6e1"
      },
      "execution_count": 881,
      "outputs": [
        {
          "output_type": "execute_result",
          "data": {
            "text/plain": [
              "<seaborn.axisgrid.FacetGrid at 0x7f51147a7810>"
            ]
          },
          "metadata": {},
          "execution_count": 881
        },
        {
          "output_type": "display_data",
          "data": {
            "image/png": "[encoded data removed]",
            "text/plain": [
              "<Figure size 360x360 with 1 Axes>"
            ]
          },
          "metadata": {
            "needs_background": "light"
          }
        }
      ]
    },
    {
      "cell_type": "code",
      "source": [
        "df['account'].nunique()"
      ],
      "metadata": {
        "colab": {
          "base_uri": "https://localhost:8080/"
        },
        "id": "oC2zLK-gZbeP",
        "outputId": "2ba2b9d3-75cc-4509-e28a-808dfb4625cd"
      },
      "execution_count": 882,
      "outputs": [
        {
          "output_type": "execute_result",
          "data": {
            "text/plain": [
              "100"
            ]
          },
          "metadata": {},
          "execution_count": 882
        }
      ]
    },
    {
      "cell_type": "code",
      "source": [
        "df_account_values = df['account'].value_counts()\n",
        "df_account_values = df_account_values.reset_index()\n",
        "df_account_values.columns = ['account', 'values_count']\n",
        "df_account_values.head()\n"
      ],
      "metadata": {
        "colab": {
          "base_uri": "https://localhost:8080/",
          "height": 206
        },
        "id": "PLzM6l5QgF4S",
        "outputId": "e4a17b81-4dee-4519-e55d-498887f51242"
      },
      "execution_count": 883,
      "outputs": [
        {
          "output_type": "execute_result",
          "data": {
            "text/html": [
              "<div>\n",
              "<style scoped>\n",
              "    .dataframe tbody tr th:only-of-type {\n",
              "        vertical-align: middle;\n",
              "    }\n",
              "\n",
              "    .dataframe tbody tr th {\n",
              "        vertical-align: top;\n",
              "    }\n",
              "\n",
              "    .dataframe thead th {\n",
              "        text-align: right;\n",
              "    }\n",
              "</style>\n",
              "<table border=\"1\" class=\"dataframe\">\n",
              "  <thead>\n",
              "    <tr style=\"text-align: right;\">\n",
              "      <th></th>\n",
              "      <th>account</th>\n",
              "      <th>values_count</th>\n",
              "    </tr>\n",
              "  </thead>\n",
              "  <tbody>\n",
              "    <tr>\n",
              "      <th>0</th>\n",
              "      <td>ACC-1598451071</td>\n",
              "      <td>578</td>\n",
              "    </tr>\n",
              "    <tr>\n",
              "      <th>1</th>\n",
              "      <td>ACC-1222300524</td>\n",
              "      <td>303</td>\n",
              "    </tr>\n",
              "    <tr>\n",
              "      <th>2</th>\n",
              "      <td>ACC-182446574</td>\n",
              "      <td>292</td>\n",
              "    </tr>\n",
              "    <tr>\n",
              "      <th>3</th>\n",
              "      <td>ACC-4258502723</td>\n",
              "      <td>260</td>\n",
              "    </tr>\n",
              "    <tr>\n",
              "      <th>4</th>\n",
              "      <td>ACC-1037050564</td>\n",
              "      <td>259</td>\n",
              "    </tr>\n",
              "  </tbody>\n",
              "</table>\n",
              "</div>"
            ],
            "text/plain": [
              "          account  values_count\n",
              "0  ACC-1598451071           578\n",
              "1  ACC-1222300524           303\n",
              "2   ACC-182446574           292\n",
              "3  ACC-4258502723           260\n",
              "4  ACC-1037050564           259"
            ]
          },
          "metadata": {},
          "execution_count": 883
        }
      ]
    },
    {
      "cell_type": "code",
      "source": [
        "sns.histplot(data=df_account_values, x='values_count')"
      ],
      "metadata": {
        "colab": {
          "base_uri": "https://localhost:8080/",
          "height": 300
        },
        "id": "3PzfJHnLiBPj",
        "outputId": "af0454ba-5e48-4b11-e18e-eb1c7cf40852"
      },
      "execution_count": 884,
      "outputs": [
        {
          "output_type": "execute_result",
          "data": {
            "text/plain": [
              "<matplotlib.axes._subplots.AxesSubplot at 0x7f5114671e50>"
            ]
          },
          "metadata": {},
          "execution_count": 884
        },
        {
          "output_type": "display_data",
          "data": {
            "image/png": "[encoded data removed]",
            "text/plain": [
              "<Figure size 432x288 with 1 Axes>"
            ]
          },
          "metadata": {
            "needs_background": "light"
          }
        }
      ]
    },
    {
      "cell_type": "code",
      "source": [
        "df['currency'].unique()"
      ],
      "metadata": {
        "colab": {
          "base_uri": "https://localhost:8080/"
        },
        "id": "JcxVSZPaaAQ5",
        "outputId": "8c36efdb-cca1-4804-bb9d-acf4efd490e3"
      },
      "execution_count": 885,
      "outputs": [
        {
          "output_type": "execute_result",
          "data": {
            "text/plain": [
              "array(['AUD'], dtype=object)"
            ]
          },
          "metadata": {},
          "execution_count": 885
        }
      ]
    },
    {
      "cell_type": "code",
      "source": [
        "df['long_lat'].nunique()"
      ],
      "metadata": {
        "colab": {
          "base_uri": "https://localhost:8080/"
        },
        "id": "Uu1atTFmaF4l",
        "outputId": "8eb817c5-e133-453d-922d-caebcc95e649"
      },
      "execution_count": 886,
      "outputs": [
        {
          "output_type": "execute_result",
          "data": {
            "text/plain": [
              "100"
            ]
          },
          "metadata": {},
          "execution_count": 886
        }
      ]
    },
    {
      "cell_type": "code",
      "source": [
        "df_long_lat_values = df['long_lat'].value_counts()\n",
        "df_long_lat_values = df_long_lat_values.reset_index()\n",
        "df_long_lat_values.columns = ['long_lat', 'values_count']\n",
        "# df_long_lat_values.head()\n",
        "sns.histplot(data=df_long_lat_values, x='values_count')\n"
      ],
      "metadata": {
        "colab": {
          "base_uri": "https://localhost:8080/",
          "height": 300
        },
        "id": "hV44kduYmRV2",
        "outputId": "983b5f38-8eb1-48ad-857a-836f66674783"
      },
      "execution_count": 887,
      "outputs": [
        {
          "output_type": "execute_result",
          "data": {
            "text/plain": [
              "<matplotlib.axes._subplots.AxesSubplot at 0x7f5114589fd0>"
            ]
          },
          "metadata": {},
          "execution_count": 887
        },
        {
          "output_type": "display_data",
          "data": {
            "image/png": "[encoded data removed]",
            "text/plain": [
              "<Figure size 432x288 with 1 Axes>"
            ]
          },
          "metadata": {
            "needs_background": "light"
          }
        }
      ]
    },
    {
      "cell_type": "code",
      "source": [
        "df['txn_description'].unique()"
      ],
      "metadata": {
        "colab": {
          "base_uri": "https://localhost:8080/"
        },
        "id": "8fLgL2nnaKRB",
        "outputId": "b393abb6-0e1c-4512-98f7-a130f46aabef"
      },
      "execution_count": 888,
      "outputs": [
        {
          "output_type": "execute_result",
          "data": {
            "text/plain": [
              "array(['POS', 'SALES-POS', 'PAYMENT', 'INTER BANK', 'PAY/SALARY',\n",
              "       'PHONE BANK'], dtype=object)"
            ]
          },
          "metadata": {},
          "execution_count": 888
        }
      ]
    },
    {
      "cell_type": "code",
      "source": [
        "sns.catplot(data=df, y='txn_description', kind='count')"
      ],
      "metadata": {
        "colab": {
          "base_uri": "https://localhost:8080/",
          "height": 387
        },
        "id": "eOuMVIvqnOMb",
        "outputId": "6809c813-8893-471f-8d98-d63b5f4851f9"
      },
      "execution_count": 889,
      "outputs": [
        {
          "output_type": "execute_result",
          "data": {
            "text/plain": [
              "<seaborn.axisgrid.FacetGrid at 0x7f51144b6c90>"
            ]
          },
          "metadata": {},
          "execution_count": 889
        },
        {
          "output_type": "display_data",
          "data": {
            "image/png": "[encoded data removed]",
            "text/plain": [
              "<Figure size 360x360 with 1 Axes>"
            ]
          },
          "metadata": {
            "needs_background": "light"
          }
        }
      ]
    },
    {
      "cell_type": "code",
      "source": [
        "df['merchant_id'].nunique()"
      ],
      "metadata": {
        "colab": {
          "base_uri": "https://localhost:8080/"
        },
        "id": "umzoPebkaeiW",
        "outputId": "d8a34ab0-d4e6-4b35-a0b8-2f5cc3f280e9"
      },
      "execution_count": 890,
      "outputs": [
        {
          "output_type": "execute_result",
          "data": {
            "text/plain": [
              "5725"
            ]
          },
          "metadata": {},
          "execution_count": 890
        }
      ]
    },
    {
      "cell_type": "code",
      "source": [
        "df_merch_id_values = df['merchant_id'].value_counts()\n",
        "df_merch_id_values = df_merch_id_values.reset_index()\n",
        "df_merch_id_values.columns = ['long_lat', 'values_count']\n",
        "# df_long_lat_values.head()\n",
        "sns.histplot(data=df_merch_id_values, x='values_count')"
      ],
      "metadata": {
        "colab": {
          "base_uri": "https://localhost:8080/",
          "height": 297
        },
        "id": "d1weurZEnmSz",
        "outputId": "2a22de3f-4d26-40d8-d883-bb8a1e5eeffc"
      },
      "execution_count": 891,
      "outputs": [
        {
          "output_type": "execute_result",
          "data": {
            "text/plain": [
              "<matplotlib.axes._subplots.AxesSubplot at 0x7f51144a9810>"
            ]
          },
          "metadata": {},
          "execution_count": 891
        },
        {
          "output_type": "display_data",
          "data": {
            "image/png": "[encoded data removed]",
            "text/plain": [
              "<Figure size 432x288 with 1 Axes>"
            ]
          },
          "metadata": {
            "needs_background": "light"
          }
        }
      ]
    },
    {
      "cell_type": "code",
      "source": [
        "df['merchant_id'].value_counts()"
      ],
      "metadata": {
        "colab": {
          "base_uri": "https://localhost:8080/"
        },
        "id": "NjfelvCCI_KE",
        "outputId": "c48d60d3-6708-4f50-9e7a-6182c2c7cf02"
      },
      "execution_count": 892,
      "outputs": [
        {
          "output_type": "execute_result",
          "data": {
            "text/plain": [
              "106e1272-44ab-4dcb-a438-dd98e0071e51    14\n",
              "6c84c219-96ea-4c6f-9de5-0a28bcaec62f    12\n",
              "e28c426d-cbef-4e2d-aa06-1ba0b6b1902f    11\n",
              "aef30de1-c67e-4ab7-8577-2931a4bf3c7e    10\n",
              "6ddddc40-5b69-4253-8a26-167999a8bf96    10\n",
              "                                        ..\n",
              "86dfcc0a-0f57-448b-ba3c-b63b39fbfb54     1\n",
              "05702806-40c5-4a79-82ac-e1bf781a723c     1\n",
              "1849e9a7-7371-4790-a05e-4814e8bbf478     1\n",
              "0ccf8fe8-0485-4d47-9cf3-a7cb185ac190     1\n",
              "afe3809f-76b3-4959-8a78-d620910b8762     1\n",
              "Name: merchant_id, Length: 5725, dtype: int64"
            ]
          },
          "metadata": {},
          "execution_count": 892
        }
      ]
    },
    {
      "cell_type": "code",
      "source": [
        "df['merchant_code'].unique()"
      ],
      "metadata": {
        "colab": {
          "base_uri": "https://localhost:8080/"
        },
        "id": "JsXrrLrFal-Q",
        "outputId": "c7686d5b-9b8b-4d9a-9517-218c78d767a9"
      },
      "execution_count": 893,
      "outputs": [
        {
          "output_type": "execute_result",
          "data": {
            "text/plain": [
              "array([nan,  0.])"
            ]
          },
          "metadata": {},
          "execution_count": 893
        }
      ]
    },
    {
      "cell_type": "code",
      "source": [
        "df_merch_code = df[['merchant_code']].copy().fillna(\"Missing\")\n",
        "sns.catplot(data=df_merch_code, y='merchant_code', kind='count')"
      ],
      "metadata": {
        "colab": {
          "base_uri": "https://localhost:8080/",
          "height": 387
        },
        "id": "mELCc-WQn4Ye",
        "outputId": "4795ade6-a378-43a5-841c-4597a1a344c6"
      },
      "execution_count": 894,
      "outputs": [
        {
          "output_type": "execute_result",
          "data": {
            "text/plain": [
              "<seaborn.axisgrid.FacetGrid at 0x7f511446f9d0>"
            ]
          },
          "metadata": {},
          "execution_count": 894
        },
        {
          "output_type": "display_data",
          "data": {
            "image/png": "[encoded data removed]",
            "text/plain": [
              "<Figure size 360x360 with 1 Axes>"
            ]
          },
          "metadata": {
            "needs_background": "light"
          }
        }
      ]
    },
    {
      "cell_type": "code",
      "source": [
        "df['first_name'].nunique()"
      ],
      "metadata": {
        "colab": {
          "base_uri": "https://localhost:8080/"
        },
        "id": "8B38FKQUas16",
        "outputId": "1a90bcb6-2c76-4439-a47b-f202718aa984"
      },
      "execution_count": 895,
      "outputs": [
        {
          "output_type": "execute_result",
          "data": {
            "text/plain": [
              "80"
            ]
          },
          "metadata": {},
          "execution_count": 895
        }
      ]
    },
    {
      "cell_type": "code",
      "source": [
        "df_fname_values = df['first_name'].value_counts()\n",
        "df_fname_values = df_fname_values.reset_index()\n",
        "df_fname_values.columns = ['first_name', 'values_count']\n",
        "# df_long_lat_values.head()\n",
        "sns.histplot(data=df_fname_values, x='values_count')"
      ],
      "metadata": {
        "colab": {
          "base_uri": "https://localhost:8080/",
          "height": 297
        },
        "id": "DhFy1aj1oRzb",
        "outputId": "fe2d738e-e048-4571-8ae5-5bb25a5d50cf"
      },
      "execution_count": 896,
      "outputs": [
        {
          "output_type": "execute_result",
          "data": {
            "text/plain": [
              "<matplotlib.axes._subplots.AxesSubplot at 0x7f511436f8d0>"
            ]
          },
          "metadata": {},
          "execution_count": 896
        },
        {
          "output_type": "display_data",
          "data": {
            "image/png": "[encoded data removed]",
            "text/plain": [
              "<Figure size 432x288 with 1 Axes>"
            ]
          },
          "metadata": {
            "needs_background": "light"
          }
        }
      ]
    },
    {
      "cell_type": "code",
      "source": [
        "df['balance'].nunique()"
      ],
      "metadata": {
        "colab": {
          "base_uri": "https://localhost:8080/"
        },
        "id": "C0G7E2eaazA6",
        "outputId": "ca1036d5-bb71-4e7c-adb2-61aa86aa2f47"
      },
      "execution_count": 897,
      "outputs": [
        {
          "output_type": "execute_result",
          "data": {
            "text/plain": [
              "12006"
            ]
          },
          "metadata": {},
          "execution_count": 897
        }
      ]
    },
    {
      "cell_type": "code",
      "source": [
        "sns.histplot(data=df, x='balance')"
      ],
      "metadata": {
        "colab": {
          "base_uri": "https://localhost:8080/",
          "height": 297
        },
        "id": "XJRibxzxocv1",
        "outputId": "e1ce7337-6038-440d-a3fd-0c90df8ac0f2"
      },
      "execution_count": 898,
      "outputs": [
        {
          "output_type": "execute_result",
          "data": {
            "text/plain": [
              "<matplotlib.axes._subplots.AxesSubplot at 0x7f51142853d0>"
            ]
          },
          "metadata": {},
          "execution_count": 898
        },
        {
          "output_type": "display_data",
          "data": {
            "image/png": "[encoded data removed]",
            "text/plain": [
              "<Figure size 432x288 with 1 Axes>"
            ]
          },
          "metadata": {
            "needs_background": "light"
          }
        }
      ]
    },
    {
      "cell_type": "code",
      "source": [
        "df['balance'].nlargest(10)"
      ],
      "metadata": {
        "colab": {
          "base_uri": "https://localhost:8080/"
        },
        "id": "E6q_ORoHJMh1",
        "outputId": "7d3f4181-565c-4fb7-d422-f447387a23a4"
      },
      "execution_count": 899,
      "outputs": [
        {
          "output_type": "execute_result",
          "data": {
            "text/plain": [
              "10467    267128.52\n",
              "10620    267093.66\n",
              "10637    267050.66\n",
              "10709    267028.97\n",
              "10715    266981.30\n",
              "10987    266916.32\n",
              "11003    266894.32\n",
              "11013    266877.26\n",
              "11123    266754.88\n",
              "11247    266704.88\n",
              "Name: balance, dtype: float64"
            ]
          },
          "metadata": {},
          "execution_count": 899
        }
      ]
    },
    {
      "cell_type": "code",
      "source": [
        "df['date'].nunique()"
      ],
      "metadata": {
        "colab": {
          "base_uri": "https://localhost:8080/"
        },
        "id": "XjegW6Hea21r",
        "outputId": "791ed0a4-6599-462a-8107-9b9f70cb5660"
      },
      "execution_count": 900,
      "outputs": [
        {
          "output_type": "execute_result",
          "data": {
            "text/plain": [
              "91"
            ]
          },
          "metadata": {},
          "execution_count": 900
        }
      ]
    },
    {
      "cell_type": "code",
      "source": [
        "df_date_values = df['date'].value_counts()\n",
        "df_date_values = df_date_values.reset_index()\n",
        "df_date_values.columns = ['date', 'values_count']\n",
        "# df_long_lat_values.head()\n",
        "sns.histplot(data=df_date_values, x='values_count')"
      ],
      "metadata": {
        "colab": {
          "base_uri": "https://localhost:8080/",
          "height": 297
        },
        "id": "xyaIvwCboo0Q",
        "outputId": "f61430c2-d32e-43f8-85d5-ffe2768da533"
      },
      "execution_count": 901,
      "outputs": [
        {
          "output_type": "execute_result",
          "data": {
            "text/plain": [
              "<matplotlib.axes._subplots.AxesSubplot at 0x7f5113f09350>"
            ]
          },
          "metadata": {},
          "execution_count": 901
        },
        {
          "output_type": "display_data",
          "data": {
            "image/png": "[encoded data removed]",
            "text/plain": [
              "<Figure size 432x288 with 1 Axes>"
            ]
          },
          "metadata": {
            "needs_background": "light"
          }
        }
      ]
    },
    {
      "cell_type": "code",
      "source": [
        "df['gender'].unique()"
      ],
      "metadata": {
        "colab": {
          "base_uri": "https://localhost:8080/"
        },
        "id": "9fFIrTa5a9PC",
        "outputId": "d85ea75c-c87c-423d-967f-fe348e6d39f8"
      },
      "execution_count": 902,
      "outputs": [
        {
          "output_type": "execute_result",
          "data": {
            "text/plain": [
              "array(['F', 'M'], dtype=object)"
            ]
          },
          "metadata": {},
          "execution_count": 902
        }
      ]
    },
    {
      "cell_type": "code",
      "source": [
        "sns.catplot(data=df, y='gender', kind='count')"
      ],
      "metadata": {
        "colab": {
          "base_uri": "https://localhost:8080/",
          "height": 387
        },
        "id": "0f8NMDMmo5oO",
        "outputId": "faf4792c-6a55-48bf-8c2d-dca986f51dad"
      },
      "execution_count": 903,
      "outputs": [
        {
          "output_type": "execute_result",
          "data": {
            "text/plain": [
              "<seaborn.axisgrid.FacetGrid at 0x7f511428c610>"
            ]
          },
          "metadata": {},
          "execution_count": 903
        },
        {
          "output_type": "display_data",
          "data": {
            "image/png": "[encoded data removed]",
            "text/plain": [
              "<Figure size 360x360 with 1 Axes>"
            ]
          },
          "metadata": {
            "needs_background": "light"
          }
        }
      ]
    },
    {
      "cell_type": "code",
      "source": [
        "df['age'].nunique()"
      ],
      "metadata": {
        "colab": {
          "base_uri": "https://localhost:8080/"
        },
        "id": "Uw8ntmlFbCNC",
        "outputId": "2ea48589-c050-42ef-956c-5f18aae171e7"
      },
      "execution_count": 904,
      "outputs": [
        {
          "output_type": "execute_result",
          "data": {
            "text/plain": [
              "33"
            ]
          },
          "metadata": {},
          "execution_count": 904
        }
      ]
    },
    {
      "cell_type": "code",
      "source": [
        "sns.histplot(data=df, x='age')"
      ],
      "metadata": {
        "colab": {
          "base_uri": "https://localhost:8080/",
          "height": 297
        },
        "id": "Jzp0iN4AuzXm",
        "outputId": "7f5f8a6a-6d23-4a69-82b7-b7567e5548c9"
      },
      "execution_count": 905,
      "outputs": [
        {
          "output_type": "execute_result",
          "data": {
            "text/plain": [
              "<matplotlib.axes._subplots.AxesSubplot at 0x7f5113e69410>"
            ]
          },
          "metadata": {},
          "execution_count": 905
        },
        {
          "output_type": "display_data",
          "data": {
            "image/png": "[encoded data removed]",
            "text/plain": [
              "<Figure size 432x288 with 1 Axes>"
            ]
          },
          "metadata": {
            "needs_background": "light"
          }
        }
      ]
    },
    {
      "cell_type": "code",
      "source": [
        "df['merchant_suburb'].nunique()"
      ],
      "metadata": {
        "colab": {
          "base_uri": "https://localhost:8080/"
        },
        "id": "o5AM81D0bGoX",
        "outputId": "03fcabee-2e1e-45ff-ce9c-10bc39b469c5"
      },
      "execution_count": 906,
      "outputs": [
        {
          "output_type": "execute_result",
          "data": {
            "text/plain": [
              "1609"
            ]
          },
          "metadata": {},
          "execution_count": 906
        }
      ]
    },
    {
      "cell_type": "code",
      "source": [
        "df_merchant_suburb_values = df['merchant_suburb'].value_counts()\n",
        "df_merchant_suburb_values = df_merchant_suburb_values.reset_index()\n",
        "df_merchant_suburb_values.columns = ['merchant_suburb', 'values_count']\n",
        "# df_long_lat_values.head()\n",
        "sns.histplot(data=df_merchant_suburb_values, x='values_count')\n"
      ],
      "metadata": {
        "colab": {
          "base_uri": "https://localhost:8080/",
          "height": 298
        },
        "id": "WiAsUGlxvVXS",
        "outputId": "10146da8-5e27-465c-fb34-1889740702f9"
      },
      "execution_count": 907,
      "outputs": [
        {
          "output_type": "execute_result",
          "data": {
            "text/plain": [
              "<matplotlib.axes._subplots.AxesSubplot at 0x7f5113d82bd0>"
            ]
          },
          "metadata": {},
          "execution_count": 907
        },
        {
          "output_type": "display_data",
          "data": {
            "image/png": "[encoded data removed]",
            "text/plain": [
              "<Figure size 432x288 with 1 Axes>"
            ]
          },
          "metadata": {
            "needs_background": "light"
          }
        }
      ]
    },
    {
      "cell_type": "code",
      "source": [
        "df_merchant_suburb_values.max()"
      ],
      "metadata": {
        "colab": {
          "base_uri": "https://localhost:8080/"
        },
        "id": "vhPV2njTvaUr",
        "outputId": "9a83f598-f6b0-4944-f16f-b83594a4b5f8"
      },
      "execution_count": 908,
      "outputs": [
        {
          "output_type": "execute_result",
          "data": {
            "text/plain": [
              "merchant_suburb    Zuccoli\n",
              "values_count           255\n",
              "dtype: object"
            ]
          },
          "metadata": {},
          "execution_count": 908
        }
      ]
    },
    {
      "cell_type": "code",
      "source": [
        "df['merchant_state'].unique()"
      ],
      "metadata": {
        "colab": {
          "base_uri": "https://localhost:8080/"
        },
        "id": "sxZWHy-JbLHa",
        "outputId": "8d835c87-8d67-4603-f704-a4444379f511"
      },
      "execution_count": 909,
      "outputs": [
        {
          "output_type": "execute_result",
          "data": {
            "text/plain": [
              "array(['QLD', 'NSW', nan, 'VIC', 'WA', 'SA', 'NT', 'TAS', 'ACT'],\n",
              "      dtype=object)"
            ]
          },
          "metadata": {},
          "execution_count": 909
        }
      ]
    },
    {
      "cell_type": "code",
      "source": [
        "df['merchant_state'].value_counts()"
      ],
      "metadata": {
        "colab": {
          "base_uri": "https://localhost:8080/"
        },
        "id": "b3H25utjv8CG",
        "outputId": "9d85c2eb-b8af-4e12-e82b-95c814eff751"
      },
      "execution_count": 910,
      "outputs": [
        {
          "output_type": "execute_result",
          "data": {
            "text/plain": [
              "NSW    2169\n",
              "VIC    2131\n",
              "QLD    1556\n",
              "WA     1100\n",
              "SA      415\n",
              "NT      205\n",
              "ACT      73\n",
              "TAS      68\n",
              "Name: merchant_state, dtype: int64"
            ]
          },
          "metadata": {},
          "execution_count": 910
        }
      ]
    },
    {
      "cell_type": "code",
      "source": [
        "sns.catplot(data=df, x='merchant_state', kind='count', order=df['merchant_state'].value_counts().index)"
      ],
      "metadata": {
        "colab": {
          "base_uri": "https://localhost:8080/",
          "height": 387
        },
        "id": "d7M7nO-y7QGt",
        "outputId": "965b3843-c6ba-4dae-f754-872989a6db14"
      },
      "execution_count": 911,
      "outputs": [
        {
          "output_type": "execute_result",
          "data": {
            "text/plain": [
              "<seaborn.axisgrid.FacetGrid at 0x7f5113d77a10>"
            ]
          },
          "metadata": {},
          "execution_count": 911
        },
        {
          "output_type": "display_data",
          "data": {
            "image/png": "[encoded data removed]",
            "text/plain": [
              "<Figure size 360x360 with 1 Axes>"
            ]
          },
          "metadata": {
            "needs_background": "light"
          }
        }
      ]
    },
    {
      "cell_type": "code",
      "source": [
        "df['extraction'].nunique()"
      ],
      "metadata": {
        "colab": {
          "base_uri": "https://localhost:8080/"
        },
        "id": "G3W11Q76bdRb",
        "outputId": "84b42eb9-e91e-4fdd-b054-740f31545540"
      },
      "execution_count": 912,
      "outputs": [
        {
          "output_type": "execute_result",
          "data": {
            "text/plain": [
              "9442"
            ]
          },
          "metadata": {},
          "execution_count": 912
        }
      ]
    },
    {
      "cell_type": "code",
      "source": [
        "df['extraction_year'].value_counts()"
      ],
      "metadata": {
        "colab": {
          "base_uri": "https://localhost:8080/"
        },
        "id": "7zOsKVsp6jtw",
        "outputId": "627cf35f-99c0-4f76-a715-7ca3c39f09e6"
      },
      "execution_count": 913,
      "outputs": [
        {
          "output_type": "execute_result",
          "data": {
            "text/plain": [
              "2018    12043\n",
              "Name: extraction_year, dtype: int64"
            ]
          },
          "metadata": {},
          "execution_count": 913
        }
      ]
    },
    {
      "cell_type": "code",
      "source": [
        "df['extraction_month_name'].value_counts()\n",
        "# sns.catplot(data=df, y='extraction_month_name', kind='count')"
      ],
      "metadata": {
        "colab": {
          "base_uri": "https://localhost:8080/"
        },
        "id": "NtX2wZnq61s7",
        "outputId": "e7953d2f-3890-4cb2-f418-b57158562418"
      },
      "execution_count": 914,
      "outputs": [
        {
          "output_type": "execute_result",
          "data": {
            "text/plain": [
              "October      4087\n",
              "September    4013\n",
              "August       3943\n",
              "Name: extraction_month_name, dtype: int64"
            ]
          },
          "metadata": {},
          "execution_count": 914
        }
      ]
    },
    {
      "cell_type": "code",
      "source": [
        "# df['extraction_day_name'].value_counts()\n",
        "sns.catplot(data=df, y='extraction_day_name', kind='count', order=df['extraction_day_name'].value_counts().index)"
      ],
      "metadata": {
        "colab": {
          "base_uri": "https://localhost:8080/",
          "height": 387
        },
        "id": "0IowC8FZ66Z3",
        "outputId": "7d295177-ae86-4c9c-adfd-e9a86bf9c2ac"
      },
      "execution_count": 915,
      "outputs": [
        {
          "output_type": "execute_result",
          "data": {
            "text/plain": [
              "<seaborn.axisgrid.FacetGrid at 0x7f5113885750>"
            ]
          },
          "metadata": {},
          "execution_count": 915
        },
        {
          "output_type": "display_data",
          "data": {
            "image/png": "[encoded data removed]",
            "text/plain": [
              "<Figure size 360x360 with 1 Axes>"
            ]
          },
          "metadata": {
            "needs_background": "light"
          }
        }
      ]
    },
    {
      "cell_type": "code",
      "source": [
        "sns.catplot(data=df, x='extraction_hour', kind='count', order=df['extraction_hour'].value_counts().index)"
      ],
      "metadata": {
        "colab": {
          "base_uri": "https://localhost:8080/",
          "height": 387
        },
        "id": "qedOU9iV9BwT",
        "outputId": "01e34a6e-43d5-4a9c-cbf7-47c5dee6b4bb"
      },
      "execution_count": 916,
      "outputs": [
        {
          "output_type": "execute_result",
          "data": {
            "text/plain": [
              "<seaborn.axisgrid.FacetGrid at 0x7f5113845290>"
            ]
          },
          "metadata": {},
          "execution_count": 916
        },
        {
          "output_type": "display_data",
          "data": {
            "image/png": "[encoded data removed]",
            "text/plain": [
              "<Figure size 360x360 with 1 Axes>"
            ]
          },
          "metadata": {
            "needs_background": "light"
          }
        }
      ]
    },
    {
      "cell_type": "code",
      "source": [
        "df['amount'].nunique()"
      ],
      "metadata": {
        "colab": {
          "base_uri": "https://localhost:8080/"
        },
        "id": "V-ik54TDbgXl",
        "outputId": "521b33c5-b0aa-464a-b347-d5c7b84702b9"
      },
      "execution_count": 917,
      "outputs": [
        {
          "output_type": "execute_result",
          "data": {
            "text/plain": [
              "4457"
            ]
          },
          "metadata": {},
          "execution_count": 917
        }
      ]
    },
    {
      "cell_type": "code",
      "source": [
        "df.loc[df['movement']=='debit'].head(3)"
      ],
      "metadata": {
        "colab": {
          "base_uri": "https://localhost:8080/",
          "height": 319
        },
        "id": "OuLA-WyaX2SI",
        "outputId": "ba12cedb-3903-4991-b6cb-99fc3a7698b9"
      },
      "execution_count": 918,
      "outputs": [
        {
          "output_type": "execute_result",
          "data": {
            "text/html": [
              "<div>\n",
              "<style scoped>\n",
              "    .dataframe tbody tr th:only-of-type {\n",
              "        vertical-align: middle;\n",
              "    }\n",
              "\n",
              "    .dataframe tbody tr th {\n",
              "        vertical-align: top;\n",
              "    }\n",
              "\n",
              "    .dataframe thead th {\n",
              "        text-align: right;\n",
              "    }\n",
              "</style>\n",
              "<table border=\"1\" class=\"dataframe\">\n",
              "  <thead>\n",
              "    <tr style=\"text-align: right;\">\n",
              "      <th></th>\n",
              "      <th>status</th>\n",
              "      <th>card_present_flag</th>\n",
              "      <th>bpay_biller_code</th>\n",
              "      <th>account</th>\n",
              "      <th>currency</th>\n",
              "      <th>long_lat</th>\n",
              "      <th>txn_description</th>\n",
              "      <th>merchant_id</th>\n",
              "      <th>merchant_code</th>\n",
              "      <th>first_name</th>\n",
              "      <th>balance</th>\n",
              "      <th>date</th>\n",
              "      <th>gender</th>\n",
              "      <th>age</th>\n",
              "      <th>merchant_suburb</th>\n",
              "      <th>merchant_state</th>\n",
              "      <th>extraction</th>\n",
              "      <th>amount</th>\n",
              "      <th>transaction_id</th>\n",
              "      <th>country</th>\n",
              "      <th>customer_id</th>\n",
              "      <th>merchant_long_lat</th>\n",
              "      <th>movement</th>\n",
              "      <th>extraction_date</th>\n",
              "      <th>extraction_month_name</th>\n",
              "      <th>extraction_year</th>\n",
              "      <th>extraction_day_name</th>\n",
              "      <th>extraction_hour</th>\n",
              "    </tr>\n",
              "  </thead>\n",
              "  <tbody>\n",
              "    <tr>\n",
              "      <th>0</th>\n",
              "      <td>authorized</td>\n",
              "      <td>1.0</td>\n",
              "      <td>NaN</td>\n",
              "      <td>ACC-1598451071</td>\n",
              "      <td>AUD</td>\n",
              "      <td>153.41 -27.95</td>\n",
              "      <td>POS</td>\n",
              "      <td>81c48296-73be-44a7-befa-d053f48ce7cd</td>\n",
              "      <td>NaN</td>\n",
              "      <td>Diana</td>\n",
              "      <td>35.39</td>\n",
              "      <td>2018-08-01</td>\n",
              "      <td>F</td>\n",
              "      <td>26</td>\n",
              "      <td>Ashmore</td>\n",
              "      <td>QLD</td>\n",
              "      <td>2018-08-01 01:01:15+00:00</td>\n",
              "      <td>16.25</td>\n",
              "      <td>a623070bfead4541a6b0fff8a09e706c</td>\n",
              "      <td>Australia</td>\n",
              "      <td>CUS-2487424745</td>\n",
              "      <td>153.38 -27.99</td>\n",
              "      <td>debit</td>\n",
              "      <td>2018-08-01</td>\n",
              "      <td>August</td>\n",
              "      <td>2018</td>\n",
              "      <td>Wednesday</td>\n",
              "      <td>1</td>\n",
              "    </tr>\n",
              "    <tr>\n",
              "      <th>1</th>\n",
              "      <td>authorized</td>\n",
              "      <td>0.0</td>\n",
              "      <td>NaN</td>\n",
              "      <td>ACC-1598451071</td>\n",
              "      <td>AUD</td>\n",
              "      <td>153.41 -27.95</td>\n",
              "      <td>SALES-POS</td>\n",
              "      <td>830a451c-316e-4a6a-bf25-e37caedca49e</td>\n",
              "      <td>NaN</td>\n",
              "      <td>Diana</td>\n",
              "      <td>21.20</td>\n",
              "      <td>2018-08-01</td>\n",
              "      <td>F</td>\n",
              "      <td>26</td>\n",
              "      <td>Sydney</td>\n",
              "      <td>NSW</td>\n",
              "      <td>2018-08-01 01:13:45+00:00</td>\n",
              "      <td>14.19</td>\n",
              "      <td>13270a2a902145da9db4c951e04b51b9</td>\n",
              "      <td>Australia</td>\n",
              "      <td>CUS-2487424745</td>\n",
              "      <td>151.21 -33.87</td>\n",
              "      <td>debit</td>\n",
              "      <td>2018-08-01</td>\n",
              "      <td>August</td>\n",
              "      <td>2018</td>\n",
              "      <td>Wednesday</td>\n",
              "      <td>1</td>\n",
              "    </tr>\n",
              "    <tr>\n",
              "      <th>2</th>\n",
              "      <td>authorized</td>\n",
              "      <td>1.0</td>\n",
              "      <td>NaN</td>\n",
              "      <td>ACC-1222300524</td>\n",
              "      <td>AUD</td>\n",
              "      <td>151.23 -33.94</td>\n",
              "      <td>POS</td>\n",
              "      <td>835c231d-8cdf-4e96-859d-e9d571760cf0</td>\n",
              "      <td>NaN</td>\n",
              "      <td>Michael</td>\n",
              "      <td>5.71</td>\n",
              "      <td>2018-08-01</td>\n",
              "      <td>M</td>\n",
              "      <td>38</td>\n",
              "      <td>Sydney</td>\n",
              "      <td>NSW</td>\n",
              "      <td>2018-08-01 01:26:15+00:00</td>\n",
              "      <td>6.42</td>\n",
              "      <td>feb79e7ecd7048a5a36ec889d1a94270</td>\n",
              "      <td>Australia</td>\n",
              "      <td>CUS-2142601169</td>\n",
              "      <td>151.21 -33.87</td>\n",
              "      <td>debit</td>\n",
              "      <td>2018-08-01</td>\n",
              "      <td>August</td>\n",
              "      <td>2018</td>\n",
              "      <td>Wednesday</td>\n",
              "      <td>1</td>\n",
              "    </tr>\n",
              "  </tbody>\n",
              "</table>\n",
              "</div>"
            ],
            "text/plain": [
              "       status  card_present_flag  ... extraction_day_name extraction_hour\n",
              "0  authorized                1.0  ...           Wednesday               1\n",
              "1  authorized                0.0  ...           Wednesday               1\n",
              "2  authorized                1.0  ...           Wednesday               1\n",
              "\n",
              "[3 rows x 28 columns]"
            ]
          },
          "metadata": {},
          "execution_count": 918
        }
      ]
    },
    {
      "cell_type": "code",
      "source": [
        "df.loc[df['movement']=='debit']['amount'].mean()"
      ],
      "metadata": {
        "colab": {
          "base_uri": "https://localhost:8080/"
        },
        "id": "qDPJ6tuOaxG2",
        "outputId": "8b6160e3-64d3-477f-99b1-3fc5ecb8c347"
      },
      "execution_count": 919,
      "outputs": [
        {
          "output_type": "execute_result",
          "data": {
            "text/plain": [
              "52.57234318996403"
            ]
          },
          "metadata": {},
          "execution_count": 919
        }
      ]
    },
    {
      "cell_type": "code",
      "source": [
        "df.loc[df['movement']=='debit']['amount'].median()"
      ],
      "metadata": {
        "colab": {
          "base_uri": "https://localhost:8080/"
        },
        "id": "1QgsAKvha33y",
        "outputId": "d0669ce1-a093-4819-f2d6-4c1493f9fe18"
      },
      "execution_count": 920,
      "outputs": [
        {
          "output_type": "execute_result",
          "data": {
            "text/plain": [
              "26.93"
            ]
          },
          "metadata": {},
          "execution_count": 920
        }
      ]
    },
    {
      "cell_type": "code",
      "source": [
        "df.loc[df['movement']=='debit']['amount'].max()"
      ],
      "metadata": {
        "colab": {
          "base_uri": "https://localhost:8080/"
        },
        "id": "1j2OzSDMa8j2",
        "outputId": "2d30a122-9c6f-4396-8a04-b398e0212066"
      },
      "execution_count": 921,
      "outputs": [
        {
          "output_type": "execute_result",
          "data": {
            "text/plain": [
              "7081.09"
            ]
          },
          "metadata": {},
          "execution_count": 921
        }
      ]
    },
    {
      "cell_type": "code",
      "source": [
        "df.loc[df['movement']=='debit']['amount'].min()"
      ],
      "metadata": {
        "colab": {
          "base_uri": "https://localhost:8080/"
        },
        "id": "-DZh-uh7a_BZ",
        "outputId": "0a8c8ec6-1a70-4983-9faa-06b9ceeb6e98"
      },
      "execution_count": 922,
      "outputs": [
        {
          "output_type": "execute_result",
          "data": {
            "text/plain": [
              "0.1"
            ]
          },
          "metadata": {},
          "execution_count": 922
        }
      ]
    },
    {
      "cell_type": "code",
      "source": [
        "sns.boxplot(data=df, x='amount', y='movement')"
      ],
      "metadata": {
        "colab": {
          "base_uri": "https://localhost:8080/",
          "height": 297
        },
        "id": "h5hDwAYWbNlO",
        "outputId": "34cd924e-b0a6-4ec3-c693-da7957f1ff0f"
      },
      "execution_count": 923,
      "outputs": [
        {
          "output_type": "execute_result",
          "data": {
            "text/plain": [
              "<matplotlib.axes._subplots.AxesSubplot at 0x7f51137582d0>"
            ]
          },
          "metadata": {},
          "execution_count": 923
        },
        {
          "output_type": "display_data",
          "data": {
            "image/png": "[encoded data removed]",
            "text/plain": [
              "<Figure size 432x288 with 1 Axes>"
            ]
          },
          "metadata": {
            "needs_background": "light"
          }
        }
      ]
    },
    {
      "cell_type": "code",
      "source": [
        "sns.histplot(data=df, x='amount')"
      ],
      "metadata": {
        "colab": {
          "base_uri": "https://localhost:8080/",
          "height": 297
        },
        "id": "erifnfvSaUlK",
        "outputId": "5a689a79-7305-4f67-c40b-9d7b0bf7233c"
      },
      "execution_count": 924,
      "outputs": [
        {
          "output_type": "execute_result",
          "data": {
            "text/plain": [
              "<matplotlib.axes._subplots.AxesSubplot at 0x7f511601dc10>"
            ]
          },
          "metadata": {},
          "execution_count": 924
        },
        {
          "output_type": "display_data",
          "data": {
            "image/png": "[encoded data removed]",
            "text/plain": [
              "<Figure size 432x288 with 1 Axes>"
            ]
          },
          "metadata": {
            "needs_background": "light"
          }
        }
      ]
    },
    {
      "cell_type": "code",
      "source": [
        "sns.histplot(data=df.loc[df['movement']=='debit'], x='amount')"
      ],
      "metadata": {
        "colab": {
          "base_uri": "https://localhost:8080/",
          "height": 297
        },
        "id": "iJX5ELBHajtG",
        "outputId": "264fe9d0-809d-4626-d30a-de8b9d54b830"
      },
      "execution_count": 925,
      "outputs": [
        {
          "output_type": "execute_result",
          "data": {
            "text/plain": [
              "<matplotlib.axes._subplots.AxesSubplot at 0x7f5111ad0e10>"
            ]
          },
          "metadata": {},
          "execution_count": 925
        },
        {
          "output_type": "display_data",
          "data": {
            "image/png": "[encoded data removed]",
            "text/plain": [
              "<Figure size 432x288 with 1 Axes>"
            ]
          },
          "metadata": {
            "needs_background": "light"
          }
        }
      ]
    },
    {
      "cell_type": "code",
      "source": [
        "sns.histplot(data=df.loc[df['movement']=='credit'], x='amount')"
      ],
      "metadata": {
        "colab": {
          "base_uri": "https://localhost:8080/",
          "height": 297
        },
        "id": "xtevr_es9bVS",
        "outputId": "eed2b0e9-e4ca-4c64-c486-2e39ae3471c0"
      },
      "execution_count": 926,
      "outputs": [
        {
          "output_type": "execute_result",
          "data": {
            "text/plain": [
              "<matplotlib.axes._subplots.AxesSubplot at 0x7f51119f62d0>"
            ]
          },
          "metadata": {},
          "execution_count": 926
        },
        {
          "output_type": "display_data",
          "data": {
            "image/png": "[encoded data removed]",
            "text/plain": [
              "<Figure size 432x288 with 1 Axes>"
            ]
          },
          "metadata": {
            "needs_background": "light"
          }
        }
      ]
    },
    {
      "cell_type": "code",
      "source": [
        "df.loc[df['movement']=='credit']['amount'].mean()"
      ],
      "metadata": {
        "colab": {
          "base_uri": "https://localhost:8080/"
        },
        "id": "-E6QFec0bjPE",
        "outputId": "78ab38d2-72db-43c0-8ac1-87d7074e296c"
      },
      "execution_count": 927,
      "outputs": [
        {
          "output_type": "execute_result",
          "data": {
            "text/plain": [
              "1898.7280294450716"
            ]
          },
          "metadata": {},
          "execution_count": 927
        }
      ]
    },
    {
      "cell_type": "code",
      "source": [
        "df.loc[df['movement']=='credit']['amount'].median()"
      ],
      "metadata": {
        "colab": {
          "base_uri": "https://localhost:8080/"
        },
        "id": "FLQSArC6btyO",
        "outputId": "79d2bf70-2da6-4027-efbf-6aa1dcdda61b"
      },
      "execution_count": 928,
      "outputs": [
        {
          "output_type": "execute_result",
          "data": {
            "text/plain": [
              "1626.48"
            ]
          },
          "metadata": {},
          "execution_count": 928
        }
      ]
    },
    {
      "cell_type": "code",
      "source": [
        "df.loc[df['movement']=='credit']['amount'].min()"
      ],
      "metadata": {
        "colab": {
          "base_uri": "https://localhost:8080/"
        },
        "id": "H8SVvSNMbvWf",
        "outputId": "f4928df0-b0de-4db7-eb1d-1b42a4f55356"
      },
      "execution_count": 929,
      "outputs": [
        {
          "output_type": "execute_result",
          "data": {
            "text/plain": [
              "576.0"
            ]
          },
          "metadata": {},
          "execution_count": 929
        }
      ]
    },
    {
      "cell_type": "code",
      "source": [
        "df.loc[df['movement']=='credit']['amount'].max()"
      ],
      "metadata": {
        "colab": {
          "base_uri": "https://localhost:8080/"
        },
        "id": "PL0zV-RWbxWE",
        "outputId": "f243822d-2589-491a-cd29-1d487366f9a8"
      },
      "execution_count": 930,
      "outputs": [
        {
          "output_type": "execute_result",
          "data": {
            "text/plain": [
              "8835.98"
            ]
          },
          "metadata": {},
          "execution_count": 930
        }
      ]
    },
    {
      "cell_type": "code",
      "source": [
        "df_amount_values = df['amount'].value_counts().reset_index()\n",
        "df_amount_values.columns = ['amount', 'frequency']\n",
        "df_amount_values[df_amount_values['amount'].isin(df_amount_values['amount'].nlargest(10))].sort_values(by='amount', ascending=False)"
      ],
      "metadata": {
        "colab": {
          "base_uri": "https://localhost:8080/",
          "height": 362
        },
        "id": "p363zQE99ny2",
        "outputId": "dce0555d-c053-4adf-c2cf-67b86b681ee3"
      },
      "execution_count": 931,
      "outputs": [
        {
          "output_type": "execute_result",
          "data": {
            "text/html": [
              "<div>\n",
              "<style scoped>\n",
              "    .dataframe tbody tr th:only-of-type {\n",
              "        vertical-align: middle;\n",
              "    }\n",
              "\n",
              "    .dataframe tbody tr th {\n",
              "        vertical-align: top;\n",
              "    }\n",
              "\n",
              "    .dataframe thead th {\n",
              "        text-align: right;\n",
              "    }\n",
              "</style>\n",
              "<table border=\"1\" class=\"dataframe\">\n",
              "  <thead>\n",
              "    <tr style=\"text-align: right;\">\n",
              "      <th></th>\n",
              "      <th>amount</th>\n",
              "      <th>frequency</th>\n",
              "    </tr>\n",
              "  </thead>\n",
              "  <tbody>\n",
              "    <tr>\n",
              "      <th>578</th>\n",
              "      <td>8835.98</td>\n",
              "      <td>4</td>\n",
              "    </tr>\n",
              "    <tr>\n",
              "      <th>2719</th>\n",
              "      <td>7081.09</td>\n",
              "      <td>1</td>\n",
              "    </tr>\n",
              "    <tr>\n",
              "      <th>1514</th>\n",
              "      <td>6107.23</td>\n",
              "      <td>2</td>\n",
              "    </tr>\n",
              "    <tr>\n",
              "      <th>1912</th>\n",
              "      <td>6024.49</td>\n",
              "      <td>2</td>\n",
              "    </tr>\n",
              "    <tr>\n",
              "      <th>401</th>\n",
              "      <td>5103.51</td>\n",
              "      <td>5</td>\n",
              "    </tr>\n",
              "    <tr>\n",
              "      <th>1821</th>\n",
              "      <td>4910.90</td>\n",
              "      <td>2</td>\n",
              "    </tr>\n",
              "    <tr>\n",
              "      <th>1271</th>\n",
              "      <td>4863.62</td>\n",
              "      <td>2</td>\n",
              "    </tr>\n",
              "    <tr>\n",
              "      <th>180</th>\n",
              "      <td>4405.30</td>\n",
              "      <td>7</td>\n",
              "    </tr>\n",
              "    <tr>\n",
              "      <th>2884</th>\n",
              "      <td>4233.00</td>\n",
              "      <td>1</td>\n",
              "    </tr>\n",
              "    <tr>\n",
              "      <th>146</th>\n",
              "      <td>4216.04</td>\n",
              "      <td>7</td>\n",
              "    </tr>\n",
              "  </tbody>\n",
              "</table>\n",
              "</div>"
            ],
            "text/plain": [
              "       amount  frequency\n",
              "578   8835.98          4\n",
              "2719  7081.09          1\n",
              "1514  6107.23          2\n",
              "1912  6024.49          2\n",
              "401   5103.51          5\n",
              "1821  4910.90          2\n",
              "1271  4863.62          2\n",
              "180   4405.30          7\n",
              "2884  4233.00          1\n",
              "146   4216.04          7"
            ]
          },
          "metadata": {},
          "execution_count": 931
        }
      ]
    },
    {
      "cell_type": "code",
      "source": [
        "df[df['amount'].isin(df['amount'].nlargest(10))]"
      ],
      "metadata": {
        "colab": {
          "base_uri": "https://localhost:8080/",
          "height": 786
        },
        "id": "79W7TCH_AI4H",
        "outputId": "2ddf85a1-601c-471e-8b97-4b50db3ffce3"
      },
      "execution_count": 932,
      "outputs": [
        {
          "output_type": "execute_result",
          "data": {
            "text/html": [
              "<div>\n",
              "<style scoped>\n",
              "    .dataframe tbody tr th:only-of-type {\n",
              "        vertical-align: middle;\n",
              "    }\n",
              "\n",
              "    .dataframe tbody tr th {\n",
              "        vertical-align: top;\n",
              "    }\n",
              "\n",
              "    .dataframe thead th {\n",
              "        text-align: right;\n",
              "    }\n",
              "</style>\n",
              "<table border=\"1\" class=\"dataframe\">\n",
              "  <thead>\n",
              "    <tr style=\"text-align: right;\">\n",
              "      <th></th>\n",
              "      <th>status</th>\n",
              "      <th>card_present_flag</th>\n",
              "      <th>bpay_biller_code</th>\n",
              "      <th>account</th>\n",
              "      <th>currency</th>\n",
              "      <th>long_lat</th>\n",
              "      <th>txn_description</th>\n",
              "      <th>merchant_id</th>\n",
              "      <th>merchant_code</th>\n",
              "      <th>first_name</th>\n",
              "      <th>balance</th>\n",
              "      <th>date</th>\n",
              "      <th>gender</th>\n",
              "      <th>age</th>\n",
              "      <th>merchant_suburb</th>\n",
              "      <th>merchant_state</th>\n",
              "      <th>extraction</th>\n",
              "      <th>amount</th>\n",
              "      <th>transaction_id</th>\n",
              "      <th>country</th>\n",
              "      <th>customer_id</th>\n",
              "      <th>merchant_long_lat</th>\n",
              "      <th>movement</th>\n",
              "      <th>extraction_date</th>\n",
              "      <th>extraction_month_name</th>\n",
              "      <th>extraction_year</th>\n",
              "      <th>extraction_day_name</th>\n",
              "      <th>extraction_hour</th>\n",
              "    </tr>\n",
              "  </thead>\n",
              "  <tbody>\n",
              "    <tr>\n",
              "      <th>833</th>\n",
              "      <td>posted</td>\n",
              "      <td>NaN</td>\n",
              "      <td>0</td>\n",
              "      <td>ACC-2673069055</td>\n",
              "      <td>AUD</td>\n",
              "      <td>152.99 -27.49</td>\n",
              "      <td>PAY/SALARY</td>\n",
              "      <td>NaN</td>\n",
              "      <td>0.0</td>\n",
              "      <td>Richard</td>\n",
              "      <td>17127.02</td>\n",
              "      <td>2018-08-07</td>\n",
              "      <td>M</td>\n",
              "      <td>24</td>\n",
              "      <td>NaN</td>\n",
              "      <td>NaN</td>\n",
              "      <td>2018-08-07 15:00:00+00:00</td>\n",
              "      <td>6024.49</td>\n",
              "      <td>b2fedeaf02a6485ba4cf3be69b56a80b</td>\n",
              "      <td>Australia</td>\n",
              "      <td>CUS-51506836</td>\n",
              "      <td>NaN</td>\n",
              "      <td>credit</td>\n",
              "      <td>2018-08-07</td>\n",
              "      <td>August</td>\n",
              "      <td>2018</td>\n",
              "      <td>Tuesday</td>\n",
              "      <td>15</td>\n",
              "    </tr>\n",
              "    <tr>\n",
              "      <th>1858</th>\n",
              "      <td>posted</td>\n",
              "      <td>NaN</td>\n",
              "      <td>0</td>\n",
              "      <td>ACC-354106658</td>\n",
              "      <td>AUD</td>\n",
              "      <td>151.04 -33.80</td>\n",
              "      <td>PAY/SALARY</td>\n",
              "      <td>NaN</td>\n",
              "      <td>0.0</td>\n",
              "      <td>Christine</td>\n",
              "      <td>8754.76</td>\n",
              "      <td>2018-08-15</td>\n",
              "      <td>F</td>\n",
              "      <td>39</td>\n",
              "      <td>NaN</td>\n",
              "      <td>NaN</td>\n",
              "      <td>2018-08-15 15:00:00+00:00</td>\n",
              "      <td>5103.51</td>\n",
              "      <td>41ce67e6c8a4474385fd1646963b6758</td>\n",
              "      <td>Australia</td>\n",
              "      <td>CUS-2376382098</td>\n",
              "      <td>NaN</td>\n",
              "      <td>credit</td>\n",
              "      <td>2018-08-15</td>\n",
              "      <td>August</td>\n",
              "      <td>2018</td>\n",
              "      <td>Wednesday</td>\n",
              "      <td>15</td>\n",
              "    </tr>\n",
              "    <tr>\n",
              "      <th>2401</th>\n",
              "      <td>posted</td>\n",
              "      <td>NaN</td>\n",
              "      <td>0</td>\n",
              "      <td>ACC-1523339231</td>\n",
              "      <td>AUD</td>\n",
              "      <td>115.83 -31.90</td>\n",
              "      <td>PAY/SALARY</td>\n",
              "      <td>NaN</td>\n",
              "      <td>0.0</td>\n",
              "      <td>Tim</td>\n",
              "      <td>62647.22</td>\n",
              "      <td>2018-08-20</td>\n",
              "      <td>M</td>\n",
              "      <td>40</td>\n",
              "      <td>NaN</td>\n",
              "      <td>NaN</td>\n",
              "      <td>2018-08-20 13:00:00+00:00</td>\n",
              "      <td>8835.98</td>\n",
              "      <td>b608ce5142664a79af4fa071a886c8f7</td>\n",
              "      <td>Australia</td>\n",
              "      <td>CUS-1816693151</td>\n",
              "      <td>NaN</td>\n",
              "      <td>credit</td>\n",
              "      <td>2018-08-20</td>\n",
              "      <td>August</td>\n",
              "      <td>2018</td>\n",
              "      <td>Monday</td>\n",
              "      <td>13</td>\n",
              "    </tr>\n",
              "    <tr>\n",
              "      <th>4822</th>\n",
              "      <td>posted</td>\n",
              "      <td>NaN</td>\n",
              "      <td>0</td>\n",
              "      <td>ACC-2673069055</td>\n",
              "      <td>AUD</td>\n",
              "      <td>152.99 -27.49</td>\n",
              "      <td>PAY/SALARY</td>\n",
              "      <td>NaN</td>\n",
              "      <td>0.0</td>\n",
              "      <td>Richard</td>\n",
              "      <td>21158.28</td>\n",
              "      <td>2018-09-07</td>\n",
              "      <td>M</td>\n",
              "      <td>24</td>\n",
              "      <td>NaN</td>\n",
              "      <td>NaN</td>\n",
              "      <td>2018-09-07 15:00:00+00:00</td>\n",
              "      <td>6024.49</td>\n",
              "      <td>2a20583ac7ce4bffa46624de2f94d5af</td>\n",
              "      <td>Australia</td>\n",
              "      <td>CUS-51506836</td>\n",
              "      <td>NaN</td>\n",
              "      <td>credit</td>\n",
              "      <td>2018-09-07</td>\n",
              "      <td>September</td>\n",
              "      <td>2018</td>\n",
              "      <td>Friday</td>\n",
              "      <td>15</td>\n",
              "    </tr>\n",
              "    <tr>\n",
              "      <th>5754</th>\n",
              "      <td>posted</td>\n",
              "      <td>NaN</td>\n",
              "      <td>0</td>\n",
              "      <td>ACC-354106658</td>\n",
              "      <td>AUD</td>\n",
              "      <td>151.04 -33.80</td>\n",
              "      <td>PAY/SALARY</td>\n",
              "      <td>NaN</td>\n",
              "      <td>0.0</td>\n",
              "      <td>Christine</td>\n",
              "      <td>10891.05</td>\n",
              "      <td>2018-09-14</td>\n",
              "      <td>F</td>\n",
              "      <td>39</td>\n",
              "      <td>NaN</td>\n",
              "      <td>NaN</td>\n",
              "      <td>2018-09-14 15:00:00+00:00</td>\n",
              "      <td>5103.51</td>\n",
              "      <td>188e04b6e00f44f3a43afbf232a6f5c3</td>\n",
              "      <td>Australia</td>\n",
              "      <td>CUS-2376382098</td>\n",
              "      <td>NaN</td>\n",
              "      <td>credit</td>\n",
              "      <td>2018-09-14</td>\n",
              "      <td>September</td>\n",
              "      <td>2018</td>\n",
              "      <td>Friday</td>\n",
              "      <td>15</td>\n",
              "    </tr>\n",
              "    <tr>\n",
              "      <th>5755</th>\n",
              "      <td>posted</td>\n",
              "      <td>NaN</td>\n",
              "      <td>0</td>\n",
              "      <td>ACC-354106658</td>\n",
              "      <td>AUD</td>\n",
              "      <td>151.04 -33.80</td>\n",
              "      <td>PAY/SALARY</td>\n",
              "      <td>NaN</td>\n",
              "      <td>0.0</td>\n",
              "      <td>Christine</td>\n",
              "      <td>15994.56</td>\n",
              "      <td>2018-09-14</td>\n",
              "      <td>F</td>\n",
              "      <td>39</td>\n",
              "      <td>NaN</td>\n",
              "      <td>NaN</td>\n",
              "      <td>2018-09-14 15:00:00+00:00</td>\n",
              "      <td>5103.51</td>\n",
              "      <td>7faf986ac5a341e3adfdb7030ec03f48</td>\n",
              "      <td>Australia</td>\n",
              "      <td>CUS-2376382098</td>\n",
              "      <td>NaN</td>\n",
              "      <td>credit</td>\n",
              "      <td>2018-09-14</td>\n",
              "      <td>September</td>\n",
              "      <td>2018</td>\n",
              "      <td>Friday</td>\n",
              "      <td>15</td>\n",
              "    </tr>\n",
              "    <tr>\n",
              "      <th>6529</th>\n",
              "      <td>posted</td>\n",
              "      <td>NaN</td>\n",
              "      <td>0</td>\n",
              "      <td>ACC-1523339231</td>\n",
              "      <td>AUD</td>\n",
              "      <td>115.83 -31.90</td>\n",
              "      <td>PAY/SALARY</td>\n",
              "      <td>NaN</td>\n",
              "      <td>0.0</td>\n",
              "      <td>Tim</td>\n",
              "      <td>70242.78</td>\n",
              "      <td>2018-09-20</td>\n",
              "      <td>M</td>\n",
              "      <td>40</td>\n",
              "      <td>NaN</td>\n",
              "      <td>NaN</td>\n",
              "      <td>2018-09-20 13:00:00+00:00</td>\n",
              "      <td>8835.98</td>\n",
              "      <td>854ded55d0034ac8b9e91e16334768ca</td>\n",
              "      <td>Australia</td>\n",
              "      <td>CUS-1816693151</td>\n",
              "      <td>NaN</td>\n",
              "      <td>credit</td>\n",
              "      <td>2018-09-20</td>\n",
              "      <td>September</td>\n",
              "      <td>2018</td>\n",
              "      <td>Thursday</td>\n",
              "      <td>13</td>\n",
              "    </tr>\n",
              "    <tr>\n",
              "      <th>7322</th>\n",
              "      <td>posted</td>\n",
              "      <td>NaN</td>\n",
              "      <td>0</td>\n",
              "      <td>ACC-3100725361</td>\n",
              "      <td>AUD</td>\n",
              "      <td>145.73 -17.03</td>\n",
              "      <td>PAY/SALARY</td>\n",
              "      <td>NaN</td>\n",
              "      <td>0.0</td>\n",
              "      <td>Ronald</td>\n",
              "      <td>6111.57</td>\n",
              "      <td>2018-09-26</td>\n",
              "      <td>M</td>\n",
              "      <td>25</td>\n",
              "      <td>NaN</td>\n",
              "      <td>NaN</td>\n",
              "      <td>2018-09-26 15:00:00+00:00</td>\n",
              "      <td>6107.23</td>\n",
              "      <td>7eb1fdb7aefb40d1a8ada1d27f556542</td>\n",
              "      <td>Australia</td>\n",
              "      <td>CUS-2178051368</td>\n",
              "      <td>NaN</td>\n",
              "      <td>credit</td>\n",
              "      <td>2018-09-26</td>\n",
              "      <td>September</td>\n",
              "      <td>2018</td>\n",
              "      <td>Wednesday</td>\n",
              "      <td>15</td>\n",
              "    </tr>\n",
              "    <tr>\n",
              "      <th>9902</th>\n",
              "      <td>posted</td>\n",
              "      <td>NaN</td>\n",
              "      <td>0</td>\n",
              "      <td>ACC-354106658</td>\n",
              "      <td>AUD</td>\n",
              "      <td>151.04 -33.80</td>\n",
              "      <td>PAY/SALARY</td>\n",
              "      <td>NaN</td>\n",
              "      <td>0.0</td>\n",
              "      <td>Christine</td>\n",
              "      <td>19032.03</td>\n",
              "      <td>2018-10-15</td>\n",
              "      <td>F</td>\n",
              "      <td>39</td>\n",
              "      <td>NaN</td>\n",
              "      <td>NaN</td>\n",
              "      <td>2018-10-15 15:00:00+00:00</td>\n",
              "      <td>5103.51</td>\n",
              "      <td>dfff2531d8434969b7f385d364772534</td>\n",
              "      <td>Australia</td>\n",
              "      <td>CUS-2376382098</td>\n",
              "      <td>NaN</td>\n",
              "      <td>credit</td>\n",
              "      <td>2018-10-15</td>\n",
              "      <td>October</td>\n",
              "      <td>2018</td>\n",
              "      <td>Monday</td>\n",
              "      <td>15</td>\n",
              "    </tr>\n",
              "    <tr>\n",
              "      <th>9903</th>\n",
              "      <td>posted</td>\n",
              "      <td>NaN</td>\n",
              "      <td>0</td>\n",
              "      <td>ACC-354106658</td>\n",
              "      <td>AUD</td>\n",
              "      <td>151.04 -33.80</td>\n",
              "      <td>PAY/SALARY</td>\n",
              "      <td>NaN</td>\n",
              "      <td>0.0</td>\n",
              "      <td>Christine</td>\n",
              "      <td>24135.54</td>\n",
              "      <td>2018-10-15</td>\n",
              "      <td>F</td>\n",
              "      <td>39</td>\n",
              "      <td>NaN</td>\n",
              "      <td>NaN</td>\n",
              "      <td>2018-10-15 15:00:00+00:00</td>\n",
              "      <td>5103.51</td>\n",
              "      <td>e4e7f0dd7c504c45990277dad7a8a86c</td>\n",
              "      <td>Australia</td>\n",
              "      <td>CUS-2376382098</td>\n",
              "      <td>NaN</td>\n",
              "      <td>credit</td>\n",
              "      <td>2018-10-15</td>\n",
              "      <td>October</td>\n",
              "      <td>2018</td>\n",
              "      <td>Monday</td>\n",
              "      <td>15</td>\n",
              "    </tr>\n",
              "    <tr>\n",
              "      <th>10429</th>\n",
              "      <td>posted</td>\n",
              "      <td>NaN</td>\n",
              "      <td>0</td>\n",
              "      <td>ACC-1523339231</td>\n",
              "      <td>AUD</td>\n",
              "      <td>115.83 -31.90</td>\n",
              "      <td>PAY/SALARY</td>\n",
              "      <td>NaN</td>\n",
              "      <td>0.0</td>\n",
              "      <td>Tim</td>\n",
              "      <td>77054.31</td>\n",
              "      <td>2018-10-19</td>\n",
              "      <td>M</td>\n",
              "      <td>40</td>\n",
              "      <td>NaN</td>\n",
              "      <td>NaN</td>\n",
              "      <td>2018-10-19 13:00:00+00:00</td>\n",
              "      <td>8835.98</td>\n",
              "      <td>873a3f11d03d41a99c55a5b1a3850e1a</td>\n",
              "      <td>Australia</td>\n",
              "      <td>CUS-1816693151</td>\n",
              "      <td>NaN</td>\n",
              "      <td>credit</td>\n",
              "      <td>2018-10-19</td>\n",
              "      <td>October</td>\n",
              "      <td>2018</td>\n",
              "      <td>Friday</td>\n",
              "      <td>13</td>\n",
              "    </tr>\n",
              "    <tr>\n",
              "      <th>10430</th>\n",
              "      <td>posted</td>\n",
              "      <td>NaN</td>\n",
              "      <td>0</td>\n",
              "      <td>ACC-1523339231</td>\n",
              "      <td>AUD</td>\n",
              "      <td>115.83 -31.90</td>\n",
              "      <td>PAY/SALARY</td>\n",
              "      <td>NaN</td>\n",
              "      <td>0.0</td>\n",
              "      <td>Tim</td>\n",
              "      <td>85890.29</td>\n",
              "      <td>2018-10-19</td>\n",
              "      <td>M</td>\n",
              "      <td>40</td>\n",
              "      <td>NaN</td>\n",
              "      <td>NaN</td>\n",
              "      <td>2018-10-19 13:00:00+00:00</td>\n",
              "      <td>8835.98</td>\n",
              "      <td>d996300131a641c8bf25f86e1aef9bc6</td>\n",
              "      <td>Australia</td>\n",
              "      <td>CUS-1816693151</td>\n",
              "      <td>NaN</td>\n",
              "      <td>credit</td>\n",
              "      <td>2018-10-19</td>\n",
              "      <td>October</td>\n",
              "      <td>2018</td>\n",
              "      <td>Friday</td>\n",
              "      <td>13</td>\n",
              "    </tr>\n",
              "    <tr>\n",
              "      <th>10711</th>\n",
              "      <td>authorized</td>\n",
              "      <td>1.0</td>\n",
              "      <td>NaN</td>\n",
              "      <td>ACC-819621312</td>\n",
              "      <td>AUD</td>\n",
              "      <td>145.04 -37.85</td>\n",
              "      <td>POS</td>\n",
              "      <td>af835ef4-60b7-4283-9d9a-5d0a8ab9cd6f</td>\n",
              "      <td>NaN</td>\n",
              "      <td>Michele</td>\n",
              "      <td>2063.14</td>\n",
              "      <td>2018-10-21</td>\n",
              "      <td>F</td>\n",
              "      <td>30</td>\n",
              "      <td>South Brisbane</td>\n",
              "      <td>QLD</td>\n",
              "      <td>2018-10-21 14:49:45+00:00</td>\n",
              "      <td>7081.09</td>\n",
              "      <td>2a882afd1d1c4eb28c3b5ccba14e240d</td>\n",
              "      <td>Australia</td>\n",
              "      <td>CUS-1271030853</td>\n",
              "      <td>153.02 -27.48</td>\n",
              "      <td>debit</td>\n",
              "      <td>2018-10-21</td>\n",
              "      <td>October</td>\n",
              "      <td>2018</td>\n",
              "      <td>Sunday</td>\n",
              "      <td>14</td>\n",
              "    </tr>\n",
              "    <tr>\n",
              "      <th>11360</th>\n",
              "      <td>posted</td>\n",
              "      <td>NaN</td>\n",
              "      <td>0</td>\n",
              "      <td>ACC-3100725361</td>\n",
              "      <td>AUD</td>\n",
              "      <td>145.73 -17.03</td>\n",
              "      <td>PAY/SALARY</td>\n",
              "      <td>NaN</td>\n",
              "      <td>0.0</td>\n",
              "      <td>Ronald</td>\n",
              "      <td>10753.02</td>\n",
              "      <td>2018-10-26</td>\n",
              "      <td>M</td>\n",
              "      <td>25</td>\n",
              "      <td>NaN</td>\n",
              "      <td>NaN</td>\n",
              "      <td>2018-10-26 15:00:00+00:00</td>\n",
              "      <td>6107.23</td>\n",
              "      <td>56e1a0f55f354624a3c713c37415d216</td>\n",
              "      <td>Australia</td>\n",
              "      <td>CUS-2178051368</td>\n",
              "      <td>NaN</td>\n",
              "      <td>credit</td>\n",
              "      <td>2018-10-26</td>\n",
              "      <td>October</td>\n",
              "      <td>2018</td>\n",
              "      <td>Friday</td>\n",
              "      <td>15</td>\n",
              "    </tr>\n",
              "  </tbody>\n",
              "</table>\n",
              "</div>"
            ],
            "text/plain": [
              "           status  card_present_flag  ... extraction_day_name extraction_hour\n",
              "833        posted                NaN  ...             Tuesday              15\n",
              "1858       posted                NaN  ...           Wednesday              15\n",
              "2401       posted                NaN  ...              Monday              13\n",
              "4822       posted                NaN  ...              Friday              15\n",
              "5754       posted                NaN  ...              Friday              15\n",
              "5755       posted                NaN  ...              Friday              15\n",
              "6529       posted                NaN  ...            Thursday              13\n",
              "7322       posted                NaN  ...           Wednesday              15\n",
              "9902       posted                NaN  ...              Monday              15\n",
              "9903       posted                NaN  ...              Monday              15\n",
              "10429      posted                NaN  ...              Friday              13\n",
              "10430      posted                NaN  ...              Friday              13\n",
              "10711  authorized                1.0  ...              Sunday              14\n",
              "11360      posted                NaN  ...              Friday              15\n",
              "\n",
              "[14 rows x 28 columns]"
            ]
          },
          "metadata": {},
          "execution_count": 932
        }
      ]
    },
    {
      "cell_type": "code",
      "source": [
        "df['transaction_id'].nunique()"
      ],
      "metadata": {
        "colab": {
          "base_uri": "https://localhost:8080/"
        },
        "id": "PfyP9mj7bmNU",
        "outputId": "a838e30f-02cf-4eda-fae2-ce6fb6405158"
      },
      "execution_count": 933,
      "outputs": [
        {
          "output_type": "execute_result",
          "data": {
            "text/plain": [
              "12043"
            ]
          },
          "metadata": {},
          "execution_count": 933
        }
      ]
    },
    {
      "cell_type": "code",
      "source": [
        "df['country'].unique()"
      ],
      "metadata": {
        "colab": {
          "base_uri": "https://localhost:8080/"
        },
        "id": "qGpey3wBbqHZ",
        "outputId": "8d220997-411a-47b2-946c-3742b876603b"
      },
      "execution_count": 934,
      "outputs": [
        {
          "output_type": "execute_result",
          "data": {
            "text/plain": [
              "array(['Australia'], dtype=object)"
            ]
          },
          "metadata": {},
          "execution_count": 934
        }
      ]
    },
    {
      "cell_type": "code",
      "source": [
        "df['customer_id'].nunique()"
      ],
      "metadata": {
        "colab": {
          "base_uri": "https://localhost:8080/"
        },
        "id": "fa6Vrrtebtqo",
        "outputId": "bd3c8960-460c-4510-8783-e87c950206a7"
      },
      "execution_count": 935,
      "outputs": [
        {
          "output_type": "execute_result",
          "data": {
            "text/plain": [
              "100"
            ]
          },
          "metadata": {},
          "execution_count": 935
        }
      ]
    },
    {
      "cell_type": "code",
      "source": [
        "df['customer_id'].value_counts()"
      ],
      "metadata": {
        "colab": {
          "base_uri": "https://localhost:8080/"
        },
        "id": "I6Zzg5jnH_n1",
        "outputId": "a82ffcdb-38c9-448a-b867-c6d4323c908d"
      },
      "execution_count": 936,
      "outputs": [
        {
          "output_type": "execute_result",
          "data": {
            "text/plain": [
              "CUS-2487424745    578\n",
              "CUS-2142601169    303\n",
              "CUS-3026014945    292\n",
              "CUS-3378712515    260\n",
              "CUS-1614226872    259\n",
              "                 ... \n",
              "CUS-3395687666     40\n",
              "CUS-3201519139     37\n",
              "CUS-1646183815     34\n",
              "CUS-495599312      31\n",
              "CUS-1739931018     25\n",
              "Name: customer_id, Length: 100, dtype: int64"
            ]
          },
          "metadata": {},
          "execution_count": 936
        }
      ]
    },
    {
      "cell_type": "code",
      "source": [
        "df_customer_id_values = df['customer_id'].value_counts()\n",
        "df_customer_id_values = df_customer_id_values.reset_index()\n",
        "df_customer_id_values.columns = ['customer_id', 'values_count']\n",
        "# df_long_lat_values.head()\n",
        "sns.histplot(data=df_customer_id_values, x='values_count')\n"
      ],
      "metadata": {
        "colab": {
          "base_uri": "https://localhost:8080/",
          "height": 300
        },
        "id": "xM6vD-0QIGfT",
        "outputId": "86f83162-b9fb-42a1-acc3-cc3756d0ee98"
      },
      "execution_count": 937,
      "outputs": [
        {
          "output_type": "execute_result",
          "data": {
            "text/plain": [
              "<matplotlib.axes._subplots.AxesSubplot at 0x7f510fb60450>"
            ]
          },
          "metadata": {},
          "execution_count": 937
        },
        {
          "output_type": "display_data",
          "data": {
            "image/png": "[encoded data removed]",
            "text/plain": [
              "<Figure size 432x288 with 1 Axes>"
            ]
          },
          "metadata": {
            "needs_background": "light"
          }
        }
      ]
    },
    {
      "cell_type": "code",
      "source": [
        "df['merchant_long_lat'].nunique()"
      ],
      "metadata": {
        "colab": {
          "base_uri": "https://localhost:8080/"
        },
        "id": "c0IVmWufbymy",
        "outputId": "bb173384-333b-4c7a-de6b-d6d255e32800"
      },
      "execution_count": 938,
      "outputs": [
        {
          "output_type": "execute_result",
          "data": {
            "text/plain": [
              "2703"
            ]
          },
          "metadata": {},
          "execution_count": 938
        }
      ]
    },
    {
      "cell_type": "code",
      "source": [
        "df_merchant_long_lat_values = df['merchant_long_lat'].value_counts()\n",
        "df_merchant_long_lat_values = df_merchant_long_lat_values.reset_index()\n",
        "df_merchant_long_lat_values.columns = ['merchant_long_lat', 'values_count']\n",
        "# df_long_lat_values.head()\n",
        "sns.histplot(data=df_merchant_long_lat_values, x='values_count')"
      ],
      "metadata": {
        "colab": {
          "base_uri": "https://localhost:8080/",
          "height": 297
        },
        "id": "qYe8UdfbIgWF",
        "outputId": "a701ce16-53cc-42cf-96dd-2ecf1cda37c3"
      },
      "execution_count": 939,
      "outputs": [
        {
          "output_type": "execute_result",
          "data": {
            "text/plain": [
              "<matplotlib.axes._subplots.AxesSubplot at 0x7f510fb15350>"
            ]
          },
          "metadata": {},
          "execution_count": 939
        },
        {
          "output_type": "display_data",
          "data": {
            "image/png": "[encoded data removed]",
            "text/plain": [
              "<Figure size 432x288 with 1 Axes>"
            ]
          },
          "metadata": {
            "needs_background": "light"
          }
        }
      ]
    },
    {
      "cell_type": "code",
      "source": [
        "df['merchant_long_lat'].value_counts()"
      ],
      "metadata": {
        "colab": {
          "base_uri": "https://localhost:8080/"
        },
        "id": "X6Vlz8m-IknW",
        "outputId": "867a35c1-573b-47f3-85db-b50b6cb99d0c"
      },
      "execution_count": 940,
      "outputs": [
        {
          "output_type": "execute_result",
          "data": {
            "text/plain": [
              "151.21 -33.87    145\n",
              "144.96 -37.82     85\n",
              "144.97 -37.81     59\n",
              "144.96 -37.81     56\n",
              "153.02 -27.47     46\n",
              "                ... \n",
              "151 -33.73         1\n",
              "151.7 -32.77       1\n",
              "151.15 -34.05      1\n",
              "150.9 -33.77       1\n",
              "138.82 -34.44      1\n",
              "Name: merchant_long_lat, Length: 2703, dtype: int64"
            ]
          },
          "metadata": {},
          "execution_count": 940
        }
      ]
    },
    {
      "cell_type": "code",
      "source": [
        "df['movement'].unique()"
      ],
      "metadata": {
        "colab": {
          "base_uri": "https://localhost:8080/"
        },
        "id": "XvqeO9b5b6Pu",
        "outputId": "97df9bb7-cd9e-4a26-9630-57720210ee13"
      },
      "execution_count": 941,
      "outputs": [
        {
          "output_type": "execute_result",
          "data": {
            "text/plain": [
              "array(['debit', 'credit'], dtype=object)"
            ]
          },
          "metadata": {},
          "execution_count": 941
        }
      ]
    },
    {
      "cell_type": "code",
      "source": [
        "sns.catplot(data=df, x='movement', kind='count')"
      ],
      "metadata": {
        "colab": {
          "base_uri": "https://localhost:8080/",
          "height": 387
        },
        "id": "ZtIMpoHZJtbm",
        "outputId": "cc316c0d-4e5e-4a4f-a9f0-4f193f4b6f35"
      },
      "execution_count": 942,
      "outputs": [
        {
          "output_type": "execute_result",
          "data": {
            "text/plain": [
              "<seaborn.axisgrid.FacetGrid at 0x7f510fabdb90>"
            ]
          },
          "metadata": {},
          "execution_count": 942
        },
        {
          "output_type": "display_data",
          "data": {
            "image/png": "[encoded data removed]",
            "text/plain": [
              "<Figure size 360x360 with 1 Axes>"
            ]
          },
          "metadata": {
            "needs_background": "light"
          }
        }
      ]
    },
    {
      "cell_type": "markdown",
      "source": [
        "Things to calculate:\n",
        "\n",
        "- Average transaction amount\n",
        "- Average transaction count per customer\n",
        "- Chart of transaction per day of week\n",
        "- Insights from location information"
      ],
      "metadata": {
        "id": "JvNmqVSyUu1G"
      }
    },
    {
      "cell_type": "code",
      "source": [
        "df.groupby(['movement', 'txn_description'])['amount'].mean()"
      ],
      "metadata": {
        "colab": {
          "base_uri": "https://localhost:8080/"
        },
        "id": "D2FPFW-qVPun",
        "outputId": "01533148-5a82-47e4-989f-15ca1f66f532"
      },
      "execution_count": 943,
      "outputs": [
        {
          "output_type": "execute_result",
          "data": {
            "text/plain": [
              "movement  txn_description\n",
              "credit    PAY/SALARY         1898.728029\n",
              "debit     INTER BANK           86.699461\n",
              "          PAYMENT              77.613077\n",
              "          PHONE BANK          106.099010\n",
              "          POS                  40.407412\n",
              "          SALES-POS            39.909789\n",
              "Name: amount, dtype: float64"
            ]
          },
          "metadata": {},
          "execution_count": 943
        }
      ]
    },
    {
      "cell_type": "code",
      "source": [
        "df.groupby(['movement', 'txn_description'])['amount'].median()"
      ],
      "metadata": {
        "colab": {
          "base_uri": "https://localhost:8080/"
        },
        "id": "5T1ix9WUcIC2",
        "outputId": "e6d37e75-5145-4a4e-a1c3-d51103bda28e"
      },
      "execution_count": 944,
      "outputs": [
        {
          "output_type": "execute_result",
          "data": {
            "text/plain": [
              "movement  txn_description\n",
              "credit    PAY/SALARY         1626.480\n",
              "debit     INTER BANK           39.000\n",
              "          PAYMENT              42.500\n",
              "          PHONE BANK           43.000\n",
              "          POS                  19.430\n",
              "          SALES-POS            20.035\n",
              "Name: amount, dtype: float64"
            ]
          },
          "metadata": {},
          "execution_count": 944
        }
      ]
    },
    {
      "cell_type": "code",
      "source": [
        "df_average_count = df.groupby(['account', 'movement'])['amount'].count().reset_index()\n",
        "df_average_count.head(4)"
      ],
      "metadata": {
        "colab": {
          "base_uri": "https://localhost:8080/",
          "height": 175
        },
        "id": "bEDfxntwcVib",
        "outputId": "665619ad-7d50-415f-b603-89679bd08204"
      },
      "execution_count": 945,
      "outputs": [
        {
          "output_type": "execute_result",
          "data": {
            "text/html": [
              "<div>\n",
              "<style scoped>\n",
              "    .dataframe tbody tr th:only-of-type {\n",
              "        vertical-align: middle;\n",
              "    }\n",
              "\n",
              "    .dataframe tbody tr th {\n",
              "        vertical-align: top;\n",
              "    }\n",
              "\n",
              "    .dataframe thead th {\n",
              "        text-align: right;\n",
              "    }\n",
              "</style>\n",
              "<table border=\"1\" class=\"dataframe\">\n",
              "  <thead>\n",
              "    <tr style=\"text-align: right;\">\n",
              "      <th></th>\n",
              "      <th>account</th>\n",
              "      <th>movement</th>\n",
              "      <th>amount</th>\n",
              "    </tr>\n",
              "  </thead>\n",
              "  <tbody>\n",
              "    <tr>\n",
              "      <th>0</th>\n",
              "      <td>ACC-1037050564</td>\n",
              "      <td>credit</td>\n",
              "      <td>13</td>\n",
              "    </tr>\n",
              "    <tr>\n",
              "      <th>1</th>\n",
              "      <td>ACC-1037050564</td>\n",
              "      <td>debit</td>\n",
              "      <td>246</td>\n",
              "    </tr>\n",
              "    <tr>\n",
              "      <th>2</th>\n",
              "      <td>ACC-1056639002</td>\n",
              "      <td>credit</td>\n",
              "      <td>6</td>\n",
              "    </tr>\n",
              "    <tr>\n",
              "      <th>3</th>\n",
              "      <td>ACC-1056639002</td>\n",
              "      <td>debit</td>\n",
              "      <td>80</td>\n",
              "    </tr>\n",
              "  </tbody>\n",
              "</table>\n",
              "</div>"
            ],
            "text/plain": [
              "          account movement  amount\n",
              "0  ACC-1037050564   credit      13\n",
              "1  ACC-1037050564    debit     246\n",
              "2  ACC-1056639002   credit       6\n",
              "3  ACC-1056639002    debit      80"
            ]
          },
          "metadata": {},
          "execution_count": 945
        }
      ]
    },
    {
      "cell_type": "code",
      "source": [
        "sns.boxplot(data=df_average_count, x='movement', y='amount')"
      ],
      "metadata": {
        "colab": {
          "base_uri": "https://localhost:8080/",
          "height": 297
        },
        "id": "RhXLQ5mZdTLl",
        "outputId": "6033a6ce-edaf-43d2-da3c-9a2ab8c1e62b"
      },
      "execution_count": 946,
      "outputs": [
        {
          "output_type": "execute_result",
          "data": {
            "text/plain": [
              "<matplotlib.axes._subplots.AxesSubplot at 0x7f510f360b50>"
            ]
          },
          "metadata": {},
          "execution_count": 946
        },
        {
          "output_type": "display_data",
          "data": {
            "image/png": "[encoded data removed]",
            "text/plain": [
              "<Figure size 432x288 with 1 Axes>"
            ]
          },
          "metadata": {
            "needs_background": "light"
          }
        }
      ]
    },
    {
      "cell_type": "code",
      "source": [
        "df_average_count.loc[df_average_count['movement']=='debit'].mean()"
      ],
      "metadata": {
        "colab": {
          "base_uri": "https://localhost:8080/"
        },
        "id": "eFns_0QidyM5",
        "outputId": "14cad16e-f011-4cc5-e517-6c9f57223826"
      },
      "execution_count": 947,
      "outputs": [
        {
          "output_type": "execute_result",
          "data": {
            "text/plain": [
              "amount    111.6\n",
              "dtype: float64"
            ]
          },
          "metadata": {},
          "execution_count": 947
        }
      ]
    },
    {
      "cell_type": "code",
      "source": [
        "df_average_count.loc[df_average_count['movement']=='debit'].median()"
      ],
      "metadata": {
        "colab": {
          "base_uri": "https://localhost:8080/"
        },
        "id": "lxC0KudqeA8c",
        "outputId": "0665793d-5e0a-43e8-bfc5-744067e93a9d"
      },
      "execution_count": 948,
      "outputs": [
        {
          "output_type": "execute_result",
          "data": {
            "text/plain": [
              "amount    96.5\n",
              "dtype: float64"
            ]
          },
          "metadata": {},
          "execution_count": 948
        }
      ]
    },
    {
      "cell_type": "code",
      "source": [
        "df_average_count.loc[df_average_count['movement']=='debit'].min()"
      ],
      "metadata": {
        "colab": {
          "base_uri": "https://localhost:8080/"
        },
        "id": "eWJhClzReDtY",
        "outputId": "74b84af5-cf32-41fa-fbdc-096ac6832a26"
      },
      "execution_count": 949,
      "outputs": [
        {
          "output_type": "execute_result",
          "data": {
            "text/plain": [
              "account     ACC-1037050564\n",
              "movement             debit\n",
              "amount                  22\n",
              "dtype: object"
            ]
          },
          "metadata": {},
          "execution_count": 949
        }
      ]
    },
    {
      "cell_type": "code",
      "source": [
        "df_average_count.loc[df_average_count['movement']=='debit'].max()"
      ],
      "metadata": {
        "colab": {
          "base_uri": "https://localhost:8080/"
        },
        "id": "nvkY9wJXeLhI",
        "outputId": "c99a5b55-98a4-477f-86fb-aa4dd72c5a7c"
      },
      "execution_count": 950,
      "outputs": [
        {
          "output_type": "execute_result",
          "data": {
            "text/plain": [
              "account     ACC-966140392\n",
              "movement            debit\n",
              "amount                564\n",
              "dtype: object"
            ]
          },
          "metadata": {},
          "execution_count": 950
        }
      ]
    },
    {
      "cell_type": "code",
      "source": [
        "df_average_count.loc[df_average_count['movement']=='credit'].mean()"
      ],
      "metadata": {
        "colab": {
          "base_uri": "https://localhost:8080/"
        },
        "id": "TNDKQHvFeOs8",
        "outputId": "154e08a7-41d1-4a79-ca42-3a783f94105c"
      },
      "execution_count": 951,
      "outputs": [
        {
          "output_type": "execute_result",
          "data": {
            "text/plain": [
              "amount    8.83\n",
              "dtype: float64"
            ]
          },
          "metadata": {},
          "execution_count": 951
        }
      ]
    },
    {
      "cell_type": "code",
      "source": [
        "df_average_count.loc[df_average_count['movement']=='credit'].median()"
      ],
      "metadata": {
        "colab": {
          "base_uri": "https://localhost:8080/"
        },
        "id": "s4aPGgqQeSSG",
        "outputId": "9bc66869-ab48-4ec7-c043-cb31b69336c8"
      },
      "execution_count": 952,
      "outputs": [
        {
          "output_type": "execute_result",
          "data": {
            "text/plain": [
              "amount    7.0\n",
              "dtype: float64"
            ]
          },
          "metadata": {},
          "execution_count": 952
        }
      ]
    },
    {
      "cell_type": "code",
      "source": [
        "df_average_count.loc[df_average_count['movement']=='credit'].max()"
      ],
      "metadata": {
        "colab": {
          "base_uri": "https://localhost:8080/"
        },
        "id": "NKimNG0_eULI",
        "outputId": "26586636-e9ed-461a-d945-2d3cc691aa77"
      },
      "execution_count": 953,
      "outputs": [
        {
          "output_type": "execute_result",
          "data": {
            "text/plain": [
              "account     ACC-966140392\n",
              "movement           credit\n",
              "amount                 14\n",
              "dtype: object"
            ]
          },
          "metadata": {},
          "execution_count": 953
        }
      ]
    },
    {
      "cell_type": "code",
      "source": [
        "df_average_count.loc[df_average_count['movement']=='credit'].min()"
      ],
      "metadata": {
        "colab": {
          "base_uri": "https://localhost:8080/"
        },
        "id": "xkF_oxZNeVp6",
        "outputId": "98983527-f02a-4be7-e1b8-2c3e0cfdafbc"
      },
      "execution_count": 954,
      "outputs": [
        {
          "output_type": "execute_result",
          "data": {
            "text/plain": [
              "account     ACC-1037050564\n",
              "movement            credit\n",
              "amount                   2\n",
              "dtype: object"
            ]
          },
          "metadata": {},
          "execution_count": 954
        }
      ]
    },
    {
      "cell_type": "code",
      "source": [
        "df.columns"
      ],
      "metadata": {
        "colab": {
          "base_uri": "https://localhost:8080/"
        },
        "id": "qKmXXJhzfICg",
        "outputId": "d57916d6-f926-4540-fa57-f9e9023548b5"
      },
      "execution_count": 955,
      "outputs": [
        {
          "output_type": "execute_result",
          "data": {
            "text/plain": [
              "Index(['status', 'card_present_flag', 'bpay_biller_code', 'account',\n",
              "       'currency', 'long_lat', 'txn_description', 'merchant_id',\n",
              "       'merchant_code', 'first_name', 'balance', 'date', 'gender', 'age',\n",
              "       'merchant_suburb', 'merchant_state', 'extraction', 'amount',\n",
              "       'transaction_id', 'country', 'customer_id', 'merchant_long_lat',\n",
              "       'movement', 'extraction_date', 'extraction_month_name',\n",
              "       'extraction_year', 'extraction_day_name', 'extraction_hour'],\n",
              "      dtype='object')"
            ]
          },
          "metadata": {},
          "execution_count": 955
        }
      ]
    },
    {
      "cell_type": "code",
      "source": [
        "# df['extraction_day_name'].value_counts()\n",
        "sns.catplot(data=df, y='extraction_day_name', kind='count', order=df['extraction_day_name'].value_counts().index)"
      ],
      "metadata": {
        "colab": {
          "base_uri": "https://localhost:8080/",
          "height": 387
        },
        "id": "lj07rFHce2lZ",
        "outputId": "bf7aa605-21f5-4e6b-d3a5-6920c3eaa734"
      },
      "execution_count": 956,
      "outputs": [
        {
          "output_type": "execute_result",
          "data": {
            "text/plain": [
              "<seaborn.axisgrid.FacetGrid at 0x7f5113dcdcd0>"
            ]
          },
          "metadata": {},
          "execution_count": 956
        },
        {
          "output_type": "display_data",
          "data": {
            "image/png": "[encoded data removed]",
            "text/plain": [
              "<Figure size 360x360 with 1 Axes>"
            ]
          },
          "metadata": {
            "needs_background": "light"
          }
        }
      ]
    },
    {
      "cell_type": "code",
      "source": [
        "# df['extraction_day_name'].value_counts()\n",
        "sns.catplot(data=df.loc[df['movement']=='debit'], y='extraction_day_name', kind='count', order=df['extraction_day_name'].value_counts().index)"
      ],
      "metadata": {
        "colab": {
          "base_uri": "https://localhost:8080/",
          "height": 387
        },
        "id": "EO8xdRazfmfx",
        "outputId": "fbb40b30-7515-4b6a-f6ad-c13e5c718be1"
      },
      "execution_count": 957,
      "outputs": [
        {
          "output_type": "execute_result",
          "data": {
            "text/plain": [
              "<seaborn.axisgrid.FacetGrid at 0x7f510f200510>"
            ]
          },
          "metadata": {},
          "execution_count": 957
        },
        {
          "output_type": "display_data",
          "data": {
            "image/png": "[encoded data removed]",
            "text/plain": [
              "<Figure size 360x360 with 1 Axes>"
            ]
          },
          "metadata": {
            "needs_background": "light"
          }
        }
      ]
    },
    {
      "cell_type": "code",
      "source": [
        "sns.catplot(data=df.loc[df['movement']=='credit'], y='extraction_day_name', kind='count', order=df['extraction_day_name'].value_counts().index)"
      ],
      "metadata": {
        "colab": {
          "base_uri": "https://localhost:8080/",
          "height": 387
        },
        "id": "8NCWzbMnfwhF",
        "outputId": "0d1724cf-d7f1-4cdb-81cd-5785a4c89a80"
      },
      "execution_count": 958,
      "outputs": [
        {
          "output_type": "execute_result",
          "data": {
            "text/plain": [
              "<seaborn.axisgrid.FacetGrid at 0x7f510f197190>"
            ]
          },
          "metadata": {},
          "execution_count": 958
        },
        {
          "output_type": "display_data",
          "data": {
            "image/png": "[encoded data removed]",
            "text/plain": [
              "<Figure size 360x360 with 1 Axes>"
            ]
          },
          "metadata": {
            "needs_background": "light"
          }
        }
      ]
    },
    {
      "cell_type": "code",
      "source": [
        "sns.catplot(data=df.loc[df['movement']=='credit'], y='txn_description', kind='count')"
      ],
      "metadata": {
        "colab": {
          "base_uri": "https://localhost:8080/",
          "height": 387
        },
        "id": "CaJAOXekgLIO",
        "outputId": "451c5e16-6ecc-4fa5-fbfb-55752b23b980"
      },
      "execution_count": 959,
      "outputs": [
        {
          "output_type": "execute_result",
          "data": {
            "text/plain": [
              "<seaborn.axisgrid.FacetGrid at 0x7f510f1b2d90>"
            ]
          },
          "metadata": {},
          "execution_count": 959
        },
        {
          "output_type": "display_data",
          "data": {
            "image/png": "[encoded data removed]",
            "text/plain": [
              "<Figure size 360x360 with 1 Axes>"
            ]
          },
          "metadata": {
            "needs_background": "light"
          }
        }
      ]
    },
    {
      "cell_type": "code",
      "source": [
        "sns.catplot(data=df.loc[df['movement']=='debit'], y='txn_description', kind='count', order=df['txn_description'].value_counts().index)"
      ],
      "metadata": {
        "colab": {
          "base_uri": "https://localhost:8080/",
          "height": 387
        },
        "id": "k2ymlIN_gWTq",
        "outputId": "44813684-99c8-4fe6-fa5d-3c54215fea27"
      },
      "execution_count": 960,
      "outputs": [
        {
          "output_type": "execute_result",
          "data": {
            "text/plain": [
              "<seaborn.axisgrid.FacetGrid at 0x7f510f1123d0>"
            ]
          },
          "metadata": {},
          "execution_count": 960
        },
        {
          "output_type": "display_data",
          "data": {
            "image/png": "[encoded data removed]",
            "text/plain": [
              "<Figure size 360x360 with 1 Axes>"
            ]
          },
          "metadata": {
            "needs_background": "light"
          }
        }
      ]
    },
    {
      "cell_type": "code",
      "source": [
        "sns.catplot(data=df.loc[df['movement']=='debit'], y='gender', kind='count')"
      ],
      "metadata": {
        "colab": {
          "base_uri": "https://localhost:8080/",
          "height": 387
        },
        "id": "A9dgixvugzFx",
        "outputId": "10f9bd75-e912-44cf-d407-e6a883c1ff2b"
      },
      "execution_count": 961,
      "outputs": [
        {
          "output_type": "execute_result",
          "data": {
            "text/plain": [
              "<seaborn.axisgrid.FacetGrid at 0x7f510f0f26d0>"
            ]
          },
          "metadata": {},
          "execution_count": 961
        },
        {
          "output_type": "display_data",
          "data": {
            "image/png": "[encoded data removed]",
            "text/plain": [
              "<Figure size 360x360 with 1 Axes>"
            ]
          },
          "metadata": {
            "needs_background": "light"
          }
        }
      ]
    },
    {
      "cell_type": "code",
      "source": [
        "sns.catplot(data=df.loc[df['movement']=='credit'], y='gender', kind='count')"
      ],
      "metadata": {
        "colab": {
          "base_uri": "https://localhost:8080/",
          "height": 387
        },
        "id": "pT3HoGqJg5LO",
        "outputId": "6bff5609-83c7-43f9-c4af-06008b741e85"
      },
      "execution_count": 962,
      "outputs": [
        {
          "output_type": "execute_result",
          "data": {
            "text/plain": [
              "<seaborn.axisgrid.FacetGrid at 0x7f510f043c10>"
            ]
          },
          "metadata": {},
          "execution_count": 962
        },
        {
          "output_type": "display_data",
          "data": {
            "image/png": "[encoded data removed]",
            "text/plain": [
              "<Figure size 360x360 with 1 Axes>"
            ]
          },
          "metadata": {
            "needs_background": "light"
          }
        }
      ]
    },
    {
      "cell_type": "code",
      "source": [
        "sns.barplot(data=df, y='amount', x='gender', hue='movement')"
      ],
      "metadata": {
        "colab": {
          "base_uri": "https://localhost:8080/",
          "height": 297
        },
        "id": "SGu1szCUjBdo",
        "outputId": "0664d182-b669-49f8-e1ca-52698ed92e6a"
      },
      "execution_count": 963,
      "outputs": [
        {
          "output_type": "execute_result",
          "data": {
            "text/plain": [
              "<matplotlib.axes._subplots.AxesSubplot at 0x7f510f096e90>"
            ]
          },
          "metadata": {},
          "execution_count": 963
        },
        {
          "output_type": "display_data",
          "data": {
            "image/png": "[encoded data removed]",
            "text/plain": [
              "<Figure size 432x288 with 1 Axes>"
            ]
          },
          "metadata": {
            "needs_background": "light"
          }
        }
      ]
    },
    {
      "cell_type": "code",
      "source": [
        "sns.barplot(data=df.loc[df['movement']=='debit'], y='amount', x='gender')"
      ],
      "metadata": {
        "colab": {
          "base_uri": "https://localhost:8080/",
          "height": 297
        },
        "id": "Zd8dqQDKk-Nt",
        "outputId": "e6ad611a-1ab7-483b-ea15-b83296bdee33"
      },
      "execution_count": 964,
      "outputs": [
        {
          "output_type": "execute_result",
          "data": {
            "text/plain": [
              "<matplotlib.axes._subplots.AxesSubplot at 0x7f510ef700d0>"
            ]
          },
          "metadata": {},
          "execution_count": 964
        },
        {
          "output_type": "display_data",
          "data": {
            "image/png": "[encoded data removed]",
            "text/plain": [
              "<Figure size 432x288 with 1 Axes>"
            ]
          },
          "metadata": {
            "needs_background": "light"
          }
        }
      ]
    },
    {
      "cell_type": "code",
      "source": [
        "sns.barplot(data=df.loc[df['movement']=='credit'], y='amount', x='gender')"
      ],
      "metadata": {
        "colab": {
          "base_uri": "https://localhost:8080/",
          "height": 297
        },
        "id": "KU_xG90KlP8J",
        "outputId": "f4253b60-8ac3-400e-e594-c9b8c7677235"
      },
      "execution_count": 965,
      "outputs": [
        {
          "output_type": "execute_result",
          "data": {
            "text/plain": [
              "<matplotlib.axes._subplots.AxesSubplot at 0x7f510ee96410>"
            ]
          },
          "metadata": {},
          "execution_count": 965
        },
        {
          "output_type": "display_data",
          "data": {
            "image/png": "[encoded data removed]",
            "text/plain": [
              "<Figure size 432x288 with 1 Axes>"
            ]
          },
          "metadata": {
            "needs_background": "light"
          }
        }
      ]
    },
    {
      "cell_type": "code",
      "source": [
        "sns.barplot(data=df.loc[df['movement']=='debit'], y='amount', x='merchant_state')"
      ],
      "metadata": {
        "colab": {
          "base_uri": "https://localhost:8080/",
          "height": 297
        },
        "id": "Z6TlGMwZly9J",
        "outputId": "42c7b4b2-c53e-4ebe-87fd-9a4acb8e156d"
      },
      "execution_count": 966,
      "outputs": [
        {
          "output_type": "execute_result",
          "data": {
            "text/plain": [
              "<matplotlib.axes._subplots.AxesSubplot at 0x7f510ee5ad90>"
            ]
          },
          "metadata": {},
          "execution_count": 966
        },
        {
          "output_type": "display_data",
          "data": {
            "image/png": "[encoded data removed]",
            "text/plain": [
              "<Figure size 432x288 with 1 Axes>"
            ]
          },
          "metadata": {
            "needs_background": "light"
          }
        }
      ]
    },
    {
      "cell_type": "code",
      "source": [
        "df['extraction_date'].min()"
      ],
      "metadata": {
        "colab": {
          "base_uri": "https://localhost:8080/"
        },
        "id": "aOWDhF416gIr",
        "outputId": "2a9df0b2-cb9b-4286-8c40-88bd0a48a5d3"
      },
      "execution_count": 967,
      "outputs": [
        {
          "output_type": "execute_result",
          "data": {
            "text/plain": [
              "datetime.date(2018, 8, 1)"
            ]
          },
          "metadata": {},
          "execution_count": 967
        }
      ]
    },
    {
      "cell_type": "code",
      "source": [
        "df['extraction_date'].max()"
      ],
      "metadata": {
        "colab": {
          "base_uri": "https://localhost:8080/"
        },
        "id": "QuIYbK1t6nhj",
        "outputId": "913a0bd5-4d0b-4ee5-a0df-70d1b42f453a"
      },
      "execution_count": 968,
      "outputs": [
        {
          "output_type": "execute_result",
          "data": {
            "text/plain": [
              "datetime.date(2018, 10, 31)"
            ]
          },
          "metadata": {},
          "execution_count": 968
        }
      ]
    },
    {
      "cell_type": "code",
      "source": [
        "df.loc[df['txn_description']==\"PAY/SALARY\"].sort_values(by=['account', 'extraction_date']).head(14)"
      ],
      "metadata": {
        "colab": {
          "base_uri": "https://localhost:8080/",
          "height": 751
        },
        "id": "ZKQoNTsB4cXQ",
        "outputId": "929e562c-3351-489d-aeaf-d36ef5874680"
      },
      "execution_count": 969,
      "outputs": [
        {
          "output_type": "execute_result",
          "data": {
            "text/html": [
              "<div>\n",
              "<style scoped>\n",
              "    .dataframe tbody tr th:only-of-type {\n",
              "        vertical-align: middle;\n",
              "    }\n",
              "\n",
              "    .dataframe tbody tr th {\n",
              "        vertical-align: top;\n",
              "    }\n",
              "\n",
              "    .dataframe thead th {\n",
              "        text-align: right;\n",
              "    }\n",
              "</style>\n",
              "<table border=\"1\" class=\"dataframe\">\n",
              "  <thead>\n",
              "    <tr style=\"text-align: right;\">\n",
              "      <th></th>\n",
              "      <th>status</th>\n",
              "      <th>card_present_flag</th>\n",
              "      <th>bpay_biller_code</th>\n",
              "      <th>account</th>\n",
              "      <th>currency</th>\n",
              "      <th>long_lat</th>\n",
              "      <th>txn_description</th>\n",
              "      <th>merchant_id</th>\n",
              "      <th>merchant_code</th>\n",
              "      <th>first_name</th>\n",
              "      <th>balance</th>\n",
              "      <th>date</th>\n",
              "      <th>gender</th>\n",
              "      <th>age</th>\n",
              "      <th>merchant_suburb</th>\n",
              "      <th>merchant_state</th>\n",
              "      <th>extraction</th>\n",
              "      <th>amount</th>\n",
              "      <th>transaction_id</th>\n",
              "      <th>country</th>\n",
              "      <th>customer_id</th>\n",
              "      <th>merchant_long_lat</th>\n",
              "      <th>movement</th>\n",
              "      <th>extraction_date</th>\n",
              "      <th>extraction_month_name</th>\n",
              "      <th>extraction_year</th>\n",
              "      <th>extraction_day_name</th>\n",
              "      <th>extraction_hour</th>\n",
              "    </tr>\n",
              "  </thead>\n",
              "  <tbody>\n",
              "    <tr>\n",
              "      <th>705</th>\n",
              "      <td>posted</td>\n",
              "      <td>NaN</td>\n",
              "      <td>0</td>\n",
              "      <td>ACC-1037050564</td>\n",
              "      <td>AUD</td>\n",
              "      <td>153.10 -27.66</td>\n",
              "      <td>PAY/SALARY</td>\n",
              "      <td>NaN</td>\n",
              "      <td>0.0</td>\n",
              "      <td>Rhonda</td>\n",
              "      <td>1878.76</td>\n",
              "      <td>2018-08-06</td>\n",
              "      <td>F</td>\n",
              "      <td>40</td>\n",
              "      <td>NaN</td>\n",
              "      <td>NaN</td>\n",
              "      <td>2018-08-06 11:00:00+00:00</td>\n",
              "      <td>892.09</td>\n",
              "      <td>de558a6e22b6402b948dcf24066ac595</td>\n",
              "      <td>Australia</td>\n",
              "      <td>CUS-1614226872</td>\n",
              "      <td>NaN</td>\n",
              "      <td>credit</td>\n",
              "      <td>2018-08-06</td>\n",
              "      <td>August</td>\n",
              "      <td>2018</td>\n",
              "      <td>Monday</td>\n",
              "      <td>11</td>\n",
              "    </tr>\n",
              "    <tr>\n",
              "      <th>1602</th>\n",
              "      <td>posted</td>\n",
              "      <td>NaN</td>\n",
              "      <td>0</td>\n",
              "      <td>ACC-1037050564</td>\n",
              "      <td>AUD</td>\n",
              "      <td>153.10 -27.66</td>\n",
              "      <td>PAY/SALARY</td>\n",
              "      <td>NaN</td>\n",
              "      <td>0.0</td>\n",
              "      <td>Rhonda</td>\n",
              "      <td>2025.48</td>\n",
              "      <td>2018-08-13</td>\n",
              "      <td>F</td>\n",
              "      <td>40</td>\n",
              "      <td>NaN</td>\n",
              "      <td>NaN</td>\n",
              "      <td>2018-08-13 11:00:00+00:00</td>\n",
              "      <td>892.09</td>\n",
              "      <td>91082f097ab7414eae8ff699aa744ac7</td>\n",
              "      <td>Australia</td>\n",
              "      <td>CUS-1614226872</td>\n",
              "      <td>NaN</td>\n",
              "      <td>credit</td>\n",
              "      <td>2018-08-13</td>\n",
              "      <td>August</td>\n",
              "      <td>2018</td>\n",
              "      <td>Monday</td>\n",
              "      <td>11</td>\n",
              "    </tr>\n",
              "    <tr>\n",
              "      <th>2390</th>\n",
              "      <td>posted</td>\n",
              "      <td>NaN</td>\n",
              "      <td>0</td>\n",
              "      <td>ACC-1037050564</td>\n",
              "      <td>AUD</td>\n",
              "      <td>153.10 -27.66</td>\n",
              "      <td>PAY/SALARY</td>\n",
              "      <td>NaN</td>\n",
              "      <td>0.0</td>\n",
              "      <td>Rhonda</td>\n",
              "      <td>2628.62</td>\n",
              "      <td>2018-08-20</td>\n",
              "      <td>F</td>\n",
              "      <td>40</td>\n",
              "      <td>NaN</td>\n",
              "      <td>NaN</td>\n",
              "      <td>2018-08-20 11:00:00+00:00</td>\n",
              "      <td>892.09</td>\n",
              "      <td>ffa86370a9f0457faf40e8349e9bf3d9</td>\n",
              "      <td>Australia</td>\n",
              "      <td>CUS-1614226872</td>\n",
              "      <td>NaN</td>\n",
              "      <td>credit</td>\n",
              "      <td>2018-08-20</td>\n",
              "      <td>August</td>\n",
              "      <td>2018</td>\n",
              "      <td>Monday</td>\n",
              "      <td>11</td>\n",
              "    </tr>\n",
              "    <tr>\n",
              "      <th>3311</th>\n",
              "      <td>posted</td>\n",
              "      <td>NaN</td>\n",
              "      <td>0</td>\n",
              "      <td>ACC-1037050564</td>\n",
              "      <td>AUD</td>\n",
              "      <td>153.10 -27.66</td>\n",
              "      <td>PAY/SALARY</td>\n",
              "      <td>NaN</td>\n",
              "      <td>0.0</td>\n",
              "      <td>Rhonda</td>\n",
              "      <td>3060.28</td>\n",
              "      <td>2018-08-27</td>\n",
              "      <td>F</td>\n",
              "      <td>40</td>\n",
              "      <td>NaN</td>\n",
              "      <td>NaN</td>\n",
              "      <td>2018-08-27 11:00:00+00:00</td>\n",
              "      <td>892.09</td>\n",
              "      <td>a11ace33fe2b484e9e512ca45516aeb7</td>\n",
              "      <td>Australia</td>\n",
              "      <td>CUS-1614226872</td>\n",
              "      <td>NaN</td>\n",
              "      <td>credit</td>\n",
              "      <td>2018-08-27</td>\n",
              "      <td>August</td>\n",
              "      <td>2018</td>\n",
              "      <td>Monday</td>\n",
              "      <td>11</td>\n",
              "    </tr>\n",
              "    <tr>\n",
              "      <th>4252</th>\n",
              "      <td>posted</td>\n",
              "      <td>NaN</td>\n",
              "      <td>0</td>\n",
              "      <td>ACC-1037050564</td>\n",
              "      <td>AUD</td>\n",
              "      <td>153.10 -27.66</td>\n",
              "      <td>PAY/SALARY</td>\n",
              "      <td>NaN</td>\n",
              "      <td>0.0</td>\n",
              "      <td>Rhonda</td>\n",
              "      <td>3780.96</td>\n",
              "      <td>2018-09-03</td>\n",
              "      <td>F</td>\n",
              "      <td>40</td>\n",
              "      <td>NaN</td>\n",
              "      <td>NaN</td>\n",
              "      <td>2018-09-03 11:00:00+00:00</td>\n",
              "      <td>892.09</td>\n",
              "      <td>586a7325e8d54385bf732eae289f670b</td>\n",
              "      <td>Australia</td>\n",
              "      <td>CUS-1614226872</td>\n",
              "      <td>NaN</td>\n",
              "      <td>credit</td>\n",
              "      <td>2018-09-03</td>\n",
              "      <td>September</td>\n",
              "      <td>2018</td>\n",
              "      <td>Monday</td>\n",
              "      <td>11</td>\n",
              "    </tr>\n",
              "    <tr>\n",
              "      <th>5185</th>\n",
              "      <td>posted</td>\n",
              "      <td>NaN</td>\n",
              "      <td>0</td>\n",
              "      <td>ACC-1037050564</td>\n",
              "      <td>AUD</td>\n",
              "      <td>153.10 -27.66</td>\n",
              "      <td>PAY/SALARY</td>\n",
              "      <td>NaN</td>\n",
              "      <td>0.0</td>\n",
              "      <td>Rhonda</td>\n",
              "      <td>3724.18</td>\n",
              "      <td>2018-09-10</td>\n",
              "      <td>F</td>\n",
              "      <td>40</td>\n",
              "      <td>NaN</td>\n",
              "      <td>NaN</td>\n",
              "      <td>2018-09-10 11:00:00+00:00</td>\n",
              "      <td>892.09</td>\n",
              "      <td>1cbbcb140c64400fb52801626b1631f4</td>\n",
              "      <td>Australia</td>\n",
              "      <td>CUS-1614226872</td>\n",
              "      <td>NaN</td>\n",
              "      <td>credit</td>\n",
              "      <td>2018-09-10</td>\n",
              "      <td>September</td>\n",
              "      <td>2018</td>\n",
              "      <td>Monday</td>\n",
              "      <td>11</td>\n",
              "    </tr>\n",
              "    <tr>\n",
              "      <th>6112</th>\n",
              "      <td>posted</td>\n",
              "      <td>NaN</td>\n",
              "      <td>0</td>\n",
              "      <td>ACC-1037050564</td>\n",
              "      <td>AUD</td>\n",
              "      <td>153.10 -27.66</td>\n",
              "      <td>PAY/SALARY</td>\n",
              "      <td>NaN</td>\n",
              "      <td>0.0</td>\n",
              "      <td>Rhonda</td>\n",
              "      <td>4146.65</td>\n",
              "      <td>2018-09-17</td>\n",
              "      <td>F</td>\n",
              "      <td>40</td>\n",
              "      <td>NaN</td>\n",
              "      <td>NaN</td>\n",
              "      <td>2018-09-17 11:00:00+00:00</td>\n",
              "      <td>892.09</td>\n",
              "      <td>ff5cb6b8664b4ceaba1b8b3d49024635</td>\n",
              "      <td>Australia</td>\n",
              "      <td>CUS-1614226872</td>\n",
              "      <td>NaN</td>\n",
              "      <td>credit</td>\n",
              "      <td>2018-09-17</td>\n",
              "      <td>September</td>\n",
              "      <td>2018</td>\n",
              "      <td>Monday</td>\n",
              "      <td>11</td>\n",
              "    </tr>\n",
              "    <tr>\n",
              "      <th>7056</th>\n",
              "      <td>posted</td>\n",
              "      <td>NaN</td>\n",
              "      <td>0</td>\n",
              "      <td>ACC-1037050564</td>\n",
              "      <td>AUD</td>\n",
              "      <td>153.10 -27.66</td>\n",
              "      <td>PAY/SALARY</td>\n",
              "      <td>NaN</td>\n",
              "      <td>0.0</td>\n",
              "      <td>Rhonda</td>\n",
              "      <td>4465.56</td>\n",
              "      <td>2018-09-24</td>\n",
              "      <td>F</td>\n",
              "      <td>40</td>\n",
              "      <td>NaN</td>\n",
              "      <td>NaN</td>\n",
              "      <td>2018-09-24 11:00:00+00:00</td>\n",
              "      <td>892.09</td>\n",
              "      <td>73e282fb810d4273b5482aa4c3cc601a</td>\n",
              "      <td>Australia</td>\n",
              "      <td>CUS-1614226872</td>\n",
              "      <td>NaN</td>\n",
              "      <td>credit</td>\n",
              "      <td>2018-09-24</td>\n",
              "      <td>September</td>\n",
              "      <td>2018</td>\n",
              "      <td>Monday</td>\n",
              "      <td>11</td>\n",
              "    </tr>\n",
              "    <tr>\n",
              "      <th>7997</th>\n",
              "      <td>posted</td>\n",
              "      <td>NaN</td>\n",
              "      <td>0</td>\n",
              "      <td>ACC-1037050564</td>\n",
              "      <td>AUD</td>\n",
              "      <td>153.10 -27.66</td>\n",
              "      <td>PAY/SALARY</td>\n",
              "      <td>NaN</td>\n",
              "      <td>0.0</td>\n",
              "      <td>Rhonda</td>\n",
              "      <td>4494.64</td>\n",
              "      <td>2018-10-01</td>\n",
              "      <td>F</td>\n",
              "      <td>40</td>\n",
              "      <td>NaN</td>\n",
              "      <td>NaN</td>\n",
              "      <td>2018-10-01 11:00:00+00:00</td>\n",
              "      <td>892.09</td>\n",
              "      <td>71b91722ce8f4177a4be692ebb088fe6</td>\n",
              "      <td>Australia</td>\n",
              "      <td>CUS-1614226872</td>\n",
              "      <td>NaN</td>\n",
              "      <td>credit</td>\n",
              "      <td>2018-10-01</td>\n",
              "      <td>October</td>\n",
              "      <td>2018</td>\n",
              "      <td>Monday</td>\n",
              "      <td>11</td>\n",
              "    </tr>\n",
              "    <tr>\n",
              "      <th>8937</th>\n",
              "      <td>posted</td>\n",
              "      <td>NaN</td>\n",
              "      <td>0</td>\n",
              "      <td>ACC-1037050564</td>\n",
              "      <td>AUD</td>\n",
              "      <td>153.10 -27.66</td>\n",
              "      <td>PAY/SALARY</td>\n",
              "      <td>NaN</td>\n",
              "      <td>0.0</td>\n",
              "      <td>Rhonda</td>\n",
              "      <td>4545.77</td>\n",
              "      <td>2018-10-08</td>\n",
              "      <td>F</td>\n",
              "      <td>40</td>\n",
              "      <td>NaN</td>\n",
              "      <td>NaN</td>\n",
              "      <td>2018-10-08 11:00:00+00:00</td>\n",
              "      <td>892.09</td>\n",
              "      <td>cbd08944c11c413ea210dcca994274e9</td>\n",
              "      <td>Australia</td>\n",
              "      <td>CUS-1614226872</td>\n",
              "      <td>NaN</td>\n",
              "      <td>credit</td>\n",
              "      <td>2018-10-08</td>\n",
              "      <td>October</td>\n",
              "      <td>2018</td>\n",
              "      <td>Monday</td>\n",
              "      <td>11</td>\n",
              "    </tr>\n",
              "    <tr>\n",
              "      <th>9874</th>\n",
              "      <td>posted</td>\n",
              "      <td>NaN</td>\n",
              "      <td>0</td>\n",
              "      <td>ACC-1037050564</td>\n",
              "      <td>AUD</td>\n",
              "      <td>153.10 -27.66</td>\n",
              "      <td>PAY/SALARY</td>\n",
              "      <td>NaN</td>\n",
              "      <td>0.0</td>\n",
              "      <td>Rhonda</td>\n",
              "      <td>5131.42</td>\n",
              "      <td>2018-10-15</td>\n",
              "      <td>F</td>\n",
              "      <td>40</td>\n",
              "      <td>NaN</td>\n",
              "      <td>NaN</td>\n",
              "      <td>2018-10-15 11:00:00+00:00</td>\n",
              "      <td>892.09</td>\n",
              "      <td>a3ff093322094a46a03426a36e0a2c94</td>\n",
              "      <td>Australia</td>\n",
              "      <td>CUS-1614226872</td>\n",
              "      <td>NaN</td>\n",
              "      <td>credit</td>\n",
              "      <td>2018-10-15</td>\n",
              "      <td>October</td>\n",
              "      <td>2018</td>\n",
              "      <td>Monday</td>\n",
              "      <td>11</td>\n",
              "    </tr>\n",
              "    <tr>\n",
              "      <th>10816</th>\n",
              "      <td>posted</td>\n",
              "      <td>NaN</td>\n",
              "      <td>0</td>\n",
              "      <td>ACC-1037050564</td>\n",
              "      <td>AUD</td>\n",
              "      <td>153.10 -27.66</td>\n",
              "      <td>PAY/SALARY</td>\n",
              "      <td>NaN</td>\n",
              "      <td>0.0</td>\n",
              "      <td>Rhonda</td>\n",
              "      <td>5524.86</td>\n",
              "      <td>2018-10-22</td>\n",
              "      <td>F</td>\n",
              "      <td>40</td>\n",
              "      <td>NaN</td>\n",
              "      <td>NaN</td>\n",
              "      <td>2018-10-22 11:00:00+00:00</td>\n",
              "      <td>892.09</td>\n",
              "      <td>05a4c832470f4a5aad166b965be8862c</td>\n",
              "      <td>Australia</td>\n",
              "      <td>CUS-1614226872</td>\n",
              "      <td>NaN</td>\n",
              "      <td>credit</td>\n",
              "      <td>2018-10-22</td>\n",
              "      <td>October</td>\n",
              "      <td>2018</td>\n",
              "      <td>Monday</td>\n",
              "      <td>11</td>\n",
              "    </tr>\n",
              "    <tr>\n",
              "      <th>11749</th>\n",
              "      <td>posted</td>\n",
              "      <td>NaN</td>\n",
              "      <td>0</td>\n",
              "      <td>ACC-1037050564</td>\n",
              "      <td>AUD</td>\n",
              "      <td>153.10 -27.66</td>\n",
              "      <td>PAY/SALARY</td>\n",
              "      <td>NaN</td>\n",
              "      <td>0.0</td>\n",
              "      <td>Rhonda</td>\n",
              "      <td>6065.02</td>\n",
              "      <td>2018-10-29</td>\n",
              "      <td>F</td>\n",
              "      <td>40</td>\n",
              "      <td>NaN</td>\n",
              "      <td>NaN</td>\n",
              "      <td>2018-10-29 11:00:00+00:00</td>\n",
              "      <td>892.09</td>\n",
              "      <td>e7e999056a1f4afdac171426e96c58ee</td>\n",
              "      <td>Australia</td>\n",
              "      <td>CUS-1614226872</td>\n",
              "      <td>NaN</td>\n",
              "      <td>credit</td>\n",
              "      <td>2018-10-29</td>\n",
              "      <td>October</td>\n",
              "      <td>2018</td>\n",
              "      <td>Monday</td>\n",
              "      <td>11</td>\n",
              "    </tr>\n",
              "    <tr>\n",
              "      <th>242</th>\n",
              "      <td>posted</td>\n",
              "      <td>NaN</td>\n",
              "      <td>0</td>\n",
              "      <td>ACC-1056639002</td>\n",
              "      <td>AUD</td>\n",
              "      <td>145.03 -37.91</td>\n",
              "      <td>PAY/SALARY</td>\n",
              "      <td>NaN</td>\n",
              "      <td>0.0</td>\n",
              "      <td>Michael</td>\n",
              "      <td>42790.09</td>\n",
              "      <td>2018-08-02</td>\n",
              "      <td>M</td>\n",
              "      <td>22</td>\n",
              "      <td>NaN</td>\n",
              "      <td>NaN</td>\n",
              "      <td>2018-08-02 17:00:00+00:00</td>\n",
              "      <td>3195.01</td>\n",
              "      <td>914c8d4832cc42b99a37b5218ba84a80</td>\n",
              "      <td>Australia</td>\n",
              "      <td>CUS-3462882033</td>\n",
              "      <td>NaN</td>\n",
              "      <td>credit</td>\n",
              "      <td>2018-08-02</td>\n",
              "      <td>August</td>\n",
              "      <td>2018</td>\n",
              "      <td>Thursday</td>\n",
              "      <td>17</td>\n",
              "    </tr>\n",
              "  </tbody>\n",
              "</table>\n",
              "</div>"
            ],
            "text/plain": [
              "       status  card_present_flag  ... extraction_day_name extraction_hour\n",
              "705    posted                NaN  ...              Monday              11\n",
              "1602   posted                NaN  ...              Monday              11\n",
              "2390   posted                NaN  ...              Monday              11\n",
              "3311   posted                NaN  ...              Monday              11\n",
              "4252   posted                NaN  ...              Monday              11\n",
              "5185   posted                NaN  ...              Monday              11\n",
              "6112   posted                NaN  ...              Monday              11\n",
              "7056   posted                NaN  ...              Monday              11\n",
              "7997   posted                NaN  ...              Monday              11\n",
              "8937   posted                NaN  ...              Monday              11\n",
              "9874   posted                NaN  ...              Monday              11\n",
              "10816  posted                NaN  ...              Monday              11\n",
              "11749  posted                NaN  ...              Monday              11\n",
              "242    posted                NaN  ...            Thursday              17\n",
              "\n",
              "[14 rows x 28 columns]"
            ]
          },
          "metadata": {},
          "execution_count": 969
        }
      ]
    },
    {
      "cell_type": "code",
      "source": [
        "df_sal = df.loc[df['txn_description']=='PAY/SALARY'].groupby(['account'])['amount'].sum().reset_index()\n",
        "df_sal.head()"
      ],
      "metadata": {
        "colab": {
          "base_uri": "https://localhost:8080/",
          "height": 206
        },
        "id": "mj0_ktN36yvW",
        "outputId": "a03a6b5e-8cca-4651-c77e-ffcbc791cc76"
      },
      "execution_count": 970,
      "outputs": [
        {
          "output_type": "execute_result",
          "data": {
            "text/html": [
              "<div>\n",
              "<style scoped>\n",
              "    .dataframe tbody tr th:only-of-type {\n",
              "        vertical-align: middle;\n",
              "    }\n",
              "\n",
              "    .dataframe tbody tr th {\n",
              "        vertical-align: top;\n",
              "    }\n",
              "\n",
              "    .dataframe thead th {\n",
              "        text-align: right;\n",
              "    }\n",
              "</style>\n",
              "<table border=\"1\" class=\"dataframe\">\n",
              "  <thead>\n",
              "    <tr style=\"text-align: right;\">\n",
              "      <th></th>\n",
              "      <th>account</th>\n",
              "      <th>amount</th>\n",
              "    </tr>\n",
              "  </thead>\n",
              "  <tbody>\n",
              "    <tr>\n",
              "      <th>0</th>\n",
              "      <td>ACC-1037050564</td>\n",
              "      <td>11597.17</td>\n",
              "    </tr>\n",
              "    <tr>\n",
              "      <th>1</th>\n",
              "      <td>ACC-1056639002</td>\n",
              "      <td>19170.06</td>\n",
              "    </tr>\n",
              "    <tr>\n",
              "      <th>2</th>\n",
              "      <td>ACC-1199531521</td>\n",
              "      <td>26500.46</td>\n",
              "    </tr>\n",
              "    <tr>\n",
              "      <th>3</th>\n",
              "      <td>ACC-1217063613</td>\n",
              "      <td>9727.24</td>\n",
              "    </tr>\n",
              "    <tr>\n",
              "      <th>4</th>\n",
              "      <td>ACC-1222300524</td>\n",
              "      <td>13027.69</td>\n",
              "    </tr>\n",
              "  </tbody>\n",
              "</table>\n",
              "</div>"
            ],
            "text/plain": [
              "          account    amount\n",
              "0  ACC-1037050564  11597.17\n",
              "1  ACC-1056639002  19170.06\n",
              "2  ACC-1199531521  26500.46\n",
              "3  ACC-1217063613   9727.24\n",
              "4  ACC-1222300524  13027.69"
            ]
          },
          "metadata": {},
          "execution_count": 970
        }
      ]
    },
    {
      "cell_type": "code",
      "source": [
        "df_sal.dtypes"
      ],
      "metadata": {
        "colab": {
          "base_uri": "https://localhost:8080/"
        },
        "id": "aggBBcqc79Yx",
        "outputId": "a4e6c4be-5dda-48c1-f722-a9c84f6c9411"
      },
      "execution_count": 971,
      "outputs": [
        {
          "output_type": "execute_result",
          "data": {
            "text/plain": [
              "account     object\n",
              "amount     float64\n",
              "dtype: object"
            ]
          },
          "metadata": {},
          "execution_count": 971
        }
      ]
    },
    {
      "cell_type": "code",
      "source": [
        "df_sal['annual_salary'] = df_sal['amount']*12/3\n",
        "df_sal.head()"
      ],
      "metadata": {
        "colab": {
          "base_uri": "https://localhost:8080/",
          "height": 206
        },
        "id": "6iG0Zb8O7mx7",
        "outputId": "07c2a0cf-a67e-441c-a18e-3e0360ac96c5"
      },
      "execution_count": 972,
      "outputs": [
        {
          "output_type": "execute_result",
          "data": {
            "text/html": [
              "<div>\n",
              "<style scoped>\n",
              "    .dataframe tbody tr th:only-of-type {\n",
              "        vertical-align: middle;\n",
              "    }\n",
              "\n",
              "    .dataframe tbody tr th {\n",
              "        vertical-align: top;\n",
              "    }\n",
              "\n",
              "    .dataframe thead th {\n",
              "        text-align: right;\n",
              "    }\n",
              "</style>\n",
              "<table border=\"1\" class=\"dataframe\">\n",
              "  <thead>\n",
              "    <tr style=\"text-align: right;\">\n",
              "      <th></th>\n",
              "      <th>account</th>\n",
              "      <th>amount</th>\n",
              "      <th>annual_salary</th>\n",
              "    </tr>\n",
              "  </thead>\n",
              "  <tbody>\n",
              "    <tr>\n",
              "      <th>0</th>\n",
              "      <td>ACC-1037050564</td>\n",
              "      <td>11597.17</td>\n",
              "      <td>46388.68</td>\n",
              "    </tr>\n",
              "    <tr>\n",
              "      <th>1</th>\n",
              "      <td>ACC-1056639002</td>\n",
              "      <td>19170.06</td>\n",
              "      <td>76680.24</td>\n",
              "    </tr>\n",
              "    <tr>\n",
              "      <th>2</th>\n",
              "      <td>ACC-1199531521</td>\n",
              "      <td>26500.46</td>\n",
              "      <td>106001.84</td>\n",
              "    </tr>\n",
              "    <tr>\n",
              "      <th>3</th>\n",
              "      <td>ACC-1217063613</td>\n",
              "      <td>9727.24</td>\n",
              "      <td>38908.96</td>\n",
              "    </tr>\n",
              "    <tr>\n",
              "      <th>4</th>\n",
              "      <td>ACC-1222300524</td>\n",
              "      <td>13027.69</td>\n",
              "      <td>52110.76</td>\n",
              "    </tr>\n",
              "  </tbody>\n",
              "</table>\n",
              "</div>"
            ],
            "text/plain": [
              "          account    amount  annual_salary\n",
              "0  ACC-1037050564  11597.17       46388.68\n",
              "1  ACC-1056639002  19170.06       76680.24\n",
              "2  ACC-1199531521  26500.46      106001.84\n",
              "3  ACC-1217063613   9727.24       38908.96\n",
              "4  ACC-1222300524  13027.69       52110.76"
            ]
          },
          "metadata": {},
          "execution_count": 972
        }
      ]
    },
    {
      "cell_type": "code",
      "source": [
        "df_location = df.groupby(['account'])['merchant_state'].agg(pd.Series.mode).reset_index()\n",
        "df_location = df_location.rename(columns={'merchant_state':'location'})\n",
        "df_location.head(3)"
      ],
      "metadata": {
        "colab": {
          "base_uri": "https://localhost:8080/",
          "height": 143
        },
        "id": "nx17J6_LEwQi",
        "outputId": "db3be7bc-97e2-4054-aa2c-fb9728347b14"
      },
      "execution_count": 973,
      "outputs": [
        {
          "output_type": "execute_result",
          "data": {
            "text/html": [
              "<div>\n",
              "<style scoped>\n",
              "    .dataframe tbody tr th:only-of-type {\n",
              "        vertical-align: middle;\n",
              "    }\n",
              "\n",
              "    .dataframe tbody tr th {\n",
              "        vertical-align: top;\n",
              "    }\n",
              "\n",
              "    .dataframe thead th {\n",
              "        text-align: right;\n",
              "    }\n",
              "</style>\n",
              "<table border=\"1\" class=\"dataframe\">\n",
              "  <thead>\n",
              "    <tr style=\"text-align: right;\">\n",
              "      <th></th>\n",
              "      <th>account</th>\n",
              "      <th>location</th>\n",
              "    </tr>\n",
              "  </thead>\n",
              "  <tbody>\n",
              "    <tr>\n",
              "      <th>0</th>\n",
              "      <td>ACC-1037050564</td>\n",
              "      <td>QLD</td>\n",
              "    </tr>\n",
              "    <tr>\n",
              "      <th>1</th>\n",
              "      <td>ACC-1056639002</td>\n",
              "      <td>VIC</td>\n",
              "    </tr>\n",
              "    <tr>\n",
              "      <th>2</th>\n",
              "      <td>ACC-1199531521</td>\n",
              "      <td>WA</td>\n",
              "    </tr>\n",
              "  </tbody>\n",
              "</table>\n",
              "</div>"
            ],
            "text/plain": [
              "          account location\n",
              "0  ACC-1037050564      QLD\n",
              "1  ACC-1056639002      VIC\n",
              "2  ACC-1199531521       WA"
            ]
          },
          "metadata": {},
          "execution_count": 973
        }
      ]
    },
    {
      "cell_type": "code",
      "source": [
        "df_bal = df.groupby(['account'])['balance'].mean().reset_index()\n",
        "df_bal = df_bal.rename(columns={'balance':'average_balance'})\n",
        "df_bal.head(3)"
      ],
      "metadata": {
        "colab": {
          "base_uri": "https://localhost:8080/",
          "height": 143
        },
        "id": "i2TfKAZNGDCn",
        "outputId": "d5507c80-a3fd-4f8d-e319-0e65e9c14326"
      },
      "execution_count": 974,
      "outputs": [
        {
          "output_type": "execute_result",
          "data": {
            "text/html": [
              "<div>\n",
              "<style scoped>\n",
              "    .dataframe tbody tr th:only-of-type {\n",
              "        vertical-align: middle;\n",
              "    }\n",
              "\n",
              "    .dataframe tbody tr th {\n",
              "        vertical-align: top;\n",
              "    }\n",
              "\n",
              "    .dataframe thead th {\n",
              "        text-align: right;\n",
              "    }\n",
              "</style>\n",
              "<table border=\"1\" class=\"dataframe\">\n",
              "  <thead>\n",
              "    <tr style=\"text-align: right;\">\n",
              "      <th></th>\n",
              "      <th>account</th>\n",
              "      <th>average_balance</th>\n",
              "    </tr>\n",
              "  </thead>\n",
              "  <tbody>\n",
              "    <tr>\n",
              "      <th>0</th>\n",
              "      <td>ACC-1037050564</td>\n",
              "      <td>3331.424479</td>\n",
              "    </tr>\n",
              "    <tr>\n",
              "      <th>1</th>\n",
              "      <td>ACC-1056639002</td>\n",
              "      <td>46338.733837</td>\n",
              "    </tr>\n",
              "    <tr>\n",
              "      <th>2</th>\n",
              "      <td>ACC-1199531521</td>\n",
              "      <td>10162.788961</td>\n",
              "    </tr>\n",
              "  </tbody>\n",
              "</table>\n",
              "</div>"
            ],
            "text/plain": [
              "          account  average_balance\n",
              "0  ACC-1037050564      3331.424479\n",
              "1  ACC-1056639002     46338.733837\n",
              "2  ACC-1199531521     10162.788961"
            ]
          },
          "metadata": {},
          "execution_count": 974
        }
      ]
    },
    {
      "cell_type": "code",
      "source": [
        "df_mod = df.merge(df_sal, how='inner', on='account')\n",
        "df_mod = df_mod.merge(df_location, how='inner', on='account')\n",
        "df_mod = df_mod.merge(df_bal, how='inner', on='account')\n",
        "df_mod.head(3)"
      ],
      "metadata": {
        "colab": {
          "base_uri": "https://localhost:8080/",
          "height": 319
        },
        "id": "4aRQF0IjGpqp",
        "outputId": "237c9d8c-db1e-48a3-ba73-39ef81d66f0a"
      },
      "execution_count": 975,
      "outputs": [
        {
          "output_type": "execute_result",
          "data": {
            "text/html": [
              "<div>\n",
              "<style scoped>\n",
              "    .dataframe tbody tr th:only-of-type {\n",
              "        vertical-align: middle;\n",
              "    }\n",
              "\n",
              "    .dataframe tbody tr th {\n",
              "        vertical-align: top;\n",
              "    }\n",
              "\n",
              "    .dataframe thead th {\n",
              "        text-align: right;\n",
              "    }\n",
              "</style>\n",
              "<table border=\"1\" class=\"dataframe\">\n",
              "  <thead>\n",
              "    <tr style=\"text-align: right;\">\n",
              "      <th></th>\n",
              "      <th>status</th>\n",
              "      <th>card_present_flag</th>\n",
              "      <th>bpay_biller_code</th>\n",
              "      <th>account</th>\n",
              "      <th>currency</th>\n",
              "      <th>long_lat</th>\n",
              "      <th>txn_description</th>\n",
              "      <th>merchant_id</th>\n",
              "      <th>merchant_code</th>\n",
              "      <th>first_name</th>\n",
              "      <th>balance</th>\n",
              "      <th>date</th>\n",
              "      <th>gender</th>\n",
              "      <th>age</th>\n",
              "      <th>merchant_suburb</th>\n",
              "      <th>merchant_state</th>\n",
              "      <th>extraction</th>\n",
              "      <th>amount_x</th>\n",
              "      <th>transaction_id</th>\n",
              "      <th>country</th>\n",
              "      <th>customer_id</th>\n",
              "      <th>merchant_long_lat</th>\n",
              "      <th>movement</th>\n",
              "      <th>extraction_date</th>\n",
              "      <th>extraction_month_name</th>\n",
              "      <th>extraction_year</th>\n",
              "      <th>extraction_day_name</th>\n",
              "      <th>extraction_hour</th>\n",
              "      <th>amount_y</th>\n",
              "      <th>annual_salary</th>\n",
              "      <th>location</th>\n",
              "      <th>average_balance</th>\n",
              "    </tr>\n",
              "  </thead>\n",
              "  <tbody>\n",
              "    <tr>\n",
              "      <th>0</th>\n",
              "      <td>authorized</td>\n",
              "      <td>1.0</td>\n",
              "      <td>NaN</td>\n",
              "      <td>ACC-1598451071</td>\n",
              "      <td>AUD</td>\n",
              "      <td>153.41 -27.95</td>\n",
              "      <td>POS</td>\n",
              "      <td>81c48296-73be-44a7-befa-d053f48ce7cd</td>\n",
              "      <td>NaN</td>\n",
              "      <td>Diana</td>\n",
              "      <td>35.39</td>\n",
              "      <td>2018-08-01</td>\n",
              "      <td>F</td>\n",
              "      <td>26</td>\n",
              "      <td>Ashmore</td>\n",
              "      <td>QLD</td>\n",
              "      <td>2018-08-01 01:01:15+00:00</td>\n",
              "      <td>16.25</td>\n",
              "      <td>a623070bfead4541a6b0fff8a09e706c</td>\n",
              "      <td>Australia</td>\n",
              "      <td>CUS-2487424745</td>\n",
              "      <td>153.38 -27.99</td>\n",
              "      <td>debit</td>\n",
              "      <td>2018-08-01</td>\n",
              "      <td>August</td>\n",
              "      <td>2018</td>\n",
              "      <td>Wednesday</td>\n",
              "      <td>1</td>\n",
              "      <td>14191.38</td>\n",
              "      <td>56765.52</td>\n",
              "      <td>QLD</td>\n",
              "      <td>1735.120675</td>\n",
              "    </tr>\n",
              "    <tr>\n",
              "      <th>1</th>\n",
              "      <td>authorized</td>\n",
              "      <td>0.0</td>\n",
              "      <td>NaN</td>\n",
              "      <td>ACC-1598451071</td>\n",
              "      <td>AUD</td>\n",
              "      <td>153.41 -27.95</td>\n",
              "      <td>SALES-POS</td>\n",
              "      <td>830a451c-316e-4a6a-bf25-e37caedca49e</td>\n",
              "      <td>NaN</td>\n",
              "      <td>Diana</td>\n",
              "      <td>21.20</td>\n",
              "      <td>2018-08-01</td>\n",
              "      <td>F</td>\n",
              "      <td>26</td>\n",
              "      <td>Sydney</td>\n",
              "      <td>NSW</td>\n",
              "      <td>2018-08-01 01:13:45+00:00</td>\n",
              "      <td>14.19</td>\n",
              "      <td>13270a2a902145da9db4c951e04b51b9</td>\n",
              "      <td>Australia</td>\n",
              "      <td>CUS-2487424745</td>\n",
              "      <td>151.21 -33.87</td>\n",
              "      <td>debit</td>\n",
              "      <td>2018-08-01</td>\n",
              "      <td>August</td>\n",
              "      <td>2018</td>\n",
              "      <td>Wednesday</td>\n",
              "      <td>1</td>\n",
              "      <td>14191.38</td>\n",
              "      <td>56765.52</td>\n",
              "      <td>QLD</td>\n",
              "      <td>1735.120675</td>\n",
              "    </tr>\n",
              "    <tr>\n",
              "      <th>2</th>\n",
              "      <td>authorized</td>\n",
              "      <td>1.0</td>\n",
              "      <td>NaN</td>\n",
              "      <td>ACC-1598451071</td>\n",
              "      <td>AUD</td>\n",
              "      <td>153.41 -27.95</td>\n",
              "      <td>SALES-POS</td>\n",
              "      <td>b4e02c10-0852-4273-b8fd-7b3395e32eb0</td>\n",
              "      <td>NaN</td>\n",
              "      <td>Diana</td>\n",
              "      <td>17.95</td>\n",
              "      <td>2018-08-01</td>\n",
              "      <td>F</td>\n",
              "      <td>26</td>\n",
              "      <td>Mermaid Beach</td>\n",
              "      <td>QLD</td>\n",
              "      <td>2018-08-01 01:51:15+00:00</td>\n",
              "      <td>3.25</td>\n",
              "      <td>329adf79878c4cf0aeb4188b4691c266</td>\n",
              "      <td>Australia</td>\n",
              "      <td>CUS-2487424745</td>\n",
              "      <td>153.44 -28.06</td>\n",
              "      <td>debit</td>\n",
              "      <td>2018-08-01</td>\n",
              "      <td>August</td>\n",
              "      <td>2018</td>\n",
              "      <td>Wednesday</td>\n",
              "      <td>1</td>\n",
              "      <td>14191.38</td>\n",
              "      <td>56765.52</td>\n",
              "      <td>QLD</td>\n",
              "      <td>1735.120675</td>\n",
              "    </tr>\n",
              "  </tbody>\n",
              "</table>\n",
              "</div>"
            ],
            "text/plain": [
              "       status  card_present_flag  ... location average_balance\n",
              "0  authorized                1.0  ...      QLD     1735.120675\n",
              "1  authorized                0.0  ...      QLD     1735.120675\n",
              "2  authorized                1.0  ...      QLD     1735.120675\n",
              "\n",
              "[3 rows x 32 columns]"
            ]
          },
          "metadata": {},
          "execution_count": 975
        }
      ]
    },
    {
      "cell_type": "code",
      "source": [
        "df_mod = df_mod.drop(df_mod.columns.difference(['account', 'gender', 'age', 'location', 'average_balance', 'annual_salary']), 1)\n",
        "df_mod.shape"
      ],
      "metadata": {
        "colab": {
          "base_uri": "https://localhost:8080/"
        },
        "id": "4oHd7r6kJN7G",
        "outputId": "194ee087-76aa-44b1-a893-e8543cda9fcf"
      },
      "execution_count": 976,
      "outputs": [
        {
          "output_type": "execute_result",
          "data": {
            "text/plain": [
              "(12043, 6)"
            ]
          },
          "metadata": {},
          "execution_count": 976
        }
      ]
    },
    {
      "cell_type": "code",
      "source": [
        "df_mod.dtypes"
      ],
      "metadata": {
        "colab": {
          "base_uri": "https://localhost:8080/"
        },
        "id": "LV28DdTaMi52",
        "outputId": "9f531b37-1bc9-4042-998b-65d12d7974e2"
      },
      "execution_count": 977,
      "outputs": [
        {
          "output_type": "execute_result",
          "data": {
            "text/plain": [
              "account             object\n",
              "gender              object\n",
              "age                  int64\n",
              "annual_salary      float64\n",
              "location            object\n",
              "average_balance    float64\n",
              "dtype: object"
            ]
          },
          "metadata": {},
          "execution_count": 977
        }
      ]
    },
    {
      "cell_type": "code",
      "source": [
        "df_mod.drop_duplicates(subset=['account'], keep='first', inplace=True)"
      ],
      "metadata": {
        "id": "2ZkI1KfuK13f"
      },
      "execution_count": 978,
      "outputs": []
    },
    {
      "cell_type": "code",
      "source": [
        "df_mod = df_mod.drop(columns=['account'])\n",
        "df_mod.head(20)"
      ],
      "metadata": {
        "colab": {
          "base_uri": "https://localhost:8080/",
          "height": 676
        },
        "id": "660zhWyCLtL6",
        "outputId": "d4fdbf9d-b962-4823-da08-e0536b310566"
      },
      "execution_count": 979,
      "outputs": [
        {
          "output_type": "execute_result",
          "data": {
            "text/html": [
              "<div>\n",
              "<style scoped>\n",
              "    .dataframe tbody tr th:only-of-type {\n",
              "        vertical-align: middle;\n",
              "    }\n",
              "\n",
              "    .dataframe tbody tr th {\n",
              "        vertical-align: top;\n",
              "    }\n",
              "\n",
              "    .dataframe thead th {\n",
              "        text-align: right;\n",
              "    }\n",
              "</style>\n",
              "<table border=\"1\" class=\"dataframe\">\n",
              "  <thead>\n",
              "    <tr style=\"text-align: right;\">\n",
              "      <th></th>\n",
              "      <th>gender</th>\n",
              "      <th>age</th>\n",
              "      <th>annual_salary</th>\n",
              "      <th>location</th>\n",
              "      <th>average_balance</th>\n",
              "    </tr>\n",
              "  </thead>\n",
              "  <tbody>\n",
              "    <tr>\n",
              "      <th>0</th>\n",
              "      <td>F</td>\n",
              "      <td>26</td>\n",
              "      <td>56765.52</td>\n",
              "      <td>QLD</td>\n",
              "      <td>1735.120675</td>\n",
              "    </tr>\n",
              "    <tr>\n",
              "      <th>578</th>\n",
              "      <td>M</td>\n",
              "      <td>38</td>\n",
              "      <td>52110.76</td>\n",
              "      <td>NSW</td>\n",
              "      <td>1191.291419</td>\n",
              "    </tr>\n",
              "    <tr>\n",
              "      <th>881</th>\n",
              "      <td>F</td>\n",
              "      <td>40</td>\n",
              "      <td>46388.68</td>\n",
              "      <td>QLD</td>\n",
              "      <td>3331.424479</td>\n",
              "    </tr>\n",
              "    <tr>\n",
              "      <th>1140</th>\n",
              "      <td>M</td>\n",
              "      <td>20</td>\n",
              "      <td>55687.20</td>\n",
              "      <td>NSW</td>\n",
              "      <td>5592.980078</td>\n",
              "    </tr>\n",
              "    <tr>\n",
              "      <th>1269</th>\n",
              "      <td>F</td>\n",
              "      <td>43</td>\n",
              "      <td>59810.24</td>\n",
              "      <td>VIC</td>\n",
              "      <td>5210.575373</td>\n",
              "    </tr>\n",
              "    <tr>\n",
              "      <th>1403</th>\n",
              "      <td>F</td>\n",
              "      <td>27</td>\n",
              "      <td>79524.20</td>\n",
              "      <td>WA</td>\n",
              "      <td>5854.977363</td>\n",
              "    </tr>\n",
              "    <tr>\n",
              "      <th>1695</th>\n",
              "      <td>M</td>\n",
              "      <td>40</td>\n",
              "      <td>118578.72</td>\n",
              "      <td>NSW</td>\n",
              "      <td>12071.625526</td>\n",
              "    </tr>\n",
              "    <tr>\n",
              "      <th>1809</th>\n",
              "      <td>M</td>\n",
              "      <td>19</td>\n",
              "      <td>73913.28</td>\n",
              "      <td>VIC</td>\n",
              "      <td>11885.744948</td>\n",
              "    </tr>\n",
              "    <tr>\n",
              "      <th>1906</th>\n",
              "      <td>M</td>\n",
              "      <td>23</td>\n",
              "      <td>109310.60</td>\n",
              "      <td>NSW</td>\n",
              "      <td>13368.370517</td>\n",
              "    </tr>\n",
              "    <tr>\n",
              "      <th>2022</th>\n",
              "      <td>M</td>\n",
              "      <td>43</td>\n",
              "      <td>134576.52</td>\n",
              "      <td>VIC</td>\n",
              "      <td>12471.784294</td>\n",
              "    </tr>\n",
              "    <tr>\n",
              "      <th>2185</th>\n",
              "      <td>M</td>\n",
              "      <td>30</td>\n",
              "      <td>43406.88</td>\n",
              "      <td>QLD</td>\n",
              "      <td>3462.276009</td>\n",
              "    </tr>\n",
              "    <tr>\n",
              "      <th>2418</th>\n",
              "      <td>M</td>\n",
              "      <td>46</td>\n",
              "      <td>52319.04</td>\n",
              "      <td>VIC</td>\n",
              "      <td>263753.766119</td>\n",
              "    </tr>\n",
              "    <tr>\n",
              "      <th>2485</th>\n",
              "      <td>F</td>\n",
              "      <td>26</td>\n",
              "      <td>44194.08</td>\n",
              "      <td>SA</td>\n",
              "      <td>7149.110167</td>\n",
              "    </tr>\n",
              "    <tr>\n",
              "      <th>2545</th>\n",
              "      <td>F</td>\n",
              "      <td>47</td>\n",
              "      <td>66168.44</td>\n",
              "      <td>WA</td>\n",
              "      <td>5456.441364</td>\n",
              "    </tr>\n",
              "    <tr>\n",
              "      <th>2655</th>\n",
              "      <td>F</td>\n",
              "      <td>24</td>\n",
              "      <td>55111.68</td>\n",
              "      <td>VIC</td>\n",
              "      <td>3493.165462</td>\n",
              "    </tr>\n",
              "    <tr>\n",
              "      <th>2915</th>\n",
              "      <td>M</td>\n",
              "      <td>37</td>\n",
              "      <td>47707.40</td>\n",
              "      <td>QLD</td>\n",
              "      <td>2863.960084</td>\n",
              "    </tr>\n",
              "    <tr>\n",
              "      <th>3154</th>\n",
              "      <td>F</td>\n",
              "      <td>25</td>\n",
              "      <td>63717.16</td>\n",
              "      <td>WA</td>\n",
              "      <td>4859.740870</td>\n",
              "    </tr>\n",
              "    <tr>\n",
              "      <th>3384</th>\n",
              "      <td>F</td>\n",
              "      <td>43</td>\n",
              "      <td>34550.36</td>\n",
              "      <td>VIC</td>\n",
              "      <td>30331.218654</td>\n",
              "    </tr>\n",
              "    <tr>\n",
              "      <th>3436</th>\n",
              "      <td>M</td>\n",
              "      <td>21</td>\n",
              "      <td>72041.48</td>\n",
              "      <td>VIC</td>\n",
              "      <td>5800.773158</td>\n",
              "    </tr>\n",
              "    <tr>\n",
              "      <th>3588</th>\n",
              "      <td>F</td>\n",
              "      <td>39</td>\n",
              "      <td>102070.20</td>\n",
              "      <td>NSW</td>\n",
              "      <td>12140.713741</td>\n",
              "    </tr>\n",
              "  </tbody>\n",
              "</table>\n",
              "</div>"
            ],
            "text/plain": [
              "     gender  age  annual_salary location  average_balance\n",
              "0         F   26       56765.52      QLD      1735.120675\n",
              "578       M   38       52110.76      NSW      1191.291419\n",
              "881       F   40       46388.68      QLD      3331.424479\n",
              "1140      M   20       55687.20      NSW      5592.980078\n",
              "1269      F   43       59810.24      VIC      5210.575373\n",
              "1403      F   27       79524.20       WA      5854.977363\n",
              "1695      M   40      118578.72      NSW     12071.625526\n",
              "1809      M   19       73913.28      VIC     11885.744948\n",
              "1906      M   23      109310.60      NSW     13368.370517\n",
              "2022      M   43      134576.52      VIC     12471.784294\n",
              "2185      M   30       43406.88      QLD      3462.276009\n",
              "2418      M   46       52319.04      VIC    263753.766119\n",
              "2485      F   26       44194.08       SA      7149.110167\n",
              "2545      F   47       66168.44       WA      5456.441364\n",
              "2655      F   24       55111.68      VIC      3493.165462\n",
              "2915      M   37       47707.40      QLD      2863.960084\n",
              "3154      F   25       63717.16       WA      4859.740870\n",
              "3384      F   43       34550.36      VIC     30331.218654\n",
              "3436      M   21       72041.48      VIC      5800.773158\n",
              "3588      F   39      102070.20      NSW     12140.713741"
            ]
          },
          "metadata": {},
          "execution_count": 979
        }
      ]
    },
    {
      "cell_type": "code",
      "source": [
        "df_mod.reset_index().drop(columns=['index'])"
      ],
      "metadata": {
        "colab": {
          "base_uri": "https://localhost:8080/",
          "height": 423
        },
        "id": "750ERVzdQL8X",
        "outputId": "faa7762a-dc75-4a3e-e98e-dcd8758b50be"
      },
      "execution_count": 980,
      "outputs": [
        {
          "output_type": "execute_result",
          "data": {
            "text/html": [
              "<div>\n",
              "<style scoped>\n",
              "    .dataframe tbody tr th:only-of-type {\n",
              "        vertical-align: middle;\n",
              "    }\n",
              "\n",
              "    .dataframe tbody tr th {\n",
              "        vertical-align: top;\n",
              "    }\n",
              "\n",
              "    .dataframe thead th {\n",
              "        text-align: right;\n",
              "    }\n",
              "</style>\n",
              "<table border=\"1\" class=\"dataframe\">\n",
              "  <thead>\n",
              "    <tr style=\"text-align: right;\">\n",
              "      <th></th>\n",
              "      <th>gender</th>\n",
              "      <th>age</th>\n",
              "      <th>annual_salary</th>\n",
              "      <th>location</th>\n",
              "      <th>average_balance</th>\n",
              "    </tr>\n",
              "  </thead>\n",
              "  <tbody>\n",
              "    <tr>\n",
              "      <th>0</th>\n",
              "      <td>F</td>\n",
              "      <td>26</td>\n",
              "      <td>56765.52</td>\n",
              "      <td>QLD</td>\n",
              "      <td>1735.120675</td>\n",
              "    </tr>\n",
              "    <tr>\n",
              "      <th>1</th>\n",
              "      <td>M</td>\n",
              "      <td>38</td>\n",
              "      <td>52110.76</td>\n",
              "      <td>NSW</td>\n",
              "      <td>1191.291419</td>\n",
              "    </tr>\n",
              "    <tr>\n",
              "      <th>2</th>\n",
              "      <td>F</td>\n",
              "      <td>40</td>\n",
              "      <td>46388.68</td>\n",
              "      <td>QLD</td>\n",
              "      <td>3331.424479</td>\n",
              "    </tr>\n",
              "    <tr>\n",
              "      <th>3</th>\n",
              "      <td>M</td>\n",
              "      <td>20</td>\n",
              "      <td>55687.20</td>\n",
              "      <td>NSW</td>\n",
              "      <td>5592.980078</td>\n",
              "    </tr>\n",
              "    <tr>\n",
              "      <th>4</th>\n",
              "      <td>F</td>\n",
              "      <td>43</td>\n",
              "      <td>59810.24</td>\n",
              "      <td>VIC</td>\n",
              "      <td>5210.575373</td>\n",
              "    </tr>\n",
              "    <tr>\n",
              "      <th>...</th>\n",
              "      <td>...</td>\n",
              "      <td>...</td>\n",
              "      <td>...</td>\n",
              "      <td>...</td>\n",
              "      <td>...</td>\n",
              "    </tr>\n",
              "    <tr>\n",
              "      <th>95</th>\n",
              "      <td>F</td>\n",
              "      <td>40</td>\n",
              "      <td>101221.64</td>\n",
              "      <td>SA</td>\n",
              "      <td>11747.912549</td>\n",
              "    </tr>\n",
              "    <tr>\n",
              "      <th>96</th>\n",
              "      <td>M</td>\n",
              "      <td>42</td>\n",
              "      <td>90475.28</td>\n",
              "      <td>QLD</td>\n",
              "      <td>111300.797619</td>\n",
              "    </tr>\n",
              "    <tr>\n",
              "      <th>97</th>\n",
              "      <td>M</td>\n",
              "      <td>42</td>\n",
              "      <td>42187.44</td>\n",
              "      <td>NSW</td>\n",
              "      <td>16749.425000</td>\n",
              "    </tr>\n",
              "    <tr>\n",
              "      <th>98</th>\n",
              "      <td>F</td>\n",
              "      <td>34</td>\n",
              "      <td>88992.28</td>\n",
              "      <td>NSW</td>\n",
              "      <td>9032.841186</td>\n",
              "    </tr>\n",
              "    <tr>\n",
              "      <th>99</th>\n",
              "      <td>M</td>\n",
              "      <td>29</td>\n",
              "      <td>123348.40</td>\n",
              "      <td>WA</td>\n",
              "      <td>14973.528955</td>\n",
              "    </tr>\n",
              "  </tbody>\n",
              "</table>\n",
              "<p>100 rows × 5 columns</p>\n",
              "</div>"
            ],
            "text/plain": [
              "   gender  age  annual_salary location  average_balance\n",
              "0       F   26       56765.52      QLD      1735.120675\n",
              "1       M   38       52110.76      NSW      1191.291419\n",
              "2       F   40       46388.68      QLD      3331.424479\n",
              "3       M   20       55687.20      NSW      5592.980078\n",
              "4       F   43       59810.24      VIC      5210.575373\n",
              "..    ...  ...            ...      ...              ...\n",
              "95      F   40      101221.64       SA     11747.912549\n",
              "96      M   42       90475.28      QLD    111300.797619\n",
              "97      M   42       42187.44      NSW     16749.425000\n",
              "98      F   34       88992.28      NSW      9032.841186\n",
              "99      M   29      123348.40       WA     14973.528955\n",
              "\n",
              "[100 rows x 5 columns]"
            ]
          },
          "metadata": {},
          "execution_count": 980
        }
      ]
    },
    {
      "cell_type": "code",
      "source": [
        "df_mod.head()"
      ],
      "metadata": {
        "colab": {
          "base_uri": "https://localhost:8080/",
          "height": 206
        },
        "id": "_G3el56aQaAv",
        "outputId": "bea3ff11-3fa7-409d-fbfc-9f164883d531"
      },
      "execution_count": 981,
      "outputs": [
        {
          "output_type": "execute_result",
          "data": {
            "text/html": [
              "<div>\n",
              "<style scoped>\n",
              "    .dataframe tbody tr th:only-of-type {\n",
              "        vertical-align: middle;\n",
              "    }\n",
              "\n",
              "    .dataframe tbody tr th {\n",
              "        vertical-align: top;\n",
              "    }\n",
              "\n",
              "    .dataframe thead th {\n",
              "        text-align: right;\n",
              "    }\n",
              "</style>\n",
              "<table border=\"1\" class=\"dataframe\">\n",
              "  <thead>\n",
              "    <tr style=\"text-align: right;\">\n",
              "      <th></th>\n",
              "      <th>gender</th>\n",
              "      <th>age</th>\n",
              "      <th>annual_salary</th>\n",
              "      <th>location</th>\n",
              "      <th>average_balance</th>\n",
              "    </tr>\n",
              "  </thead>\n",
              "  <tbody>\n",
              "    <tr>\n",
              "      <th>0</th>\n",
              "      <td>F</td>\n",
              "      <td>26</td>\n",
              "      <td>56765.52</td>\n",
              "      <td>QLD</td>\n",
              "      <td>1735.120675</td>\n",
              "    </tr>\n",
              "    <tr>\n",
              "      <th>578</th>\n",
              "      <td>M</td>\n",
              "      <td>38</td>\n",
              "      <td>52110.76</td>\n",
              "      <td>NSW</td>\n",
              "      <td>1191.291419</td>\n",
              "    </tr>\n",
              "    <tr>\n",
              "      <th>881</th>\n",
              "      <td>F</td>\n",
              "      <td>40</td>\n",
              "      <td>46388.68</td>\n",
              "      <td>QLD</td>\n",
              "      <td>3331.424479</td>\n",
              "    </tr>\n",
              "    <tr>\n",
              "      <th>1140</th>\n",
              "      <td>M</td>\n",
              "      <td>20</td>\n",
              "      <td>55687.20</td>\n",
              "      <td>NSW</td>\n",
              "      <td>5592.980078</td>\n",
              "    </tr>\n",
              "    <tr>\n",
              "      <th>1269</th>\n",
              "      <td>F</td>\n",
              "      <td>43</td>\n",
              "      <td>59810.24</td>\n",
              "      <td>VIC</td>\n",
              "      <td>5210.575373</td>\n",
              "    </tr>\n",
              "  </tbody>\n",
              "</table>\n",
              "</div>"
            ],
            "text/plain": [
              "     gender  age  annual_salary location  average_balance\n",
              "0         F   26       56765.52      QLD      1735.120675\n",
              "578       M   38       52110.76      NSW      1191.291419\n",
              "881       F   40       46388.68      QLD      3331.424479\n",
              "1140      M   20       55687.20      NSW      5592.980078\n",
              "1269      F   43       59810.24      VIC      5210.575373"
            ]
          },
          "metadata": {},
          "execution_count": 981
        }
      ]
    },
    {
      "cell_type": "code",
      "source": [
        "df_mod.dtypes"
      ],
      "metadata": {
        "colab": {
          "base_uri": "https://localhost:8080/"
        },
        "id": "wfJBW0YFRbQI",
        "outputId": "1bcb7711-6364-4217-edc5-11110536f9d0"
      },
      "execution_count": 982,
      "outputs": [
        {
          "output_type": "execute_result",
          "data": {
            "text/plain": [
              "gender              object\n",
              "age                  int64\n",
              "annual_salary      float64\n",
              "location            object\n",
              "average_balance    float64\n",
              "dtype: object"
            ]
          },
          "metadata": {},
          "execution_count": 982
        }
      ]
    },
    {
      "cell_type": "code",
      "source": [
        "sns.scatterplot(data=df_mod, x='average_balance', y='annual_salary', hue='gender')"
      ],
      "metadata": {
        "colab": {
          "base_uri": "https://localhost:8080/",
          "height": 297
        },
        "id": "_pBEsesgPZDg",
        "outputId": "54837f3e-04cc-4dd4-c138-bfd918da109c"
      },
      "execution_count": 987,
      "outputs": [
        {
          "output_type": "execute_result",
          "data": {
            "text/plain": [
              "<matplotlib.axes._subplots.AxesSubplot at 0x7f510ec9e750>"
            ]
          },
          "metadata": {},
          "execution_count": 987
        },
        {
          "output_type": "display_data",
          "data": {
            "image/png": "[encoded data removed]",
            "text/plain": [
              "<Figure size 432x288 with 1 Axes>"
            ]
          },
          "metadata": {
            "needs_background": "light"
          }
        }
      ]
    }
  ]
}