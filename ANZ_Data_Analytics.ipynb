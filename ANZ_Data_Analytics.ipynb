{
  "nbformat": 4,
  "nbformat_minor": 0,
  "metadata": {
    "colab": {
      "name": "ANZ_Data_Analytics.ipynb",
      "provenance": [],
      "collapsed_sections": [],
      "authorship_tag": "ABX9TyO7SH/uCMmlq+iOrvfHDuDu",
      "include_colab_link": true
    },
    "kernelspec": {
      "name": "python3",
      "display_name": "Python 3"
    },
    "language_info": {
      "name": "python"
    }
  },
  "cells": [
    {
      "cell_type": "markdown",
      "metadata": {
        "id": "view-in-github",
        "colab_type": "text"
      },
      "source": [
        "<a href=\"https://colab.research.google.com/github/nugi1209/ANZ_Data_Virtual_Experience/blob/main/ANZ_Data_Analytics.ipynb\" target=\"_parent\"><img src=\"https://colab.research.google.com/assets/colab-badge.svg\" alt=\"Open In Colab\"/></a>"
      ]
    },
    {
      "cell_type": "code",
      "execution_count": null,
      "metadata": {
        "id": "uB9uTsIlozPI"
      },
      "outputs": [],
      "source": [
        "import pandas as pd\n",
        "import matplotlib\n",
        "import seaborn as sns\n",
        "import numpy as np"
      ]
    },
    {
      "cell_type": "code",
      "source": [
        "df = pd.read_excel('https://github.com/nugi1209/ANZ_Data_Virtual_Experience/blob/main/dataset.xlsx?raw=true')\n",
        "\n",
        "df.head()"
      ],
      "metadata": {
        "colab": {
          "base_uri": "https://localhost:8080/",
          "height": 487
        },
        "id": "EjXQ33Invraf",
        "outputId": "5d0c4f8e-fd75-4835-cf29-cfb49f57a3c9"
      },
      "execution_count": null,
      "outputs": [
        {
          "output_type": "execute_result",
          "data": {
            "text/html": [
              "<div>\n",
              "<style scoped>\n",
              "    .dataframe tbody tr th:only-of-type {\n",
              "        vertical-align: middle;\n",
              "    }\n",
              "\n",
              "    .dataframe tbody tr th {\n",
              "        vertical-align: top;\n",
              "    }\n",
              "\n",
              "    .dataframe thead th {\n",
              "        text-align: right;\n",
              "    }\n",
              "</style>\n",
              "<table border=\"1\" class=\"dataframe\">\n",
              "  <thead>\n",
              "    <tr style=\"text-align: right;\">\n",
              "      <th></th>\n",
              "      <th>status</th>\n",
              "      <th>card_present_flag</th>\n",
              "      <th>bpay_biller_code</th>\n",
              "      <th>account</th>\n",
              "      <th>currency</th>\n",
              "      <th>long_lat</th>\n",
              "      <th>txn_description</th>\n",
              "      <th>merchant_id</th>\n",
              "      <th>merchant_code</th>\n",
              "      <th>first_name</th>\n",
              "      <th>balance</th>\n",
              "      <th>date</th>\n",
              "      <th>gender</th>\n",
              "      <th>age</th>\n",
              "      <th>merchant_suburb</th>\n",
              "      <th>merchant_state</th>\n",
              "      <th>extraction</th>\n",
              "      <th>amount</th>\n",
              "      <th>transaction_id</th>\n",
              "      <th>country</th>\n",
              "      <th>customer_id</th>\n",
              "      <th>merchant_long_lat</th>\n",
              "      <th>movement</th>\n",
              "    </tr>\n",
              "  </thead>\n",
              "  <tbody>\n",
              "    <tr>\n",
              "      <th>0</th>\n",
              "      <td>authorized</td>\n",
              "      <td>1.0</td>\n",
              "      <td>NaN</td>\n",
              "      <td>ACC-1598451071</td>\n",
              "      <td>AUD</td>\n",
              "      <td>153.41 -27.95</td>\n",
              "      <td>POS</td>\n",
              "      <td>81c48296-73be-44a7-befa-d053f48ce7cd</td>\n",
              "      <td>NaN</td>\n",
              "      <td>Diana</td>\n",
              "      <td>35.39</td>\n",
              "      <td>2018-08-01</td>\n",
              "      <td>F</td>\n",
              "      <td>26</td>\n",
              "      <td>Ashmore</td>\n",
              "      <td>QLD</td>\n",
              "      <td>2018-08-01T01:01:15.000+0000</td>\n",
              "      <td>16.25</td>\n",
              "      <td>a623070bfead4541a6b0fff8a09e706c</td>\n",
              "      <td>Australia</td>\n",
              "      <td>CUS-2487424745</td>\n",
              "      <td>153.38 -27.99</td>\n",
              "      <td>debit</td>\n",
              "    </tr>\n",
              "    <tr>\n",
              "      <th>1</th>\n",
              "      <td>authorized</td>\n",
              "      <td>0.0</td>\n",
              "      <td>NaN</td>\n",
              "      <td>ACC-1598451071</td>\n",
              "      <td>AUD</td>\n",
              "      <td>153.41 -27.95</td>\n",
              "      <td>SALES-POS</td>\n",
              "      <td>830a451c-316e-4a6a-bf25-e37caedca49e</td>\n",
              "      <td>NaN</td>\n",
              "      <td>Diana</td>\n",
              "      <td>21.20</td>\n",
              "      <td>2018-08-01</td>\n",
              "      <td>F</td>\n",
              "      <td>26</td>\n",
              "      <td>Sydney</td>\n",
              "      <td>NSW</td>\n",
              "      <td>2018-08-01T01:13:45.000+0000</td>\n",
              "      <td>14.19</td>\n",
              "      <td>13270a2a902145da9db4c951e04b51b9</td>\n",
              "      <td>Australia</td>\n",
              "      <td>CUS-2487424745</td>\n",
              "      <td>151.21 -33.87</td>\n",
              "      <td>debit</td>\n",
              "    </tr>\n",
              "    <tr>\n",
              "      <th>2</th>\n",
              "      <td>authorized</td>\n",
              "      <td>1.0</td>\n",
              "      <td>NaN</td>\n",
              "      <td>ACC-1222300524</td>\n",
              "      <td>AUD</td>\n",
              "      <td>151.23 -33.94</td>\n",
              "      <td>POS</td>\n",
              "      <td>835c231d-8cdf-4e96-859d-e9d571760cf0</td>\n",
              "      <td>NaN</td>\n",
              "      <td>Michael</td>\n",
              "      <td>5.71</td>\n",
              "      <td>2018-08-01</td>\n",
              "      <td>M</td>\n",
              "      <td>38</td>\n",
              "      <td>Sydney</td>\n",
              "      <td>NSW</td>\n",
              "      <td>2018-08-01T01:26:15.000+0000</td>\n",
              "      <td>6.42</td>\n",
              "      <td>feb79e7ecd7048a5a36ec889d1a94270</td>\n",
              "      <td>Australia</td>\n",
              "      <td>CUS-2142601169</td>\n",
              "      <td>151.21 -33.87</td>\n",
              "      <td>debit</td>\n",
              "    </tr>\n",
              "    <tr>\n",
              "      <th>3</th>\n",
              "      <td>authorized</td>\n",
              "      <td>1.0</td>\n",
              "      <td>NaN</td>\n",
              "      <td>ACC-1037050564</td>\n",
              "      <td>AUD</td>\n",
              "      <td>153.10 -27.66</td>\n",
              "      <td>SALES-POS</td>\n",
              "      <td>48514682-c78a-4a88-b0da-2d6302e64673</td>\n",
              "      <td>NaN</td>\n",
              "      <td>Rhonda</td>\n",
              "      <td>2117.22</td>\n",
              "      <td>2018-08-01</td>\n",
              "      <td>F</td>\n",
              "      <td>40</td>\n",
              "      <td>Buderim</td>\n",
              "      <td>QLD</td>\n",
              "      <td>2018-08-01T01:38:45.000+0000</td>\n",
              "      <td>40.90</td>\n",
              "      <td>2698170da3704fd981b15e64a006079e</td>\n",
              "      <td>Australia</td>\n",
              "      <td>CUS-1614226872</td>\n",
              "      <td>153.05 -26.68</td>\n",
              "      <td>debit</td>\n",
              "    </tr>\n",
              "    <tr>\n",
              "      <th>4</th>\n",
              "      <td>authorized</td>\n",
              "      <td>1.0</td>\n",
              "      <td>NaN</td>\n",
              "      <td>ACC-1598451071</td>\n",
              "      <td>AUD</td>\n",
              "      <td>153.41 -27.95</td>\n",
              "      <td>SALES-POS</td>\n",
              "      <td>b4e02c10-0852-4273-b8fd-7b3395e32eb0</td>\n",
              "      <td>NaN</td>\n",
              "      <td>Diana</td>\n",
              "      <td>17.95</td>\n",
              "      <td>2018-08-01</td>\n",
              "      <td>F</td>\n",
              "      <td>26</td>\n",
              "      <td>Mermaid Beach</td>\n",
              "      <td>QLD</td>\n",
              "      <td>2018-08-01T01:51:15.000+0000</td>\n",
              "      <td>3.25</td>\n",
              "      <td>329adf79878c4cf0aeb4188b4691c266</td>\n",
              "      <td>Australia</td>\n",
              "      <td>CUS-2487424745</td>\n",
              "      <td>153.44 -28.06</td>\n",
              "      <td>debit</td>\n",
              "    </tr>\n",
              "  </tbody>\n",
              "</table>\n",
              "</div>"
            ],
            "text/plain": [
              "       status  card_present_flag  ... merchant_long_lat movement\n",
              "0  authorized                1.0  ...     153.38 -27.99    debit\n",
              "1  authorized                0.0  ...     151.21 -33.87    debit\n",
              "2  authorized                1.0  ...     151.21 -33.87    debit\n",
              "3  authorized                1.0  ...     153.05 -26.68    debit\n",
              "4  authorized                1.0  ...     153.44 -28.06    debit\n",
              "\n",
              "[5 rows x 23 columns]"
            ]
          },
          "metadata": {},
          "execution_count": 2
        }
      ]
    },
    {
      "cell_type": "code",
      "source": [
        "df.describe()"
      ],
      "metadata": {
        "colab": {
          "base_uri": "https://localhost:8080/",
          "height": 300
        },
        "id": "M-n8CCEPv68U",
        "outputId": "2fc5c5fc-fe5e-4ac9-dadd-c679a04c9181"
      },
      "execution_count": null,
      "outputs": [
        {
          "output_type": "execute_result",
          "data": {
            "text/html": [
              "<div>\n",
              "<style scoped>\n",
              "    .dataframe tbody tr th:only-of-type {\n",
              "        vertical-align: middle;\n",
              "    }\n",
              "\n",
              "    .dataframe tbody tr th {\n",
              "        vertical-align: top;\n",
              "    }\n",
              "\n",
              "    .dataframe thead th {\n",
              "        text-align: right;\n",
              "    }\n",
              "</style>\n",
              "<table border=\"1\" class=\"dataframe\">\n",
              "  <thead>\n",
              "    <tr style=\"text-align: right;\">\n",
              "      <th></th>\n",
              "      <th>card_present_flag</th>\n",
              "      <th>merchant_code</th>\n",
              "      <th>balance</th>\n",
              "      <th>age</th>\n",
              "      <th>amount</th>\n",
              "    </tr>\n",
              "  </thead>\n",
              "  <tbody>\n",
              "    <tr>\n",
              "      <th>count</th>\n",
              "      <td>7717.000000</td>\n",
              "      <td>883.0</td>\n",
              "      <td>12043.000000</td>\n",
              "      <td>12043.000000</td>\n",
              "      <td>12043.000000</td>\n",
              "    </tr>\n",
              "    <tr>\n",
              "      <th>mean</th>\n",
              "      <td>0.802644</td>\n",
              "      <td>0.0</td>\n",
              "      <td>14704.195553</td>\n",
              "      <td>30.582330</td>\n",
              "      <td>187.933588</td>\n",
              "    </tr>\n",
              "    <tr>\n",
              "      <th>std</th>\n",
              "      <td>0.398029</td>\n",
              "      <td>0.0</td>\n",
              "      <td>31503.722652</td>\n",
              "      <td>10.046343</td>\n",
              "      <td>592.599934</td>\n",
              "    </tr>\n",
              "    <tr>\n",
              "      <th>min</th>\n",
              "      <td>0.000000</td>\n",
              "      <td>0.0</td>\n",
              "      <td>0.240000</td>\n",
              "      <td>18.000000</td>\n",
              "      <td>0.100000</td>\n",
              "    </tr>\n",
              "    <tr>\n",
              "      <th>25%</th>\n",
              "      <td>1.000000</td>\n",
              "      <td>0.0</td>\n",
              "      <td>3158.585000</td>\n",
              "      <td>22.000000</td>\n",
              "      <td>16.000000</td>\n",
              "    </tr>\n",
              "    <tr>\n",
              "      <th>50%</th>\n",
              "      <td>1.000000</td>\n",
              "      <td>0.0</td>\n",
              "      <td>6432.010000</td>\n",
              "      <td>28.000000</td>\n",
              "      <td>29.000000</td>\n",
              "    </tr>\n",
              "    <tr>\n",
              "      <th>75%</th>\n",
              "      <td>1.000000</td>\n",
              "      <td>0.0</td>\n",
              "      <td>12465.945000</td>\n",
              "      <td>38.000000</td>\n",
              "      <td>53.655000</td>\n",
              "    </tr>\n",
              "    <tr>\n",
              "      <th>max</th>\n",
              "      <td>1.000000</td>\n",
              "      <td>0.0</td>\n",
              "      <td>267128.520000</td>\n",
              "      <td>78.000000</td>\n",
              "      <td>8835.980000</td>\n",
              "    </tr>\n",
              "  </tbody>\n",
              "</table>\n",
              "</div>"
            ],
            "text/plain": [
              "       card_present_flag  merchant_code  ...           age        amount\n",
              "count        7717.000000          883.0  ...  12043.000000  12043.000000\n",
              "mean            0.802644            0.0  ...     30.582330    187.933588\n",
              "std             0.398029            0.0  ...     10.046343    592.599934\n",
              "min             0.000000            0.0  ...     18.000000      0.100000\n",
              "25%             1.000000            0.0  ...     22.000000     16.000000\n",
              "50%             1.000000            0.0  ...     28.000000     29.000000\n",
              "75%             1.000000            0.0  ...     38.000000     53.655000\n",
              "max             1.000000            0.0  ...     78.000000   8835.980000\n",
              "\n",
              "[8 rows x 5 columns]"
            ]
          },
          "metadata": {},
          "execution_count": 3
        }
      ]
    },
    {
      "cell_type": "code",
      "source": [
        "len(df)"
      ],
      "metadata": {
        "colab": {
          "base_uri": "https://localhost:8080/"
        },
        "id": "oh0gXVp6aVTU",
        "outputId": "b1ae9860-c28f-4488-ad4a-64b7ab4c90cc"
      },
      "execution_count": null,
      "outputs": [
        {
          "output_type": "execute_result",
          "data": {
            "text/plain": [
              "12043"
            ]
          },
          "metadata": {},
          "execution_count": 4
        }
      ]
    },
    {
      "cell_type": "code",
      "source": [
        "df.dtypes"
      ],
      "metadata": {
        "colab": {
          "base_uri": "https://localhost:8080/"
        },
        "id": "-i8OdnkYwGXX",
        "outputId": "3eb68130-524c-4564-c5c2-1fd1fbc9c548"
      },
      "execution_count": null,
      "outputs": [
        {
          "output_type": "execute_result",
          "data": {
            "text/plain": [
              "status                       object\n",
              "card_present_flag           float64\n",
              "bpay_biller_code             object\n",
              "account                      object\n",
              "currency                     object\n",
              "long_lat                     object\n",
              "txn_description              object\n",
              "merchant_id                  object\n",
              "merchant_code               float64\n",
              "first_name                   object\n",
              "balance                     float64\n",
              "date                 datetime64[ns]\n",
              "gender                       object\n",
              "age                           int64\n",
              "merchant_suburb              object\n",
              "merchant_state               object\n",
              "extraction                   object\n",
              "amount                      float64\n",
              "transaction_id               object\n",
              "country                      object\n",
              "customer_id                  object\n",
              "merchant_long_lat            object\n",
              "movement                     object\n",
              "dtype: object"
            ]
          },
          "metadata": {},
          "execution_count": 5
        }
      ]
    },
    {
      "cell_type": "code",
      "source": [
        "df.isna().sum()"
      ],
      "metadata": {
        "colab": {
          "base_uri": "https://localhost:8080/"
        },
        "id": "BnO2Zgcx0hlx",
        "outputId": "f98ad820-5c3e-485e-af2e-a61762f210d6"
      },
      "execution_count": null,
      "outputs": [
        {
          "output_type": "execute_result",
          "data": {
            "text/plain": [
              "status                   0\n",
              "card_present_flag     4326\n",
              "bpay_biller_code     11158\n",
              "account                  0\n",
              "currency                 0\n",
              "long_lat                 0\n",
              "txn_description          0\n",
              "merchant_id           4326\n",
              "merchant_code        11160\n",
              "first_name               0\n",
              "balance                  0\n",
              "date                     0\n",
              "gender                   0\n",
              "age                      0\n",
              "merchant_suburb       4326\n",
              "merchant_state        4326\n",
              "extraction               0\n",
              "amount                   0\n",
              "transaction_id           0\n",
              "country                  0\n",
              "customer_id              0\n",
              "merchant_long_lat     4326\n",
              "movement                 0\n",
              "dtype: int64"
            ]
          },
          "metadata": {},
          "execution_count": 6
        }
      ]
    },
    {
      "cell_type": "code",
      "source": [
        "df['extraction'] = pd.to_datetime(df['extraction'])\n",
        "df['extraction_date'] = df['extraction'].dt.date\n",
        "df['extraction_month_name'] = df['extraction'].dt.month_name()\n",
        "df['extraction_year'] = df['extraction'].dt.year\n",
        "df['extraction_day_name'] = df['extraction'].dt.day_name()\n",
        "df['extraction_hour'] = df['extraction'].dt.hour\n",
        "df.head(3)"
      ],
      "metadata": {
        "colab": {
          "base_uri": "https://localhost:8080/",
          "height": 319
        },
        "id": "pPJhAyIx3S2V",
        "outputId": "2199c4a9-106a-4d96-da1d-80d859cb74b5"
      },
      "execution_count": null,
      "outputs": [
        {
          "output_type": "execute_result",
          "data": {
            "text/html": [
              "<div>\n",
              "<style scoped>\n",
              "    .dataframe tbody tr th:only-of-type {\n",
              "        vertical-align: middle;\n",
              "    }\n",
              "\n",
              "    .dataframe tbody tr th {\n",
              "        vertical-align: top;\n",
              "    }\n",
              "\n",
              "    .dataframe thead th {\n",
              "        text-align: right;\n",
              "    }\n",
              "</style>\n",
              "<table border=\"1\" class=\"dataframe\">\n",
              "  <thead>\n",
              "    <tr style=\"text-align: right;\">\n",
              "      <th></th>\n",
              "      <th>status</th>\n",
              "      <th>card_present_flag</th>\n",
              "      <th>bpay_biller_code</th>\n",
              "      <th>account</th>\n",
              "      <th>currency</th>\n",
              "      <th>long_lat</th>\n",
              "      <th>txn_description</th>\n",
              "      <th>merchant_id</th>\n",
              "      <th>merchant_code</th>\n",
              "      <th>first_name</th>\n",
              "      <th>balance</th>\n",
              "      <th>date</th>\n",
              "      <th>gender</th>\n",
              "      <th>age</th>\n",
              "      <th>merchant_suburb</th>\n",
              "      <th>merchant_state</th>\n",
              "      <th>extraction</th>\n",
              "      <th>amount</th>\n",
              "      <th>transaction_id</th>\n",
              "      <th>country</th>\n",
              "      <th>customer_id</th>\n",
              "      <th>merchant_long_lat</th>\n",
              "      <th>movement</th>\n",
              "      <th>extraction_date</th>\n",
              "      <th>extraction_month_name</th>\n",
              "      <th>extraction_year</th>\n",
              "      <th>extraction_day_name</th>\n",
              "      <th>extraction_hour</th>\n",
              "    </tr>\n",
              "  </thead>\n",
              "  <tbody>\n",
              "    <tr>\n",
              "      <th>0</th>\n",
              "      <td>authorized</td>\n",
              "      <td>1.0</td>\n",
              "      <td>NaN</td>\n",
              "      <td>ACC-1598451071</td>\n",
              "      <td>AUD</td>\n",
              "      <td>153.41 -27.95</td>\n",
              "      <td>POS</td>\n",
              "      <td>81c48296-73be-44a7-befa-d053f48ce7cd</td>\n",
              "      <td>NaN</td>\n",
              "      <td>Diana</td>\n",
              "      <td>35.39</td>\n",
              "      <td>2018-08-01</td>\n",
              "      <td>F</td>\n",
              "      <td>26</td>\n",
              "      <td>Ashmore</td>\n",
              "      <td>QLD</td>\n",
              "      <td>2018-08-01 01:01:15+00:00</td>\n",
              "      <td>16.25</td>\n",
              "      <td>a623070bfead4541a6b0fff8a09e706c</td>\n",
              "      <td>Australia</td>\n",
              "      <td>CUS-2487424745</td>\n",
              "      <td>153.38 -27.99</td>\n",
              "      <td>debit</td>\n",
              "      <td>2018-08-01</td>\n",
              "      <td>August</td>\n",
              "      <td>2018</td>\n",
              "      <td>Wednesday</td>\n",
              "      <td>1</td>\n",
              "    </tr>\n",
              "    <tr>\n",
              "      <th>1</th>\n",
              "      <td>authorized</td>\n",
              "      <td>0.0</td>\n",
              "      <td>NaN</td>\n",
              "      <td>ACC-1598451071</td>\n",
              "      <td>AUD</td>\n",
              "      <td>153.41 -27.95</td>\n",
              "      <td>SALES-POS</td>\n",
              "      <td>830a451c-316e-4a6a-bf25-e37caedca49e</td>\n",
              "      <td>NaN</td>\n",
              "      <td>Diana</td>\n",
              "      <td>21.20</td>\n",
              "      <td>2018-08-01</td>\n",
              "      <td>F</td>\n",
              "      <td>26</td>\n",
              "      <td>Sydney</td>\n",
              "      <td>NSW</td>\n",
              "      <td>2018-08-01 01:13:45+00:00</td>\n",
              "      <td>14.19</td>\n",
              "      <td>13270a2a902145da9db4c951e04b51b9</td>\n",
              "      <td>Australia</td>\n",
              "      <td>CUS-2487424745</td>\n",
              "      <td>151.21 -33.87</td>\n",
              "      <td>debit</td>\n",
              "      <td>2018-08-01</td>\n",
              "      <td>August</td>\n",
              "      <td>2018</td>\n",
              "      <td>Wednesday</td>\n",
              "      <td>1</td>\n",
              "    </tr>\n",
              "    <tr>\n",
              "      <th>2</th>\n",
              "      <td>authorized</td>\n",
              "      <td>1.0</td>\n",
              "      <td>NaN</td>\n",
              "      <td>ACC-1222300524</td>\n",
              "      <td>AUD</td>\n",
              "      <td>151.23 -33.94</td>\n",
              "      <td>POS</td>\n",
              "      <td>835c231d-8cdf-4e96-859d-e9d571760cf0</td>\n",
              "      <td>NaN</td>\n",
              "      <td>Michael</td>\n",
              "      <td>5.71</td>\n",
              "      <td>2018-08-01</td>\n",
              "      <td>M</td>\n",
              "      <td>38</td>\n",
              "      <td>Sydney</td>\n",
              "      <td>NSW</td>\n",
              "      <td>2018-08-01 01:26:15+00:00</td>\n",
              "      <td>6.42</td>\n",
              "      <td>feb79e7ecd7048a5a36ec889d1a94270</td>\n",
              "      <td>Australia</td>\n",
              "      <td>CUS-2142601169</td>\n",
              "      <td>151.21 -33.87</td>\n",
              "      <td>debit</td>\n",
              "      <td>2018-08-01</td>\n",
              "      <td>August</td>\n",
              "      <td>2018</td>\n",
              "      <td>Wednesday</td>\n",
              "      <td>1</td>\n",
              "    </tr>\n",
              "  </tbody>\n",
              "</table>\n",
              "</div>"
            ],
            "text/plain": [
              "       status  card_present_flag  ... extraction_day_name extraction_hour\n",
              "0  authorized                1.0  ...           Wednesday               1\n",
              "1  authorized                0.0  ...           Wednesday               1\n",
              "2  authorized                1.0  ...           Wednesday               1\n",
              "\n",
              "[3 rows x 28 columns]"
            ]
          },
          "metadata": {},
          "execution_count": 7
        }
      ]
    },
    {
      "cell_type": "code",
      "source": [
        "df.loc[df['merchant_id'].isnull()]"
      ],
      "metadata": {
        "colab": {
          "base_uri": "https://localhost:8080/",
          "height": 617
        },
        "id": "IVunK1aW03Mm",
        "outputId": "33c4f879-4bdb-4060-c494-cb27b97f5198"
      },
      "execution_count": null,
      "outputs": [
        {
          "output_type": "execute_result",
          "data": {
            "text/html": [
              "<div>\n",
              "<style scoped>\n",
              "    .dataframe tbody tr th:only-of-type {\n",
              "        vertical-align: middle;\n",
              "    }\n",
              "\n",
              "    .dataframe tbody tr th {\n",
              "        vertical-align: top;\n",
              "    }\n",
              "\n",
              "    .dataframe thead th {\n",
              "        text-align: right;\n",
              "    }\n",
              "</style>\n",
              "<table border=\"1\" class=\"dataframe\">\n",
              "  <thead>\n",
              "    <tr style=\"text-align: right;\">\n",
              "      <th></th>\n",
              "      <th>status</th>\n",
              "      <th>card_present_flag</th>\n",
              "      <th>bpay_biller_code</th>\n",
              "      <th>account</th>\n",
              "      <th>currency</th>\n",
              "      <th>long_lat</th>\n",
              "      <th>txn_description</th>\n",
              "      <th>merchant_id</th>\n",
              "      <th>merchant_code</th>\n",
              "      <th>first_name</th>\n",
              "      <th>balance</th>\n",
              "      <th>date</th>\n",
              "      <th>gender</th>\n",
              "      <th>age</th>\n",
              "      <th>merchant_suburb</th>\n",
              "      <th>merchant_state</th>\n",
              "      <th>extraction</th>\n",
              "      <th>amount</th>\n",
              "      <th>transaction_id</th>\n",
              "      <th>country</th>\n",
              "      <th>customer_id</th>\n",
              "      <th>merchant_long_lat</th>\n",
              "      <th>movement</th>\n",
              "      <th>extraction_date</th>\n",
              "      <th>extraction_month_name</th>\n",
              "      <th>extraction_year</th>\n",
              "      <th>extraction_day_name</th>\n",
              "      <th>extraction_hour</th>\n",
              "    </tr>\n",
              "  </thead>\n",
              "  <tbody>\n",
              "    <tr>\n",
              "      <th>5</th>\n",
              "      <td>posted</td>\n",
              "      <td>NaN</td>\n",
              "      <td>NaN</td>\n",
              "      <td>ACC-1608363396</td>\n",
              "      <td>AUD</td>\n",
              "      <td>151.22 -33.87</td>\n",
              "      <td>PAYMENT</td>\n",
              "      <td>NaN</td>\n",
              "      <td>NaN</td>\n",
              "      <td>Robert</td>\n",
              "      <td>1705.43</td>\n",
              "      <td>2018-08-01</td>\n",
              "      <td>M</td>\n",
              "      <td>20</td>\n",
              "      <td>NaN</td>\n",
              "      <td>NaN</td>\n",
              "      <td>2018-08-01 02:00:00+00:00</td>\n",
              "      <td>163.0</td>\n",
              "      <td>1005b48a6eda4ffd85e9b649dc9467d3</td>\n",
              "      <td>Australia</td>\n",
              "      <td>CUS-2688605418</td>\n",
              "      <td>NaN</td>\n",
              "      <td>debit</td>\n",
              "      <td>2018-08-01</td>\n",
              "      <td>August</td>\n",
              "      <td>2018</td>\n",
              "      <td>Wednesday</td>\n",
              "      <td>2</td>\n",
              "    </tr>\n",
              "    <tr>\n",
              "      <th>9</th>\n",
              "      <td>posted</td>\n",
              "      <td>NaN</td>\n",
              "      <td>NaN</td>\n",
              "      <td>ACC-602667573</td>\n",
              "      <td>AUD</td>\n",
              "      <td>151.23 -33.96</td>\n",
              "      <td>INTER BANK</td>\n",
              "      <td>NaN</td>\n",
              "      <td>NaN</td>\n",
              "      <td>Michael</td>\n",
              "      <td>466.58</td>\n",
              "      <td>2018-08-01</td>\n",
              "      <td>M</td>\n",
              "      <td>40</td>\n",
              "      <td>NaN</td>\n",
              "      <td>NaN</td>\n",
              "      <td>2018-08-01 06:00:00+00:00</td>\n",
              "      <td>21.0</td>\n",
              "      <td>798a77869014441b840a7a8a23408332</td>\n",
              "      <td>Australia</td>\n",
              "      <td>CUS-2031327464</td>\n",
              "      <td>NaN</td>\n",
              "      <td>debit</td>\n",
              "      <td>2018-08-01</td>\n",
              "      <td>August</td>\n",
              "      <td>2018</td>\n",
              "      <td>Wednesday</td>\n",
              "      <td>6</td>\n",
              "    </tr>\n",
              "    <tr>\n",
              "      <th>10</th>\n",
              "      <td>posted</td>\n",
              "      <td>NaN</td>\n",
              "      <td>NaN</td>\n",
              "      <td>ACC-2171593283</td>\n",
              "      <td>AUD</td>\n",
              "      <td>146.94 -36.04</td>\n",
              "      <td>PAYMENT</td>\n",
              "      <td>NaN</td>\n",
              "      <td>NaN</td>\n",
              "      <td>Fernando</td>\n",
              "      <td>4348.50</td>\n",
              "      <td>2018-08-01</td>\n",
              "      <td>M</td>\n",
              "      <td>19</td>\n",
              "      <td>NaN</td>\n",
              "      <td>NaN</td>\n",
              "      <td>2018-08-01 06:00:00+00:00</td>\n",
              "      <td>27.0</td>\n",
              "      <td>baff17b27b2643c48c84fca7129e9611</td>\n",
              "      <td>Australia</td>\n",
              "      <td>CUS-2317998716</td>\n",
              "      <td>NaN</td>\n",
              "      <td>debit</td>\n",
              "      <td>2018-08-01</td>\n",
              "      <td>August</td>\n",
              "      <td>2018</td>\n",
              "      <td>Wednesday</td>\n",
              "      <td>6</td>\n",
              "    </tr>\n",
              "    <tr>\n",
              "      <th>11</th>\n",
              "      <td>posted</td>\n",
              "      <td>NaN</td>\n",
              "      <td>NaN</td>\n",
              "      <td>ACC-2776252858</td>\n",
              "      <td>AUD</td>\n",
              "      <td>144.95 -37.76</td>\n",
              "      <td>PAYMENT</td>\n",
              "      <td>NaN</td>\n",
              "      <td>NaN</td>\n",
              "      <td>Kristin</td>\n",
              "      <td>1203.75</td>\n",
              "      <td>2018-08-01</td>\n",
              "      <td>F</td>\n",
              "      <td>43</td>\n",
              "      <td>NaN</td>\n",
              "      <td>NaN</td>\n",
              "      <td>2018-08-01 06:00:00+00:00</td>\n",
              "      <td>29.0</td>\n",
              "      <td>78a1b6c3a5534d48828d8ed266ba9c2e</td>\n",
              "      <td>Australia</td>\n",
              "      <td>CUS-4123612273</td>\n",
              "      <td>NaN</td>\n",
              "      <td>debit</td>\n",
              "      <td>2018-08-01</td>\n",
              "      <td>August</td>\n",
              "      <td>2018</td>\n",
              "      <td>Wednesday</td>\n",
              "      <td>6</td>\n",
              "    </tr>\n",
              "    <tr>\n",
              "      <th>13</th>\n",
              "      <td>posted</td>\n",
              "      <td>NaN</td>\n",
              "      <td>NaN</td>\n",
              "      <td>ACC-588564840</td>\n",
              "      <td>AUD</td>\n",
              "      <td>151.27 -33.76</td>\n",
              "      <td>INTER BANK</td>\n",
              "      <td>NaN</td>\n",
              "      <td>NaN</td>\n",
              "      <td>Isaiah</td>\n",
              "      <td>4438.16</td>\n",
              "      <td>2018-08-01</td>\n",
              "      <td>M</td>\n",
              "      <td>23</td>\n",
              "      <td>NaN</td>\n",
              "      <td>NaN</td>\n",
              "      <td>2018-08-01 07:00:00+00:00</td>\n",
              "      <td>25.0</td>\n",
              "      <td>eaafa602902b4f4194efb96a105dd7ab</td>\n",
              "      <td>Australia</td>\n",
              "      <td>CUS-1462656821</td>\n",
              "      <td>NaN</td>\n",
              "      <td>debit</td>\n",
              "      <td>2018-08-01</td>\n",
              "      <td>August</td>\n",
              "      <td>2018</td>\n",
              "      <td>Wednesday</td>\n",
              "      <td>7</td>\n",
              "    </tr>\n",
              "    <tr>\n",
              "      <th>...</th>\n",
              "      <td>...</td>\n",
              "      <td>...</td>\n",
              "      <td>...</td>\n",
              "      <td>...</td>\n",
              "      <td>...</td>\n",
              "      <td>...</td>\n",
              "      <td>...</td>\n",
              "      <td>...</td>\n",
              "      <td>...</td>\n",
              "      <td>...</td>\n",
              "      <td>...</td>\n",
              "      <td>...</td>\n",
              "      <td>...</td>\n",
              "      <td>...</td>\n",
              "      <td>...</td>\n",
              "      <td>...</td>\n",
              "      <td>...</td>\n",
              "      <td>...</td>\n",
              "      <td>...</td>\n",
              "      <td>...</td>\n",
              "      <td>...</td>\n",
              "      <td>...</td>\n",
              "      <td>...</td>\n",
              "      <td>...</td>\n",
              "      <td>...</td>\n",
              "      <td>...</td>\n",
              "      <td>...</td>\n",
              "      <td>...</td>\n",
              "    </tr>\n",
              "    <tr>\n",
              "      <th>12027</th>\n",
              "      <td>posted</td>\n",
              "      <td>NaN</td>\n",
              "      <td>NaN</td>\n",
              "      <td>ACC-2173390920</td>\n",
              "      <td>AUD</td>\n",
              "      <td>144.71 -37.58</td>\n",
              "      <td>PHONE BANK</td>\n",
              "      <td>NaN</td>\n",
              "      <td>NaN</td>\n",
              "      <td>Luis</td>\n",
              "      <td>13537.75</td>\n",
              "      <td>2018-10-31</td>\n",
              "      <td>M</td>\n",
              "      <td>27</td>\n",
              "      <td>NaN</td>\n",
              "      <td>NaN</td>\n",
              "      <td>2018-10-31 21:00:00+00:00</td>\n",
              "      <td>67.0</td>\n",
              "      <td>b2c42c27bb24464cb5e3e0ffbf9b1977</td>\n",
              "      <td>Australia</td>\n",
              "      <td>CUS-3180318393</td>\n",
              "      <td>NaN</td>\n",
              "      <td>debit</td>\n",
              "      <td>2018-10-31</td>\n",
              "      <td>October</td>\n",
              "      <td>2018</td>\n",
              "      <td>Wednesday</td>\n",
              "      <td>21</td>\n",
              "    </tr>\n",
              "    <tr>\n",
              "      <th>12032</th>\n",
              "      <td>posted</td>\n",
              "      <td>NaN</td>\n",
              "      <td>NaN</td>\n",
              "      <td>ACC-1710017148</td>\n",
              "      <td>AUD</td>\n",
              "      <td>150.82 -34.01</td>\n",
              "      <td>PAYMENT</td>\n",
              "      <td>NaN</td>\n",
              "      <td>NaN</td>\n",
              "      <td>Michelle</td>\n",
              "      <td>20699.90</td>\n",
              "      <td>2018-10-31</td>\n",
              "      <td>F</td>\n",
              "      <td>19</td>\n",
              "      <td>NaN</td>\n",
              "      <td>NaN</td>\n",
              "      <td>2018-10-31 22:00:00+00:00</td>\n",
              "      <td>33.0</td>\n",
              "      <td>96fe9c5dcda24b599e81b6f6d5bdcb66</td>\n",
              "      <td>Australia</td>\n",
              "      <td>CUS-883482547</td>\n",
              "      <td>NaN</td>\n",
              "      <td>debit</td>\n",
              "      <td>2018-10-31</td>\n",
              "      <td>October</td>\n",
              "      <td>2018</td>\n",
              "      <td>Wednesday</td>\n",
              "      <td>22</td>\n",
              "    </tr>\n",
              "    <tr>\n",
              "      <th>12035</th>\n",
              "      <td>posted</td>\n",
              "      <td>NaN</td>\n",
              "      <td>NaN</td>\n",
              "      <td>ACC-1973887809</td>\n",
              "      <td>AUD</td>\n",
              "      <td>115.78 -31.90</td>\n",
              "      <td>PAYMENT</td>\n",
              "      <td>NaN</td>\n",
              "      <td>NaN</td>\n",
              "      <td>Antonio</td>\n",
              "      <td>9349.51</td>\n",
              "      <td>2018-10-31</td>\n",
              "      <td>M</td>\n",
              "      <td>26</td>\n",
              "      <td>NaN</td>\n",
              "      <td>NaN</td>\n",
              "      <td>2018-10-31 23:00:00+00:00</td>\n",
              "      <td>29.0</td>\n",
              "      <td>dda53e538c5b4d5aae2481be22e60440</td>\n",
              "      <td>Australia</td>\n",
              "      <td>CUS-1646621553</td>\n",
              "      <td>NaN</td>\n",
              "      <td>debit</td>\n",
              "      <td>2018-10-31</td>\n",
              "      <td>October</td>\n",
              "      <td>2018</td>\n",
              "      <td>Wednesday</td>\n",
              "      <td>23</td>\n",
              "    </tr>\n",
              "    <tr>\n",
              "      <th>12036</th>\n",
              "      <td>posted</td>\n",
              "      <td>NaN</td>\n",
              "      <td>NaN</td>\n",
              "      <td>ACC-1349834573</td>\n",
              "      <td>AUD</td>\n",
              "      <td>145.17 -37.84</td>\n",
              "      <td>PAYMENT</td>\n",
              "      <td>NaN</td>\n",
              "      <td>NaN</td>\n",
              "      <td>Matthew</td>\n",
              "      <td>18127.50</td>\n",
              "      <td>2018-10-31</td>\n",
              "      <td>M</td>\n",
              "      <td>39</td>\n",
              "      <td>NaN</td>\n",
              "      <td>NaN</td>\n",
              "      <td>2018-10-31 23:00:00+00:00</td>\n",
              "      <td>32.0</td>\n",
              "      <td>df15d6f039554dcbb3ca02631ce22068</td>\n",
              "      <td>Australia</td>\n",
              "      <td>CUS-1790886359</td>\n",
              "      <td>NaN</td>\n",
              "      <td>debit</td>\n",
              "      <td>2018-10-31</td>\n",
              "      <td>October</td>\n",
              "      <td>2018</td>\n",
              "      <td>Wednesday</td>\n",
              "      <td>23</td>\n",
              "    </tr>\n",
              "    <tr>\n",
              "      <th>12037</th>\n",
              "      <td>posted</td>\n",
              "      <td>NaN</td>\n",
              "      <td>NaN</td>\n",
              "      <td>ACC-240804743</td>\n",
              "      <td>AUD</td>\n",
              "      <td>121.48 -30.75</td>\n",
              "      <td>PAYMENT</td>\n",
              "      <td>NaN</td>\n",
              "      <td>NaN</td>\n",
              "      <td>Kenneth</td>\n",
              "      <td>24775.66</td>\n",
              "      <td>2018-10-31</td>\n",
              "      <td>M</td>\n",
              "      <td>29</td>\n",
              "      <td>NaN</td>\n",
              "      <td>NaN</td>\n",
              "      <td>2018-10-31 23:00:00+00:00</td>\n",
              "      <td>39.0</td>\n",
              "      <td>c7bc398b9eb04e73933dc6d5a7beae0b</td>\n",
              "      <td>Australia</td>\n",
              "      <td>CUS-261674136</td>\n",
              "      <td>NaN</td>\n",
              "      <td>debit</td>\n",
              "      <td>2018-10-31</td>\n",
              "      <td>October</td>\n",
              "      <td>2018</td>\n",
              "      <td>Wednesday</td>\n",
              "      <td>23</td>\n",
              "    </tr>\n",
              "  </tbody>\n",
              "</table>\n",
              "<p>4326 rows × 28 columns</p>\n",
              "</div>"
            ],
            "text/plain": [
              "       status  card_present_flag  ... extraction_day_name extraction_hour\n",
              "5      posted                NaN  ...           Wednesday               2\n",
              "9      posted                NaN  ...           Wednesday               6\n",
              "10     posted                NaN  ...           Wednesday               6\n",
              "11     posted                NaN  ...           Wednesday               6\n",
              "13     posted                NaN  ...           Wednesday               7\n",
              "...       ...                ...  ...                 ...             ...\n",
              "12027  posted                NaN  ...           Wednesday              21\n",
              "12032  posted                NaN  ...           Wednesday              22\n",
              "12035  posted                NaN  ...           Wednesday              23\n",
              "12036  posted                NaN  ...           Wednesday              23\n",
              "12037  posted                NaN  ...           Wednesday              23\n",
              "\n",
              "[4326 rows x 28 columns]"
            ]
          },
          "metadata": {},
          "execution_count": 8
        }
      ]
    },
    {
      "cell_type": "code",
      "source": [
        "df['status'].unique()"
      ],
      "metadata": {
        "colab": {
          "base_uri": "https://localhost:8080/"
        },
        "id": "L7U2Xtn3YsLs",
        "outputId": "df94457f-2f89-4e75-88f8-134fad5364ee"
      },
      "execution_count": null,
      "outputs": [
        {
          "output_type": "execute_result",
          "data": {
            "text/plain": [
              "array(['authorized', 'posted'], dtype=object)"
            ]
          },
          "metadata": {},
          "execution_count": 9
        }
      ]
    },
    {
      "cell_type": "code",
      "source": [
        "sns.catplot(data=df, x='status', kind='count')"
      ],
      "metadata": {
        "colab": {
          "base_uri": "https://localhost:8080/",
          "height": 387
        },
        "id": "YRa6Ia55cLUC",
        "outputId": "94404cfc-453c-498f-928a-ef67e97bbfe1"
      },
      "execution_count": null,
      "outputs": [
        {
          "output_type": "execute_result",
          "data": {
            "text/plain": [
              "<seaborn.axisgrid.FacetGrid at 0x7f515ad705d0>"
            ]
          },
          "metadata": {},
          "execution_count": 10
        },
        {
          "output_type": "display_data",
          "data": {
            "image/png": "[encoded data removed]",
            "text/plain": [
              "<Figure size 360x360 with 1 Axes>"
            ]
          },
          "metadata": {
            "needs_background": "light"
          }
        }
      ]
    },
    {
      "cell_type": "code",
      "source": [
        "df['card_present_flag'].unique()"
      ],
      "metadata": {
        "colab": {
          "base_uri": "https://localhost:8080/"
        },
        "id": "4-cIx0WKY8p5",
        "outputId": "1a6a5475-aa64-4857-cee3-9b3febf1e7ef"
      },
      "execution_count": null,
      "outputs": [
        {
          "output_type": "execute_result",
          "data": {
            "text/plain": [
              "array([ 1.,  0., nan])"
            ]
          },
          "metadata": {},
          "execution_count": 11
        }
      ]
    },
    {
      "cell_type": "code",
      "source": [
        "df_card_present_1 = df[['card_present_flag']].copy().fillna(\"Missing\")\n",
        "sns.catplot(data=df_card_present_1, x='card_present_flag', kind='count')"
      ],
      "metadata": {
        "colab": {
          "base_uri": "https://localhost:8080/",
          "height": 387
        },
        "id": "0JxSi0sLc808",
        "outputId": "17a570b3-a421-4428-b5fc-b08bcf543b48"
      },
      "execution_count": null,
      "outputs": [
        {
          "output_type": "execute_result",
          "data": {
            "text/plain": [
              "<seaborn.axisgrid.FacetGrid at 0x7f51505ff990>"
            ]
          },
          "metadata": {},
          "execution_count": 12
        },
        {
          "output_type": "display_data",
          "data": {
            "image/png": "[encoded data removed]",
            "text/plain": [
              "<Figure size 360x360 with 1 Axes>"
            ]
          },
          "metadata": {
            "needs_background": "light"
          }
        }
      ]
    },
    {
      "cell_type": "code",
      "source": [
        "df['bpay_biller_code'].unique()"
      ],
      "metadata": {
        "colab": {
          "base_uri": "https://localhost:8080/"
        },
        "id": "RSjqdWCpZM4Z",
        "outputId": "0d1f8312-3438-4326-d000-49689b5d9828"
      },
      "execution_count": null,
      "outputs": [
        {
          "output_type": "execute_result",
          "data": {
            "text/plain": [
              "array([nan, 0, ' THE DISCOUNT CHEMIST GROUP',\n",
              "       ' LAND WATER & PLANNING East Melbourne'], dtype=object)"
            ]
          },
          "metadata": {},
          "execution_count": 13
        }
      ]
    },
    {
      "cell_type": "code",
      "source": [
        "df_bpay_biller_1 = df[['bpay_biller_code']].copy().fillna(\"Missing\")\n",
        "sns.catplot(data=df_bpay_biller_1, y='bpay_biller_code', kind='count')"
      ],
      "metadata": {
        "colab": {
          "base_uri": "https://localhost:8080/",
          "height": 387
        },
        "id": "ogpFdz6weDU8",
        "outputId": "438f3759-dce1-485e-d5f4-1b453ee86a8a"
      },
      "execution_count": null,
      "outputs": [
        {
          "output_type": "execute_result",
          "data": {
            "text/plain": [
              "<seaborn.axisgrid.FacetGrid at 0x7f51500cbcd0>"
            ]
          },
          "metadata": {},
          "execution_count": 14
        },
        {
          "output_type": "display_data",
          "data": {
            "image/png": "[encoded data removed]",
            "text/plain": [
              "<Figure size 360x360 with 1 Axes>"
            ]
          },
          "metadata": {
            "needs_background": "light"
          }
        }
      ]
    },
    {
      "cell_type": "code",
      "source": [
        "df['account'].nunique()"
      ],
      "metadata": {
        "colab": {
          "base_uri": "https://localhost:8080/"
        },
        "id": "oC2zLK-gZbeP",
        "outputId": "b3f9111a-ec31-4b66-8509-57830bb31f85"
      },
      "execution_count": null,
      "outputs": [
        {
          "output_type": "execute_result",
          "data": {
            "text/plain": [
              "100"
            ]
          },
          "metadata": {},
          "execution_count": 15
        }
      ]
    },
    {
      "cell_type": "code",
      "source": [
        "df_account_values = df['account'].value_counts()\n",
        "df_account_values = df_account_values.reset_index()\n",
        "df_account_values.columns = ['account', 'values_count']\n",
        "df_account_values.head()\n"
      ],
      "metadata": {
        "colab": {
          "base_uri": "https://localhost:8080/",
          "height": 206
        },
        "id": "PLzM6l5QgF4S",
        "outputId": "d962c145-f321-4d95-d05c-aded46da7ff4"
      },
      "execution_count": null,
      "outputs": [
        {
          "output_type": "execute_result",
          "data": {
            "text/html": [
              "<div>\n",
              "<style scoped>\n",
              "    .dataframe tbody tr th:only-of-type {\n",
              "        vertical-align: middle;\n",
              "    }\n",
              "\n",
              "    .dataframe tbody tr th {\n",
              "        vertical-align: top;\n",
              "    }\n",
              "\n",
              "    .dataframe thead th {\n",
              "        text-align: right;\n",
              "    }\n",
              "</style>\n",
              "<table border=\"1\" class=\"dataframe\">\n",
              "  <thead>\n",
              "    <tr style=\"text-align: right;\">\n",
              "      <th></th>\n",
              "      <th>account</th>\n",
              "      <th>values_count</th>\n",
              "    </tr>\n",
              "  </thead>\n",
              "  <tbody>\n",
              "    <tr>\n",
              "      <th>0</th>\n",
              "      <td>ACC-1598451071</td>\n",
              "      <td>578</td>\n",
              "    </tr>\n",
              "    <tr>\n",
              "      <th>1</th>\n",
              "      <td>ACC-1222300524</td>\n",
              "      <td>303</td>\n",
              "    </tr>\n",
              "    <tr>\n",
              "      <th>2</th>\n",
              "      <td>ACC-182446574</td>\n",
              "      <td>292</td>\n",
              "    </tr>\n",
              "    <tr>\n",
              "      <th>3</th>\n",
              "      <td>ACC-4258502723</td>\n",
              "      <td>260</td>\n",
              "    </tr>\n",
              "    <tr>\n",
              "      <th>4</th>\n",
              "      <td>ACC-1037050564</td>\n",
              "      <td>259</td>\n",
              "    </tr>\n",
              "  </tbody>\n",
              "</table>\n",
              "</div>"
            ],
            "text/plain": [
              "          account  values_count\n",
              "0  ACC-1598451071           578\n",
              "1  ACC-1222300524           303\n",
              "2   ACC-182446574           292\n",
              "3  ACC-4258502723           260\n",
              "4  ACC-1037050564           259"
            ]
          },
          "metadata": {},
          "execution_count": 16
        }
      ]
    },
    {
      "cell_type": "code",
      "source": [
        "sns.histplot(data=df_account_values, x='values_count')"
      ],
      "metadata": {
        "colab": {
          "base_uri": "https://localhost:8080/",
          "height": 301
        },
        "id": "3PzfJHnLiBPj",
        "outputId": "e2409655-a95b-48e2-90cb-b675198efe23"
      },
      "execution_count": null,
      "outputs": [
        {
          "output_type": "execute_result",
          "data": {
            "text/plain": [
              "<matplotlib.axes._subplots.AxesSubplot at 0x7f515003bd10>"
            ]
          },
          "metadata": {},
          "execution_count": 17
        },
        {
          "output_type": "display_data",
          "data": {
            "image/png": "[encoded data removed]",
            "text/plain": [
              "<Figure size 432x288 with 1 Axes>"
            ]
          },
          "metadata": {
            "needs_background": "light"
          }
        }
      ]
    },
    {
      "cell_type": "code",
      "source": [
        "df['currency'].unique()"
      ],
      "metadata": {
        "colab": {
          "base_uri": "https://localhost:8080/"
        },
        "id": "JcxVSZPaaAQ5",
        "outputId": "44c22b3a-ae4a-4c88-c22b-845a8dee5bb4"
      },
      "execution_count": null,
      "outputs": [
        {
          "output_type": "execute_result",
          "data": {
            "text/plain": [
              "array(['AUD'], dtype=object)"
            ]
          },
          "metadata": {},
          "execution_count": 18
        }
      ]
    },
    {
      "cell_type": "code",
      "source": [
        "df['long_lat'].nunique()"
      ],
      "metadata": {
        "colab": {
          "base_uri": "https://localhost:8080/"
        },
        "id": "Uu1atTFmaF4l",
        "outputId": "5dbf8de1-259a-4fd1-aa58-5e9dc4a10081"
      },
      "execution_count": null,
      "outputs": [
        {
          "output_type": "execute_result",
          "data": {
            "text/plain": [
              "100"
            ]
          },
          "metadata": {},
          "execution_count": 19
        }
      ]
    },
    {
      "cell_type": "code",
      "source": [
        "df_long_lat_values = df['long_lat'].value_counts()\n",
        "df_long_lat_values = df_long_lat_values.reset_index()\n",
        "df_long_lat_values.columns = ['long_lat', 'values_count']\n",
        "# df_long_lat_values.head()\n",
        "sns.histplot(data=df_long_lat_values, x='values_count')\n"
      ],
      "metadata": {
        "colab": {
          "base_uri": "https://localhost:8080/",
          "height": 301
        },
        "id": "hV44kduYmRV2",
        "outputId": "efbe9765-2b5a-4a73-dc2f-03d5b197d925"
      },
      "execution_count": null,
      "outputs": [
        {
          "output_type": "execute_result",
          "data": {
            "text/plain": [
              "<matplotlib.axes._subplots.AxesSubplot at 0x7f514ecf1690>"
            ]
          },
          "metadata": {},
          "execution_count": 20
        },
        {
          "output_type": "display_data",
          "data": {
            "image/png": "[encoded data removed]",
            "text/plain": [
              "<Figure size 432x288 with 1 Axes>"
            ]
          },
          "metadata": {
            "needs_background": "light"
          }
        }
      ]
    },
    {
      "cell_type": "code",
      "source": [
        "df['txn_description'].unique()"
      ],
      "metadata": {
        "colab": {
          "base_uri": "https://localhost:8080/"
        },
        "id": "8fLgL2nnaKRB",
        "outputId": "15a71db7-5743-4d70-fab3-d233deb10a50"
      },
      "execution_count": null,
      "outputs": [
        {
          "output_type": "execute_result",
          "data": {
            "text/plain": [
              "array(['POS', 'SALES-POS', 'PAYMENT', 'INTER BANK', 'PAY/SALARY',\n",
              "       'PHONE BANK'], dtype=object)"
            ]
          },
          "metadata": {},
          "execution_count": 21
        }
      ]
    },
    {
      "cell_type": "code",
      "source": [
        "sns.catplot(data=df, y='txn_description', kind='count')"
      ],
      "metadata": {
        "colab": {
          "base_uri": "https://localhost:8080/",
          "height": 387
        },
        "id": "eOuMVIvqnOMb",
        "outputId": "fe879a85-c19f-4512-8d87-038c3c9810f0"
      },
      "execution_count": null,
      "outputs": [
        {
          "output_type": "execute_result",
          "data": {
            "text/plain": [
              "<seaborn.axisgrid.FacetGrid at 0x7f514ec70ed0>"
            ]
          },
          "metadata": {},
          "execution_count": 22
        },
        {
          "output_type": "display_data",
          "data": {
            "image/png": "[encoded data removed]",
            "text/plain": [
              "<Figure size 360x360 with 1 Axes>"
            ]
          },
          "metadata": {
            "needs_background": "light"
          }
        }
      ]
    },
    {
      "cell_type": "code",
      "source": [
        "df['merchant_id'].nunique()"
      ],
      "metadata": {
        "colab": {
          "base_uri": "https://localhost:8080/"
        },
        "id": "umzoPebkaeiW",
        "outputId": "1f90a939-cadd-4c16-f10a-a95f78d0425a"
      },
      "execution_count": null,
      "outputs": [
        {
          "output_type": "execute_result",
          "data": {
            "text/plain": [
              "5725"
            ]
          },
          "metadata": {},
          "execution_count": 23
        }
      ]
    },
    {
      "cell_type": "code",
      "source": [
        "df_merch_id_values = df['merchant_id'].value_counts()\n",
        "df_merch_id_values = df_merch_id_values.reset_index()\n",
        "df_merch_id_values.columns = ['long_lat', 'values_count']\n",
        "# df_long_lat_values.head()\n",
        "sns.histplot(data=df_merch_id_values, x='values_count')"
      ],
      "metadata": {
        "colab": {
          "base_uri": "https://localhost:8080/",
          "height": 297
        },
        "id": "d1weurZEnmSz",
        "outputId": "4d8e9e99-a138-4704-a908-a1e283f00d99"
      },
      "execution_count": null,
      "outputs": [
        {
          "output_type": "execute_result",
          "data": {
            "text/plain": [
              "<matplotlib.axes._subplots.AxesSubplot at 0x7f514ed08b50>"
            ]
          },
          "metadata": {},
          "execution_count": 24
        },
        {
          "output_type": "display_data",
          "data": {
            "image/png": "[encoded data removed]",
            "text/plain": [
              "<Figure size 432x288 with 1 Axes>"
            ]
          },
          "metadata": {
            "needs_background": "light"
          }
        }
      ]
    },
    {
      "cell_type": "code",
      "source": [
        "df['merchant_id'].value_counts()"
      ],
      "metadata": {
        "colab": {
          "base_uri": "https://localhost:8080/"
        },
        "id": "NjfelvCCI_KE",
        "outputId": "10736808-ab5e-4b39-86c9-73dbded8f2d6"
      },
      "execution_count": null,
      "outputs": [
        {
          "output_type": "execute_result",
          "data": {
            "text/plain": [
              "106e1272-44ab-4dcb-a438-dd98e0071e51    14\n",
              "6c84c219-96ea-4c6f-9de5-0a28bcaec62f    12\n",
              "e28c426d-cbef-4e2d-aa06-1ba0b6b1902f    11\n",
              "aef30de1-c67e-4ab7-8577-2931a4bf3c7e    10\n",
              "6ddddc40-5b69-4253-8a26-167999a8bf96    10\n",
              "                                        ..\n",
              "86dfcc0a-0f57-448b-ba3c-b63b39fbfb54     1\n",
              "05702806-40c5-4a79-82ac-e1bf781a723c     1\n",
              "1849e9a7-7371-4790-a05e-4814e8bbf478     1\n",
              "0ccf8fe8-0485-4d47-9cf3-a7cb185ac190     1\n",
              "afe3809f-76b3-4959-8a78-d620910b8762     1\n",
              "Name: merchant_id, Length: 5725, dtype: int64"
            ]
          },
          "metadata": {},
          "execution_count": 25
        }
      ]
    },
    {
      "cell_type": "code",
      "source": [
        "df['merchant_code'].unique()"
      ],
      "metadata": {
        "colab": {
          "base_uri": "https://localhost:8080/"
        },
        "id": "JsXrrLrFal-Q",
        "outputId": "94e0ebf0-04b5-4ee7-9c08-371377e01721"
      },
      "execution_count": null,
      "outputs": [
        {
          "output_type": "execute_result",
          "data": {
            "text/plain": [
              "array([nan,  0.])"
            ]
          },
          "metadata": {},
          "execution_count": 26
        }
      ]
    },
    {
      "cell_type": "code",
      "source": [
        "df_merch_code = df[['merchant_code']].copy().fillna(\"Missing\")\n",
        "sns.catplot(data=df_merch_code, y='merchant_code', kind='count')"
      ],
      "metadata": {
        "colab": {
          "base_uri": "https://localhost:8080/",
          "height": 387
        },
        "id": "mELCc-WQn4Ye",
        "outputId": "b2c2656f-4e30-4e89-d766-0ca95c329f18"
      },
      "execution_count": null,
      "outputs": [
        {
          "output_type": "execute_result",
          "data": {
            "text/plain": [
              "<seaborn.axisgrid.FacetGrid at 0x7f51599a6550>"
            ]
          },
          "metadata": {},
          "execution_count": 27
        },
        {
          "output_type": "display_data",
          "data": {
            "image/png": "[encoded data removed]",
            "text/plain": [
              "<Figure size 360x360 with 1 Axes>"
            ]
          },
          "metadata": {
            "needs_background": "light"
          }
        }
      ]
    },
    {
      "cell_type": "code",
      "source": [
        "df['first_name'].nunique()"
      ],
      "metadata": {
        "colab": {
          "base_uri": "https://localhost:8080/"
        },
        "id": "8B38FKQUas16",
        "outputId": "8d1d5cac-7f3f-45c3-8312-f8c485b3ee95"
      },
      "execution_count": null,
      "outputs": [
        {
          "output_type": "execute_result",
          "data": {
            "text/plain": [
              "80"
            ]
          },
          "metadata": {},
          "execution_count": 28
        }
      ]
    },
    {
      "cell_type": "code",
      "source": [
        "df_fname_values = df['first_name'].value_counts()\n",
        "df_fname_values = df_fname_values.reset_index()\n",
        "df_fname_values.columns = ['first_name', 'values_count']\n",
        "# df_long_lat_values.head()\n",
        "sns.histplot(data=df_fname_values, x='values_count')"
      ],
      "metadata": {
        "colab": {
          "base_uri": "https://localhost:8080/",
          "height": 297
        },
        "id": "DhFy1aj1oRzb",
        "outputId": "7319f2b2-e615-4ab4-c01a-4f56b2336f22"
      },
      "execution_count": null,
      "outputs": [
        {
          "output_type": "execute_result",
          "data": {
            "text/plain": [
              "<matplotlib.axes._subplots.AxesSubplot at 0x7f515986a050>"
            ]
          },
          "metadata": {},
          "execution_count": 29
        },
        {
          "output_type": "display_data",
          "data": {
            "image/png": "[encoded data removed]",
            "text/plain": [
              "<Figure size 432x288 with 1 Axes>"
            ]
          },
          "metadata": {
            "needs_background": "light"
          }
        }
      ]
    },
    {
      "cell_type": "code",
      "source": [
        "df['balance'].nunique()"
      ],
      "metadata": {
        "colab": {
          "base_uri": "https://localhost:8080/"
        },
        "id": "C0G7E2eaazA6",
        "outputId": "672057c5-5671-41e4-8cc3-84bdcb95d00a"
      },
      "execution_count": null,
      "outputs": [
        {
          "output_type": "execute_result",
          "data": {
            "text/plain": [
              "12006"
            ]
          },
          "metadata": {},
          "execution_count": 30
        }
      ]
    },
    {
      "cell_type": "code",
      "source": [
        "sns.histplot(data=df, x='balance')"
      ],
      "metadata": {
        "colab": {
          "base_uri": "https://localhost:8080/",
          "height": 297
        },
        "id": "XJRibxzxocv1",
        "outputId": "ec840df3-93c6-425d-8848-8a5abd277b9f"
      },
      "execution_count": null,
      "outputs": [
        {
          "output_type": "execute_result",
          "data": {
            "text/plain": [
              "<matplotlib.axes._subplots.AxesSubplot at 0x7f51596e0ad0>"
            ]
          },
          "metadata": {},
          "execution_count": 31
        },
        {
          "output_type": "display_data",
          "data": {
            "image/png": "[encoded data removed]",
            "text/plain": [
              "<Figure size 432x288 with 1 Axes>"
            ]
          },
          "metadata": {
            "needs_background": "light"
          }
        }
      ]
    },
    {
      "cell_type": "code",
      "source": [
        "df['balance'].nlargest(10)"
      ],
      "metadata": {
        "colab": {
          "base_uri": "https://localhost:8080/"
        },
        "id": "E6q_ORoHJMh1",
        "outputId": "f63a0fd3-354b-4602-e675-a5ab5e925e99"
      },
      "execution_count": null,
      "outputs": [
        {
          "output_type": "execute_result",
          "data": {
            "text/plain": [
              "10467    267128.52\n",
              "10620    267093.66\n",
              "10637    267050.66\n",
              "10709    267028.97\n",
              "10715    266981.30\n",
              "10987    266916.32\n",
              "11003    266894.32\n",
              "11013    266877.26\n",
              "11123    266754.88\n",
              "11247    266704.88\n",
              "Name: balance, dtype: float64"
            ]
          },
          "metadata": {},
          "execution_count": 32
        }
      ]
    },
    {
      "cell_type": "code",
      "source": [
        "df['date'].nunique()"
      ],
      "metadata": {
        "colab": {
          "base_uri": "https://localhost:8080/"
        },
        "id": "XjegW6Hea21r",
        "outputId": "df2a1222-08e1-4601-9f89-1698be837826"
      },
      "execution_count": null,
      "outputs": [
        {
          "output_type": "execute_result",
          "data": {
            "text/plain": [
              "91"
            ]
          },
          "metadata": {},
          "execution_count": 33
        }
      ]
    },
    {
      "cell_type": "code",
      "source": [
        "df_date_values = df['date'].value_counts()\n",
        "df_date_values = df_date_values.reset_index()\n",
        "df_date_values.columns = ['date', 'values_count']\n",
        "# df_long_lat_values.head()\n",
        "sns.histplot(data=df_date_values, x='values_count')"
      ],
      "metadata": {
        "colab": {
          "base_uri": "https://localhost:8080/",
          "height": 297
        },
        "id": "xyaIvwCboo0Q",
        "outputId": "45b177cc-e204-4e7c-8c1a-2187413a2856"
      },
      "execution_count": null,
      "outputs": [
        {
          "output_type": "execute_result",
          "data": {
            "text/plain": [
              "<matplotlib.axes._subplots.AxesSubplot at 0x7f51599ed6d0>"
            ]
          },
          "metadata": {},
          "execution_count": 34
        },
        {
          "output_type": "display_data",
          "data": {
            "image/png": "[encoded data removed]",
            "text/plain": [
              "<Figure size 432x288 with 1 Axes>"
            ]
          },
          "metadata": {
            "needs_background": "light"
          }
        }
      ]
    },
    {
      "cell_type": "code",
      "source": [
        "df['gender'].unique()"
      ],
      "metadata": {
        "colab": {
          "base_uri": "https://localhost:8080/"
        },
        "id": "9fFIrTa5a9PC",
        "outputId": "dd372f10-f330-44cf-e517-d7bcf932af28"
      },
      "execution_count": null,
      "outputs": [
        {
          "output_type": "execute_result",
          "data": {
            "text/plain": [
              "array(['F', 'M'], dtype=object)"
            ]
          },
          "metadata": {},
          "execution_count": 35
        }
      ]
    },
    {
      "cell_type": "code",
      "source": [
        "sns.catplot(data=df, y='gender', kind='count')"
      ],
      "metadata": {
        "colab": {
          "base_uri": "https://localhost:8080/",
          "height": 387
        },
        "id": "0f8NMDMmo5oO",
        "outputId": "b9deb194-2edc-4a01-840a-7bfc61e5f552"
      },
      "execution_count": null,
      "outputs": [
        {
          "output_type": "execute_result",
          "data": {
            "text/plain": [
              "<seaborn.axisgrid.FacetGrid at 0x7f51596e08d0>"
            ]
          },
          "metadata": {},
          "execution_count": 36
        },
        {
          "output_type": "display_data",
          "data": {
            "image/png": "[encoded data removed]",
            "text/plain": [
              "<Figure size 360x360 with 1 Axes>"
            ]
          },
          "metadata": {
            "needs_background": "light"
          }
        }
      ]
    },
    {
      "cell_type": "code",
      "source": [
        "df['age'].nunique()"
      ],
      "metadata": {
        "colab": {
          "base_uri": "https://localhost:8080/"
        },
        "id": "Uw8ntmlFbCNC",
        "outputId": "ad2d6b7d-7b22-485b-823e-5d384ab59c1a"
      },
      "execution_count": null,
      "outputs": [
        {
          "output_type": "execute_result",
          "data": {
            "text/plain": [
              "33"
            ]
          },
          "metadata": {},
          "execution_count": 37
        }
      ]
    },
    {
      "cell_type": "code",
      "source": [
        "sns.histplot(data=df, x='age')"
      ],
      "metadata": {
        "colab": {
          "base_uri": "https://localhost:8080/",
          "height": 297
        },
        "id": "Jzp0iN4AuzXm",
        "outputId": "cbd6991f-bee1-429a-e4fb-8161433c93ab"
      },
      "execution_count": null,
      "outputs": [
        {
          "output_type": "execute_result",
          "data": {
            "text/plain": [
              "<matplotlib.axes._subplots.AxesSubplot at 0x7f515980b4d0>"
            ]
          },
          "metadata": {},
          "execution_count": 38
        },
        {
          "output_type": "display_data",
          "data": {
            "image/png": "[encoded data removed]",
            "text/plain": [
              "<Figure size 432x288 with 1 Axes>"
            ]
          },
          "metadata": {
            "needs_background": "light"
          }
        }
      ]
    },
    {
      "cell_type": "code",
      "source": [
        "df['merchant_suburb'].nunique()"
      ],
      "metadata": {
        "colab": {
          "base_uri": "https://localhost:8080/"
        },
        "id": "o5AM81D0bGoX",
        "outputId": "e54989a7-2518-4850-e2bc-065d9e5b364c"
      },
      "execution_count": null,
      "outputs": [
        {
          "output_type": "execute_result",
          "data": {
            "text/plain": [
              "1609"
            ]
          },
          "metadata": {},
          "execution_count": 39
        }
      ]
    },
    {
      "cell_type": "code",
      "source": [
        "df_merchant_suburb_values = df['merchant_suburb'].value_counts()\n",
        "df_merchant_suburb_values = df_merchant_suburb_values.reset_index()\n",
        "df_merchant_suburb_values.columns = ['merchant_suburb', 'values_count']\n",
        "# df_long_lat_values.head()\n",
        "sns.histplot(data=df_merchant_suburb_values, x='values_count')\n"
      ],
      "metadata": {
        "colab": {
          "base_uri": "https://localhost:8080/",
          "height": 299
        },
        "id": "WiAsUGlxvVXS",
        "outputId": "55ae7f58-f11e-4dff-96ac-c56c206c5fff"
      },
      "execution_count": null,
      "outputs": [
        {
          "output_type": "execute_result",
          "data": {
            "text/plain": [
              "<matplotlib.axes._subplots.AxesSubplot at 0x7f51591fbe90>"
            ]
          },
          "metadata": {},
          "execution_count": 40
        },
        {
          "output_type": "display_data",
          "data": {
            "image/png": "[encoded data removed]",
            "text/plain": [
              "<Figure size 432x288 with 1 Axes>"
            ]
          },
          "metadata": {
            "needs_background": "light"
          }
        }
      ]
    },
    {
      "cell_type": "code",
      "source": [
        "df_merchant_suburb_values.max()"
      ],
      "metadata": {
        "colab": {
          "base_uri": "https://localhost:8080/"
        },
        "id": "vhPV2njTvaUr",
        "outputId": "010b120b-31f6-415b-aae3-20afd7924580"
      },
      "execution_count": null,
      "outputs": [
        {
          "output_type": "execute_result",
          "data": {
            "text/plain": [
              "merchant_suburb    Zuccoli\n",
              "values_count           255\n",
              "dtype: object"
            ]
          },
          "metadata": {},
          "execution_count": 41
        }
      ]
    },
    {
      "cell_type": "code",
      "source": [
        "df['merchant_state'].unique()"
      ],
      "metadata": {
        "colab": {
          "base_uri": "https://localhost:8080/"
        },
        "id": "sxZWHy-JbLHa",
        "outputId": "10d9c876-eba8-4eab-d9f4-760c4da0209d"
      },
      "execution_count": null,
      "outputs": [
        {
          "output_type": "execute_result",
          "data": {
            "text/plain": [
              "array(['QLD', 'NSW', nan, 'VIC', 'WA', 'SA', 'NT', 'TAS', 'ACT'],\n",
              "      dtype=object)"
            ]
          },
          "metadata": {},
          "execution_count": 42
        }
      ]
    },
    {
      "cell_type": "code",
      "source": [
        "df['merchant_state'].value_counts()"
      ],
      "metadata": {
        "colab": {
          "base_uri": "https://localhost:8080/"
        },
        "id": "b3H25utjv8CG",
        "outputId": "17426136-4e84-4daa-b6cb-dc0db0b5480a"
      },
      "execution_count": null,
      "outputs": [
        {
          "output_type": "execute_result",
          "data": {
            "text/plain": [
              "NSW    2169\n",
              "VIC    2131\n",
              "QLD    1556\n",
              "WA     1100\n",
              "SA      415\n",
              "NT      205\n",
              "ACT      73\n",
              "TAS      68\n",
              "Name: merchant_state, dtype: int64"
            ]
          },
          "metadata": {},
          "execution_count": 43
        }
      ]
    },
    {
      "cell_type": "code",
      "source": [
        "sns.catplot(data=df, x='merchant_state', kind='count', order=df['merchant_state'].value_counts().index)"
      ],
      "metadata": {
        "colab": {
          "base_uri": "https://localhost:8080/",
          "height": 387
        },
        "id": "d7M7nO-y7QGt",
        "outputId": "15f3fddf-928e-479d-bf5d-dc17d5a26e3d"
      },
      "execution_count": null,
      "outputs": [
        {
          "output_type": "execute_result",
          "data": {
            "text/plain": [
              "<seaborn.axisgrid.FacetGrid at 0x7f5159651a90>"
            ]
          },
          "metadata": {},
          "execution_count": 44
        },
        {
          "output_type": "display_data",
          "data": {
            "image/png": "[encoded data removed]",
            "text/plain": [
              "<Figure size 360x360 with 1 Axes>"
            ]
          },
          "metadata": {
            "needs_background": "light"
          }
        }
      ]
    },
    {
      "cell_type": "code",
      "source": [
        "df['extraction'].nunique()"
      ],
      "metadata": {
        "colab": {
          "base_uri": "https://localhost:8080/"
        },
        "id": "G3W11Q76bdRb",
        "outputId": "d6888751-5d0e-460c-cf50-0569849ca5d9"
      },
      "execution_count": null,
      "outputs": [
        {
          "output_type": "execute_result",
          "data": {
            "text/plain": [
              "9442"
            ]
          },
          "metadata": {},
          "execution_count": 45
        }
      ]
    },
    {
      "cell_type": "code",
      "source": [
        "df['extraction_year'].value_counts()"
      ],
      "metadata": {
        "colab": {
          "base_uri": "https://localhost:8080/"
        },
        "id": "7zOsKVsp6jtw",
        "outputId": "07622339-1224-4d58-d41a-73e0152f78f7"
      },
      "execution_count": null,
      "outputs": [
        {
          "output_type": "execute_result",
          "data": {
            "text/plain": [
              "2018    12043\n",
              "Name: extraction_year, dtype: int64"
            ]
          },
          "metadata": {},
          "execution_count": 46
        }
      ]
    },
    {
      "cell_type": "code",
      "source": [
        "df['extraction_month_name'].value_counts()\n",
        "# sns.catplot(data=df, y='extraction_month_name', kind='count')"
      ],
      "metadata": {
        "colab": {
          "base_uri": "https://localhost:8080/"
        },
        "id": "NtX2wZnq61s7",
        "outputId": "6bc3a88a-a3bf-4de7-b4a8-1819ca880a21"
      },
      "execution_count": null,
      "outputs": [
        {
          "output_type": "execute_result",
          "data": {
            "text/plain": [
              "October      4087\n",
              "September    4013\n",
              "August       3943\n",
              "Name: extraction_month_name, dtype: int64"
            ]
          },
          "metadata": {},
          "execution_count": 47
        }
      ]
    },
    {
      "cell_type": "code",
      "source": [
        "# df['extraction_day_name'].value_counts()\n",
        "sns.catplot(data=df, y='extraction_day_name', kind='count', order=df['extraction_day_name'].value_counts().index)"
      ],
      "metadata": {
        "colab": {
          "base_uri": "https://localhost:8080/",
          "height": 387
        },
        "id": "0IowC8FZ66Z3",
        "outputId": "dcd3428c-ba1f-4386-e869-afac70cac1ff"
      },
      "execution_count": null,
      "outputs": [
        {
          "output_type": "execute_result",
          "data": {
            "text/plain": [
              "<seaborn.axisgrid.FacetGrid at 0x7f514ea846d0>"
            ]
          },
          "metadata": {},
          "execution_count": 48
        },
        {
          "output_type": "display_data",
          "data": {
            "image/png": "[encoded data removed]",
            "text/plain": [
              "<Figure size 360x360 with 1 Axes>"
            ]
          },
          "metadata": {
            "needs_background": "light"
          }
        }
      ]
    },
    {
      "cell_type": "code",
      "source": [
        "sns.catplot(data=df, x='extraction_hour', kind='count', order=df['extraction_hour'].value_counts().index)"
      ],
      "metadata": {
        "colab": {
          "base_uri": "https://localhost:8080/",
          "height": 387
        },
        "id": "qedOU9iV9BwT",
        "outputId": "5d1f2365-b2bf-4eb9-ea3e-945db5c9af4e"
      },
      "execution_count": null,
      "outputs": [
        {
          "output_type": "execute_result",
          "data": {
            "text/plain": [
              "<seaborn.axisgrid.FacetGrid at 0x7f514e796150>"
            ]
          },
          "metadata": {},
          "execution_count": 49
        },
        {
          "output_type": "display_data",
          "data": {
            "image/png": "[encoded data removed]",
            "text/plain": [
              "<Figure size 360x360 with 1 Axes>"
            ]
          },
          "metadata": {
            "needs_background": "light"
          }
        }
      ]
    },
    {
      "cell_type": "code",
      "source": [
        "df['amount'].nunique()"
      ],
      "metadata": {
        "colab": {
          "base_uri": "https://localhost:8080/"
        },
        "id": "V-ik54TDbgXl",
        "outputId": "88fe1ab2-cc3b-497d-ec83-51a8b87488cd"
      },
      "execution_count": null,
      "outputs": [
        {
          "output_type": "execute_result",
          "data": {
            "text/plain": [
              "4457"
            ]
          },
          "metadata": {},
          "execution_count": 50
        }
      ]
    },
    {
      "cell_type": "code",
      "source": [
        "df.loc[df['movement']=='debit'].head(3)"
      ],
      "metadata": {
        "colab": {
          "base_uri": "https://localhost:8080/",
          "height": 319
        },
        "id": "OuLA-WyaX2SI",
        "outputId": "036ab38d-1a34-4bca-f602-885b11eb892f"
      },
      "execution_count": 71,
      "outputs": [
        {
          "output_type": "execute_result",
          "data": {
            "text/html": [
              "<div>\n",
              "<style scoped>\n",
              "    .dataframe tbody tr th:only-of-type {\n",
              "        vertical-align: middle;\n",
              "    }\n",
              "\n",
              "    .dataframe tbody tr th {\n",
              "        vertical-align: top;\n",
              "    }\n",
              "\n",
              "    .dataframe thead th {\n",
              "        text-align: right;\n",
              "    }\n",
              "</style>\n",
              "<table border=\"1\" class=\"dataframe\">\n",
              "  <thead>\n",
              "    <tr style=\"text-align: right;\">\n",
              "      <th></th>\n",
              "      <th>status</th>\n",
              "      <th>card_present_flag</th>\n",
              "      <th>bpay_biller_code</th>\n",
              "      <th>account</th>\n",
              "      <th>currency</th>\n",
              "      <th>long_lat</th>\n",
              "      <th>txn_description</th>\n",
              "      <th>merchant_id</th>\n",
              "      <th>merchant_code</th>\n",
              "      <th>first_name</th>\n",
              "      <th>balance</th>\n",
              "      <th>date</th>\n",
              "      <th>gender</th>\n",
              "      <th>age</th>\n",
              "      <th>merchant_suburb</th>\n",
              "      <th>merchant_state</th>\n",
              "      <th>extraction</th>\n",
              "      <th>amount</th>\n",
              "      <th>transaction_id</th>\n",
              "      <th>country</th>\n",
              "      <th>customer_id</th>\n",
              "      <th>merchant_long_lat</th>\n",
              "      <th>movement</th>\n",
              "      <th>extraction_date</th>\n",
              "      <th>extraction_month_name</th>\n",
              "      <th>extraction_year</th>\n",
              "      <th>extraction_day_name</th>\n",
              "      <th>extraction_hour</th>\n",
              "    </tr>\n",
              "  </thead>\n",
              "  <tbody>\n",
              "    <tr>\n",
              "      <th>0</th>\n",
              "      <td>authorized</td>\n",
              "      <td>1.0</td>\n",
              "      <td>NaN</td>\n",
              "      <td>ACC-1598451071</td>\n",
              "      <td>AUD</td>\n",
              "      <td>153.41 -27.95</td>\n",
              "      <td>POS</td>\n",
              "      <td>81c48296-73be-44a7-befa-d053f48ce7cd</td>\n",
              "      <td>NaN</td>\n",
              "      <td>Diana</td>\n",
              "      <td>35.39</td>\n",
              "      <td>2018-08-01</td>\n",
              "      <td>F</td>\n",
              "      <td>26</td>\n",
              "      <td>Ashmore</td>\n",
              "      <td>QLD</td>\n",
              "      <td>2018-08-01 01:01:15+00:00</td>\n",
              "      <td>16.25</td>\n",
              "      <td>a623070bfead4541a6b0fff8a09e706c</td>\n",
              "      <td>Australia</td>\n",
              "      <td>CUS-2487424745</td>\n",
              "      <td>153.38 -27.99</td>\n",
              "      <td>debit</td>\n",
              "      <td>2018-08-01</td>\n",
              "      <td>August</td>\n",
              "      <td>2018</td>\n",
              "      <td>Wednesday</td>\n",
              "      <td>1</td>\n",
              "    </tr>\n",
              "    <tr>\n",
              "      <th>1</th>\n",
              "      <td>authorized</td>\n",
              "      <td>0.0</td>\n",
              "      <td>NaN</td>\n",
              "      <td>ACC-1598451071</td>\n",
              "      <td>AUD</td>\n",
              "      <td>153.41 -27.95</td>\n",
              "      <td>SALES-POS</td>\n",
              "      <td>830a451c-316e-4a6a-bf25-e37caedca49e</td>\n",
              "      <td>NaN</td>\n",
              "      <td>Diana</td>\n",
              "      <td>21.20</td>\n",
              "      <td>2018-08-01</td>\n",
              "      <td>F</td>\n",
              "      <td>26</td>\n",
              "      <td>Sydney</td>\n",
              "      <td>NSW</td>\n",
              "      <td>2018-08-01 01:13:45+00:00</td>\n",
              "      <td>14.19</td>\n",
              "      <td>13270a2a902145da9db4c951e04b51b9</td>\n",
              "      <td>Australia</td>\n",
              "      <td>CUS-2487424745</td>\n",
              "      <td>151.21 -33.87</td>\n",
              "      <td>debit</td>\n",
              "      <td>2018-08-01</td>\n",
              "      <td>August</td>\n",
              "      <td>2018</td>\n",
              "      <td>Wednesday</td>\n",
              "      <td>1</td>\n",
              "    </tr>\n",
              "    <tr>\n",
              "      <th>2</th>\n",
              "      <td>authorized</td>\n",
              "      <td>1.0</td>\n",
              "      <td>NaN</td>\n",
              "      <td>ACC-1222300524</td>\n",
              "      <td>AUD</td>\n",
              "      <td>151.23 -33.94</td>\n",
              "      <td>POS</td>\n",
              "      <td>835c231d-8cdf-4e96-859d-e9d571760cf0</td>\n",
              "      <td>NaN</td>\n",
              "      <td>Michael</td>\n",
              "      <td>5.71</td>\n",
              "      <td>2018-08-01</td>\n",
              "      <td>M</td>\n",
              "      <td>38</td>\n",
              "      <td>Sydney</td>\n",
              "      <td>NSW</td>\n",
              "      <td>2018-08-01 01:26:15+00:00</td>\n",
              "      <td>6.42</td>\n",
              "      <td>feb79e7ecd7048a5a36ec889d1a94270</td>\n",
              "      <td>Australia</td>\n",
              "      <td>CUS-2142601169</td>\n",
              "      <td>151.21 -33.87</td>\n",
              "      <td>debit</td>\n",
              "      <td>2018-08-01</td>\n",
              "      <td>August</td>\n",
              "      <td>2018</td>\n",
              "      <td>Wednesday</td>\n",
              "      <td>1</td>\n",
              "    </tr>\n",
              "  </tbody>\n",
              "</table>\n",
              "</div>"
            ],
            "text/plain": [
              "       status  card_present_flag  ... extraction_day_name extraction_hour\n",
              "0  authorized                1.0  ...           Wednesday               1\n",
              "1  authorized                0.0  ...           Wednesday               1\n",
              "2  authorized                1.0  ...           Wednesday               1\n",
              "\n",
              "[3 rows x 28 columns]"
            ]
          },
          "metadata": {},
          "execution_count": 71
        }
      ]
    },
    {
      "cell_type": "code",
      "source": [
        "df.loc[df['movement']=='debit']['amount'].mean()"
      ],
      "metadata": {
        "colab": {
          "base_uri": "https://localhost:8080/"
        },
        "id": "qDPJ6tuOaxG2",
        "outputId": "b757fa86-463a-4488-e133-407c623e18e1"
      },
      "execution_count": 76,
      "outputs": [
        {
          "output_type": "execute_result",
          "data": {
            "text/plain": [
              "52.57234318996403"
            ]
          },
          "metadata": {},
          "execution_count": 76
        }
      ]
    },
    {
      "cell_type": "code",
      "source": [
        "df.loc[df['movement']=='debit']['amount'].median()"
      ],
      "metadata": {
        "colab": {
          "base_uri": "https://localhost:8080/"
        },
        "id": "1QgsAKvha33y",
        "outputId": "f75963e1-579b-4719-8bd6-2e878ded99e6"
      },
      "execution_count": 77,
      "outputs": [
        {
          "output_type": "execute_result",
          "data": {
            "text/plain": [
              "26.93"
            ]
          },
          "metadata": {},
          "execution_count": 77
        }
      ]
    },
    {
      "cell_type": "code",
      "source": [
        "df.loc[df['movement']=='debit']['amount'].max()"
      ],
      "metadata": {
        "colab": {
          "base_uri": "https://localhost:8080/"
        },
        "id": "1j2OzSDMa8j2",
        "outputId": "b3699b8f-38ab-485f-bc4a-92f1590dfd2e"
      },
      "execution_count": 78,
      "outputs": [
        {
          "output_type": "execute_result",
          "data": {
            "text/plain": [
              "7081.09"
            ]
          },
          "metadata": {},
          "execution_count": 78
        }
      ]
    },
    {
      "cell_type": "code",
      "source": [
        "df.loc[df['movement']=='debit']['amount'].min()"
      ],
      "metadata": {
        "colab": {
          "base_uri": "https://localhost:8080/"
        },
        "id": "-DZh-uh7a_BZ",
        "outputId": "8fd8406b-e197-417f-e989-059e1f7d7064"
      },
      "execution_count": 79,
      "outputs": [
        {
          "output_type": "execute_result",
          "data": {
            "text/plain": [
              "0.1"
            ]
          },
          "metadata": {},
          "execution_count": 79
        }
      ]
    },
    {
      "cell_type": "code",
      "source": [
        "sns.boxplot(data=df, x='amount', y='movement')"
      ],
      "metadata": {
        "colab": {
          "base_uri": "https://localhost:8080/",
          "height": 297
        },
        "id": "h5hDwAYWbNlO",
        "outputId": "5b45c08f-f057-4ca5-919c-b142285aac2d"
      },
      "execution_count": 80,
      "outputs": [
        {
          "output_type": "execute_result",
          "data": {
            "text/plain": [
              "<matplotlib.axes._subplots.AxesSubplot at 0x7f513dda7b50>"
            ]
          },
          "metadata": {},
          "execution_count": 80
        },
        {
          "output_type": "display_data",
          "data": {
            "image/png": "[encoded data removed]",
            "text/plain": [
              "<Figure size 432x288 with 1 Axes>"
            ]
          },
          "metadata": {
            "needs_background": "light"
          }
        }
      ]
    },
    {
      "cell_type": "code",
      "source": [
        "sns.histplot(data=df, x='amount')"
      ],
      "metadata": {
        "colab": {
          "base_uri": "https://localhost:8080/",
          "height": 297
        },
        "id": "erifnfvSaUlK",
        "outputId": "626c943e-69a2-4bfe-c584-03675f6eb352"
      },
      "execution_count": 72,
      "outputs": [
        {
          "output_type": "execute_result",
          "data": {
            "text/plain": [
              "<matplotlib.axes._subplots.AxesSubplot at 0x7f5141d42dd0>"
            ]
          },
          "metadata": {},
          "execution_count": 72
        },
        {
          "output_type": "display_data",
          "data": {
            "image/png": "[encoded data removed]",
            "text/plain": [
              "<Figure size 432x288 with 1 Axes>"
            ]
          },
          "metadata": {
            "needs_background": "light"
          }
        }
      ]
    },
    {
      "cell_type": "code",
      "source": [
        "sns.histplot(data=df.loc[df['movement']=='debit'], x='amount')"
      ],
      "metadata": {
        "colab": {
          "base_uri": "https://localhost:8080/",
          "height": 297
        },
        "id": "iJX5ELBHajtG",
        "outputId": "92c22644-9d5a-4f5e-d411-1b6052997956"
      },
      "execution_count": 74,
      "outputs": [
        {
          "output_type": "execute_result",
          "data": {
            "text/plain": [
              "<matplotlib.axes._subplots.AxesSubplot at 0x7f51411c9650>"
            ]
          },
          "metadata": {},
          "execution_count": 74
        },
        {
          "output_type": "display_data",
          "data": {
            "image/png": "[encoded data removed]",
            "text/plain": [
              "<Figure size 432x288 with 1 Axes>"
            ]
          },
          "metadata": {
            "needs_background": "light"
          }
        }
      ]
    },
    {
      "cell_type": "code",
      "source": [
        "sns.histplot(data=df.loc[df['movement']=='credit'], x='amount')"
      ],
      "metadata": {
        "colab": {
          "base_uri": "https://localhost:8080/",
          "height": 297
        },
        "id": "xtevr_es9bVS",
        "outputId": "cf193320-459f-40b5-8813-40b9ff61662d"
      },
      "execution_count": 73,
      "outputs": [
        {
          "output_type": "execute_result",
          "data": {
            "text/plain": [
              "<matplotlib.axes._subplots.AxesSubplot at 0x7f513fd7b110>"
            ]
          },
          "metadata": {},
          "execution_count": 73
        },
        {
          "output_type": "display_data",
          "data": {
            "image/png": "[encoded data removed]",
            "text/plain": [
              "<Figure size 432x288 with 1 Axes>"
            ]
          },
          "metadata": {
            "needs_background": "light"
          }
        }
      ]
    },
    {
      "cell_type": "code",
      "source": [
        "df.loc[df['movement']=='credit']['amount'].mean()"
      ],
      "metadata": {
        "colab": {
          "base_uri": "https://localhost:8080/"
        },
        "id": "-E6QFec0bjPE",
        "outputId": "64337fbd-0ce5-47a0-cc53-2c904f956a70"
      },
      "execution_count": 83,
      "outputs": [
        {
          "output_type": "execute_result",
          "data": {
            "text/plain": [
              "1898.7280294450716"
            ]
          },
          "metadata": {},
          "execution_count": 83
        }
      ]
    },
    {
      "cell_type": "code",
      "source": [
        "df.loc[df['movement']=='credit']['amount'].median()"
      ],
      "metadata": {
        "colab": {
          "base_uri": "https://localhost:8080/"
        },
        "id": "FLQSArC6btyO",
        "outputId": "5e165336-92a7-4f39-a09e-411fe182fbf6"
      },
      "execution_count": 84,
      "outputs": [
        {
          "output_type": "execute_result",
          "data": {
            "text/plain": [
              "1626.48"
            ]
          },
          "metadata": {},
          "execution_count": 84
        }
      ]
    },
    {
      "cell_type": "code",
      "source": [
        "df.loc[df['movement']=='credit']['amount'].min()"
      ],
      "metadata": {
        "colab": {
          "base_uri": "https://localhost:8080/"
        },
        "id": "H8SVvSNMbvWf",
        "outputId": "377dc0e1-2162-4b80-fb4b-81fa2740ce60"
      },
      "execution_count": 85,
      "outputs": [
        {
          "output_type": "execute_result",
          "data": {
            "text/plain": [
              "576.0"
            ]
          },
          "metadata": {},
          "execution_count": 85
        }
      ]
    },
    {
      "cell_type": "code",
      "source": [
        "df.loc[df['movement']=='credit']['amount'].max()"
      ],
      "metadata": {
        "colab": {
          "base_uri": "https://localhost:8080/"
        },
        "id": "PL0zV-RWbxWE",
        "outputId": "1ca2e87c-4291-40b6-975c-0ee878190fd0"
      },
      "execution_count": 86,
      "outputs": [
        {
          "output_type": "execute_result",
          "data": {
            "text/plain": [
              "8835.98"
            ]
          },
          "metadata": {},
          "execution_count": 86
        }
      ]
    },
    {
      "cell_type": "code",
      "source": [
        "df_amount_values = df['amount'].value_counts().reset_index()\n",
        "df_amount_values.columns = ['amount', 'frequency']\n",
        "df_amount_values[df_amount_values['amount'].isin(df_amount_values['amount'].nlargest(10))].sort_values(by='amount', ascending=False)"
      ],
      "metadata": {
        "colab": {
          "base_uri": "https://localhost:8080/",
          "height": 363
        },
        "id": "p363zQE99ny2",
        "outputId": "d28a67d8-546c-4bdd-da63-32a82169d2a3"
      },
      "execution_count": null,
      "outputs": [
        {
          "output_type": "execute_result",
          "data": {
            "text/html": [
              "<div>\n",
              "<style scoped>\n",
              "    .dataframe tbody tr th:only-of-type {\n",
              "        vertical-align: middle;\n",
              "    }\n",
              "\n",
              "    .dataframe tbody tr th {\n",
              "        vertical-align: top;\n",
              "    }\n",
              "\n",
              "    .dataframe thead th {\n",
              "        text-align: right;\n",
              "    }\n",
              "</style>\n",
              "<table border=\"1\" class=\"dataframe\">\n",
              "  <thead>\n",
              "    <tr style=\"text-align: right;\">\n",
              "      <th></th>\n",
              "      <th>amount</th>\n",
              "      <th>frequency</th>\n",
              "    </tr>\n",
              "  </thead>\n",
              "  <tbody>\n",
              "    <tr>\n",
              "      <th>578</th>\n",
              "      <td>8835.98</td>\n",
              "      <td>4</td>\n",
              "    </tr>\n",
              "    <tr>\n",
              "      <th>2719</th>\n",
              "      <td>7081.09</td>\n",
              "      <td>1</td>\n",
              "    </tr>\n",
              "    <tr>\n",
              "      <th>1514</th>\n",
              "      <td>6107.23</td>\n",
              "      <td>2</td>\n",
              "    </tr>\n",
              "    <tr>\n",
              "      <th>1912</th>\n",
              "      <td>6024.49</td>\n",
              "      <td>2</td>\n",
              "    </tr>\n",
              "    <tr>\n",
              "      <th>401</th>\n",
              "      <td>5103.51</td>\n",
              "      <td>5</td>\n",
              "    </tr>\n",
              "    <tr>\n",
              "      <th>1821</th>\n",
              "      <td>4910.90</td>\n",
              "      <td>2</td>\n",
              "    </tr>\n",
              "    <tr>\n",
              "      <th>1271</th>\n",
              "      <td>4863.62</td>\n",
              "      <td>2</td>\n",
              "    </tr>\n",
              "    <tr>\n",
              "      <th>180</th>\n",
              "      <td>4405.30</td>\n",
              "      <td>7</td>\n",
              "    </tr>\n",
              "    <tr>\n",
              "      <th>2884</th>\n",
              "      <td>4233.00</td>\n",
              "      <td>1</td>\n",
              "    </tr>\n",
              "    <tr>\n",
              "      <th>146</th>\n",
              "      <td>4216.04</td>\n",
              "      <td>7</td>\n",
              "    </tr>\n",
              "  </tbody>\n",
              "</table>\n",
              "</div>"
            ],
            "text/plain": [
              "       amount  frequency\n",
              "578   8835.98          4\n",
              "2719  7081.09          1\n",
              "1514  6107.23          2\n",
              "1912  6024.49          2\n",
              "401   5103.51          5\n",
              "1821  4910.90          2\n",
              "1271  4863.62          2\n",
              "180   4405.30          7\n",
              "2884  4233.00          1\n",
              "146   4216.04          7"
            ]
          },
          "metadata": {},
          "execution_count": 52
        }
      ]
    },
    {
      "cell_type": "code",
      "source": [
        "df[df['amount'].isin(df['amount'].nlargest(10))]"
      ],
      "metadata": {
        "colab": {
          "base_uri": "https://localhost:8080/",
          "height": 786
        },
        "id": "79W7TCH_AI4H",
        "outputId": "9a9bb4fd-90bc-4f10-ed44-9a389ab08f0e"
      },
      "execution_count": null,
      "outputs": [
        {
          "output_type": "execute_result",
          "data": {
            "text/html": [
              "<div>\n",
              "<style scoped>\n",
              "    .dataframe tbody tr th:only-of-type {\n",
              "        vertical-align: middle;\n",
              "    }\n",
              "\n",
              "    .dataframe tbody tr th {\n",
              "        vertical-align: top;\n",
              "    }\n",
              "\n",
              "    .dataframe thead th {\n",
              "        text-align: right;\n",
              "    }\n",
              "</style>\n",
              "<table border=\"1\" class=\"dataframe\">\n",
              "  <thead>\n",
              "    <tr style=\"text-align: right;\">\n",
              "      <th></th>\n",
              "      <th>status</th>\n",
              "      <th>card_present_flag</th>\n",
              "      <th>bpay_biller_code</th>\n",
              "      <th>account</th>\n",
              "      <th>currency</th>\n",
              "      <th>long_lat</th>\n",
              "      <th>txn_description</th>\n",
              "      <th>merchant_id</th>\n",
              "      <th>merchant_code</th>\n",
              "      <th>first_name</th>\n",
              "      <th>balance</th>\n",
              "      <th>date</th>\n",
              "      <th>gender</th>\n",
              "      <th>age</th>\n",
              "      <th>merchant_suburb</th>\n",
              "      <th>merchant_state</th>\n",
              "      <th>extraction</th>\n",
              "      <th>amount</th>\n",
              "      <th>transaction_id</th>\n",
              "      <th>country</th>\n",
              "      <th>customer_id</th>\n",
              "      <th>merchant_long_lat</th>\n",
              "      <th>movement</th>\n",
              "      <th>extraction_date</th>\n",
              "      <th>extraction_month_name</th>\n",
              "      <th>extraction_year</th>\n",
              "      <th>extraction_day_name</th>\n",
              "      <th>extraction_hour</th>\n",
              "    </tr>\n",
              "  </thead>\n",
              "  <tbody>\n",
              "    <tr>\n",
              "      <th>833</th>\n",
              "      <td>posted</td>\n",
              "      <td>NaN</td>\n",
              "      <td>0</td>\n",
              "      <td>ACC-2673069055</td>\n",
              "      <td>AUD</td>\n",
              "      <td>152.99 -27.49</td>\n",
              "      <td>PAY/SALARY</td>\n",
              "      <td>NaN</td>\n",
              "      <td>0.0</td>\n",
              "      <td>Richard</td>\n",
              "      <td>17127.02</td>\n",
              "      <td>2018-08-07</td>\n",
              "      <td>M</td>\n",
              "      <td>24</td>\n",
              "      <td>NaN</td>\n",
              "      <td>NaN</td>\n",
              "      <td>2018-08-07 15:00:00+00:00</td>\n",
              "      <td>6024.49</td>\n",
              "      <td>b2fedeaf02a6485ba4cf3be69b56a80b</td>\n",
              "      <td>Australia</td>\n",
              "      <td>CUS-51506836</td>\n",
              "      <td>NaN</td>\n",
              "      <td>credit</td>\n",
              "      <td>2018-08-07</td>\n",
              "      <td>August</td>\n",
              "      <td>2018</td>\n",
              "      <td>Tuesday</td>\n",
              "      <td>15</td>\n",
              "    </tr>\n",
              "    <tr>\n",
              "      <th>1858</th>\n",
              "      <td>posted</td>\n",
              "      <td>NaN</td>\n",
              "      <td>0</td>\n",
              "      <td>ACC-354106658</td>\n",
              "      <td>AUD</td>\n",
              "      <td>151.04 -33.80</td>\n",
              "      <td>PAY/SALARY</td>\n",
              "      <td>NaN</td>\n",
              "      <td>0.0</td>\n",
              "      <td>Christine</td>\n",
              "      <td>8754.76</td>\n",
              "      <td>2018-08-15</td>\n",
              "      <td>F</td>\n",
              "      <td>39</td>\n",
              "      <td>NaN</td>\n",
              "      <td>NaN</td>\n",
              "      <td>2018-08-15 15:00:00+00:00</td>\n",
              "      <td>5103.51</td>\n",
              "      <td>41ce67e6c8a4474385fd1646963b6758</td>\n",
              "      <td>Australia</td>\n",
              "      <td>CUS-2376382098</td>\n",
              "      <td>NaN</td>\n",
              "      <td>credit</td>\n",
              "      <td>2018-08-15</td>\n",
              "      <td>August</td>\n",
              "      <td>2018</td>\n",
              "      <td>Wednesday</td>\n",
              "      <td>15</td>\n",
              "    </tr>\n",
              "    <tr>\n",
              "      <th>2401</th>\n",
              "      <td>posted</td>\n",
              "      <td>NaN</td>\n",
              "      <td>0</td>\n",
              "      <td>ACC-1523339231</td>\n",
              "      <td>AUD</td>\n",
              "      <td>115.83 -31.90</td>\n",
              "      <td>PAY/SALARY</td>\n",
              "      <td>NaN</td>\n",
              "      <td>0.0</td>\n",
              "      <td>Tim</td>\n",
              "      <td>62647.22</td>\n",
              "      <td>2018-08-20</td>\n",
              "      <td>M</td>\n",
              "      <td>40</td>\n",
              "      <td>NaN</td>\n",
              "      <td>NaN</td>\n",
              "      <td>2018-08-20 13:00:00+00:00</td>\n",
              "      <td>8835.98</td>\n",
              "      <td>b608ce5142664a79af4fa071a886c8f7</td>\n",
              "      <td>Australia</td>\n",
              "      <td>CUS-1816693151</td>\n",
              "      <td>NaN</td>\n",
              "      <td>credit</td>\n",
              "      <td>2018-08-20</td>\n",
              "      <td>August</td>\n",
              "      <td>2018</td>\n",
              "      <td>Monday</td>\n",
              "      <td>13</td>\n",
              "    </tr>\n",
              "    <tr>\n",
              "      <th>4822</th>\n",
              "      <td>posted</td>\n",
              "      <td>NaN</td>\n",
              "      <td>0</td>\n",
              "      <td>ACC-2673069055</td>\n",
              "      <td>AUD</td>\n",
              "      <td>152.99 -27.49</td>\n",
              "      <td>PAY/SALARY</td>\n",
              "      <td>NaN</td>\n",
              "      <td>0.0</td>\n",
              "      <td>Richard</td>\n",
              "      <td>21158.28</td>\n",
              "      <td>2018-09-07</td>\n",
              "      <td>M</td>\n",
              "      <td>24</td>\n",
              "      <td>NaN</td>\n",
              "      <td>NaN</td>\n",
              "      <td>2018-09-07 15:00:00+00:00</td>\n",
              "      <td>6024.49</td>\n",
              "      <td>2a20583ac7ce4bffa46624de2f94d5af</td>\n",
              "      <td>Australia</td>\n",
              "      <td>CUS-51506836</td>\n",
              "      <td>NaN</td>\n",
              "      <td>credit</td>\n",
              "      <td>2018-09-07</td>\n",
              "      <td>September</td>\n",
              "      <td>2018</td>\n",
              "      <td>Friday</td>\n",
              "      <td>15</td>\n",
              "    </tr>\n",
              "    <tr>\n",
              "      <th>5754</th>\n",
              "      <td>posted</td>\n",
              "      <td>NaN</td>\n",
              "      <td>0</td>\n",
              "      <td>ACC-354106658</td>\n",
              "      <td>AUD</td>\n",
              "      <td>151.04 -33.80</td>\n",
              "      <td>PAY/SALARY</td>\n",
              "      <td>NaN</td>\n",
              "      <td>0.0</td>\n",
              "      <td>Christine</td>\n",
              "      <td>10891.05</td>\n",
              "      <td>2018-09-14</td>\n",
              "      <td>F</td>\n",
              "      <td>39</td>\n",
              "      <td>NaN</td>\n",
              "      <td>NaN</td>\n",
              "      <td>2018-09-14 15:00:00+00:00</td>\n",
              "      <td>5103.51</td>\n",
              "      <td>188e04b6e00f44f3a43afbf232a6f5c3</td>\n",
              "      <td>Australia</td>\n",
              "      <td>CUS-2376382098</td>\n",
              "      <td>NaN</td>\n",
              "      <td>credit</td>\n",
              "      <td>2018-09-14</td>\n",
              "      <td>September</td>\n",
              "      <td>2018</td>\n",
              "      <td>Friday</td>\n",
              "      <td>15</td>\n",
              "    </tr>\n",
              "    <tr>\n",
              "      <th>5755</th>\n",
              "      <td>posted</td>\n",
              "      <td>NaN</td>\n",
              "      <td>0</td>\n",
              "      <td>ACC-354106658</td>\n",
              "      <td>AUD</td>\n",
              "      <td>151.04 -33.80</td>\n",
              "      <td>PAY/SALARY</td>\n",
              "      <td>NaN</td>\n",
              "      <td>0.0</td>\n",
              "      <td>Christine</td>\n",
              "      <td>15994.56</td>\n",
              "      <td>2018-09-14</td>\n",
              "      <td>F</td>\n",
              "      <td>39</td>\n",
              "      <td>NaN</td>\n",
              "      <td>NaN</td>\n",
              "      <td>2018-09-14 15:00:00+00:00</td>\n",
              "      <td>5103.51</td>\n",
              "      <td>7faf986ac5a341e3adfdb7030ec03f48</td>\n",
              "      <td>Australia</td>\n",
              "      <td>CUS-2376382098</td>\n",
              "      <td>NaN</td>\n",
              "      <td>credit</td>\n",
              "      <td>2018-09-14</td>\n",
              "      <td>September</td>\n",
              "      <td>2018</td>\n",
              "      <td>Friday</td>\n",
              "      <td>15</td>\n",
              "    </tr>\n",
              "    <tr>\n",
              "      <th>6529</th>\n",
              "      <td>posted</td>\n",
              "      <td>NaN</td>\n",
              "      <td>0</td>\n",
              "      <td>ACC-1523339231</td>\n",
              "      <td>AUD</td>\n",
              "      <td>115.83 -31.90</td>\n",
              "      <td>PAY/SALARY</td>\n",
              "      <td>NaN</td>\n",
              "      <td>0.0</td>\n",
              "      <td>Tim</td>\n",
              "      <td>70242.78</td>\n",
              "      <td>2018-09-20</td>\n",
              "      <td>M</td>\n",
              "      <td>40</td>\n",
              "      <td>NaN</td>\n",
              "      <td>NaN</td>\n",
              "      <td>2018-09-20 13:00:00+00:00</td>\n",
              "      <td>8835.98</td>\n",
              "      <td>854ded55d0034ac8b9e91e16334768ca</td>\n",
              "      <td>Australia</td>\n",
              "      <td>CUS-1816693151</td>\n",
              "      <td>NaN</td>\n",
              "      <td>credit</td>\n",
              "      <td>2018-09-20</td>\n",
              "      <td>September</td>\n",
              "      <td>2018</td>\n",
              "      <td>Thursday</td>\n",
              "      <td>13</td>\n",
              "    </tr>\n",
              "    <tr>\n",
              "      <th>7322</th>\n",
              "      <td>posted</td>\n",
              "      <td>NaN</td>\n",
              "      <td>0</td>\n",
              "      <td>ACC-3100725361</td>\n",
              "      <td>AUD</td>\n",
              "      <td>145.73 -17.03</td>\n",
              "      <td>PAY/SALARY</td>\n",
              "      <td>NaN</td>\n",
              "      <td>0.0</td>\n",
              "      <td>Ronald</td>\n",
              "      <td>6111.57</td>\n",
              "      <td>2018-09-26</td>\n",
              "      <td>M</td>\n",
              "      <td>25</td>\n",
              "      <td>NaN</td>\n",
              "      <td>NaN</td>\n",
              "      <td>2018-09-26 15:00:00+00:00</td>\n",
              "      <td>6107.23</td>\n",
              "      <td>7eb1fdb7aefb40d1a8ada1d27f556542</td>\n",
              "      <td>Australia</td>\n",
              "      <td>CUS-2178051368</td>\n",
              "      <td>NaN</td>\n",
              "      <td>credit</td>\n",
              "      <td>2018-09-26</td>\n",
              "      <td>September</td>\n",
              "      <td>2018</td>\n",
              "      <td>Wednesday</td>\n",
              "      <td>15</td>\n",
              "    </tr>\n",
              "    <tr>\n",
              "      <th>9902</th>\n",
              "      <td>posted</td>\n",
              "      <td>NaN</td>\n",
              "      <td>0</td>\n",
              "      <td>ACC-354106658</td>\n",
              "      <td>AUD</td>\n",
              "      <td>151.04 -33.80</td>\n",
              "      <td>PAY/SALARY</td>\n",
              "      <td>NaN</td>\n",
              "      <td>0.0</td>\n",
              "      <td>Christine</td>\n",
              "      <td>19032.03</td>\n",
              "      <td>2018-10-15</td>\n",
              "      <td>F</td>\n",
              "      <td>39</td>\n",
              "      <td>NaN</td>\n",
              "      <td>NaN</td>\n",
              "      <td>2018-10-15 15:00:00+00:00</td>\n",
              "      <td>5103.51</td>\n",
              "      <td>dfff2531d8434969b7f385d364772534</td>\n",
              "      <td>Australia</td>\n",
              "      <td>CUS-2376382098</td>\n",
              "      <td>NaN</td>\n",
              "      <td>credit</td>\n",
              "      <td>2018-10-15</td>\n",
              "      <td>October</td>\n",
              "      <td>2018</td>\n",
              "      <td>Monday</td>\n",
              "      <td>15</td>\n",
              "    </tr>\n",
              "    <tr>\n",
              "      <th>9903</th>\n",
              "      <td>posted</td>\n",
              "      <td>NaN</td>\n",
              "      <td>0</td>\n",
              "      <td>ACC-354106658</td>\n",
              "      <td>AUD</td>\n",
              "      <td>151.04 -33.80</td>\n",
              "      <td>PAY/SALARY</td>\n",
              "      <td>NaN</td>\n",
              "      <td>0.0</td>\n",
              "      <td>Christine</td>\n",
              "      <td>24135.54</td>\n",
              "      <td>2018-10-15</td>\n",
              "      <td>F</td>\n",
              "      <td>39</td>\n",
              "      <td>NaN</td>\n",
              "      <td>NaN</td>\n",
              "      <td>2018-10-15 15:00:00+00:00</td>\n",
              "      <td>5103.51</td>\n",
              "      <td>e4e7f0dd7c504c45990277dad7a8a86c</td>\n",
              "      <td>Australia</td>\n",
              "      <td>CUS-2376382098</td>\n",
              "      <td>NaN</td>\n",
              "      <td>credit</td>\n",
              "      <td>2018-10-15</td>\n",
              "      <td>October</td>\n",
              "      <td>2018</td>\n",
              "      <td>Monday</td>\n",
              "      <td>15</td>\n",
              "    </tr>\n",
              "    <tr>\n",
              "      <th>10429</th>\n",
              "      <td>posted</td>\n",
              "      <td>NaN</td>\n",
              "      <td>0</td>\n",
              "      <td>ACC-1523339231</td>\n",
              "      <td>AUD</td>\n",
              "      <td>115.83 -31.90</td>\n",
              "      <td>PAY/SALARY</td>\n",
              "      <td>NaN</td>\n",
              "      <td>0.0</td>\n",
              "      <td>Tim</td>\n",
              "      <td>77054.31</td>\n",
              "      <td>2018-10-19</td>\n",
              "      <td>M</td>\n",
              "      <td>40</td>\n",
              "      <td>NaN</td>\n",
              "      <td>NaN</td>\n",
              "      <td>2018-10-19 13:00:00+00:00</td>\n",
              "      <td>8835.98</td>\n",
              "      <td>873a3f11d03d41a99c55a5b1a3850e1a</td>\n",
              "      <td>Australia</td>\n",
              "      <td>CUS-1816693151</td>\n",
              "      <td>NaN</td>\n",
              "      <td>credit</td>\n",
              "      <td>2018-10-19</td>\n",
              "      <td>October</td>\n",
              "      <td>2018</td>\n",
              "      <td>Friday</td>\n",
              "      <td>13</td>\n",
              "    </tr>\n",
              "    <tr>\n",
              "      <th>10430</th>\n",
              "      <td>posted</td>\n",
              "      <td>NaN</td>\n",
              "      <td>0</td>\n",
              "      <td>ACC-1523339231</td>\n",
              "      <td>AUD</td>\n",
              "      <td>115.83 -31.90</td>\n",
              "      <td>PAY/SALARY</td>\n",
              "      <td>NaN</td>\n",
              "      <td>0.0</td>\n",
              "      <td>Tim</td>\n",
              "      <td>85890.29</td>\n",
              "      <td>2018-10-19</td>\n",
              "      <td>M</td>\n",
              "      <td>40</td>\n",
              "      <td>NaN</td>\n",
              "      <td>NaN</td>\n",
              "      <td>2018-10-19 13:00:00+00:00</td>\n",
              "      <td>8835.98</td>\n",
              "      <td>d996300131a641c8bf25f86e1aef9bc6</td>\n",
              "      <td>Australia</td>\n",
              "      <td>CUS-1816693151</td>\n",
              "      <td>NaN</td>\n",
              "      <td>credit</td>\n",
              "      <td>2018-10-19</td>\n",
              "      <td>October</td>\n",
              "      <td>2018</td>\n",
              "      <td>Friday</td>\n",
              "      <td>13</td>\n",
              "    </tr>\n",
              "    <tr>\n",
              "      <th>10711</th>\n",
              "      <td>authorized</td>\n",
              "      <td>1.0</td>\n",
              "      <td>NaN</td>\n",
              "      <td>ACC-819621312</td>\n",
              "      <td>AUD</td>\n",
              "      <td>145.04 -37.85</td>\n",
              "      <td>POS</td>\n",
              "      <td>af835ef4-60b7-4283-9d9a-5d0a8ab9cd6f</td>\n",
              "      <td>NaN</td>\n",
              "      <td>Michele</td>\n",
              "      <td>2063.14</td>\n",
              "      <td>2018-10-21</td>\n",
              "      <td>F</td>\n",
              "      <td>30</td>\n",
              "      <td>South Brisbane</td>\n",
              "      <td>QLD</td>\n",
              "      <td>2018-10-21 14:49:45+00:00</td>\n",
              "      <td>7081.09</td>\n",
              "      <td>2a882afd1d1c4eb28c3b5ccba14e240d</td>\n",
              "      <td>Australia</td>\n",
              "      <td>CUS-1271030853</td>\n",
              "      <td>153.02 -27.48</td>\n",
              "      <td>debit</td>\n",
              "      <td>2018-10-21</td>\n",
              "      <td>October</td>\n",
              "      <td>2018</td>\n",
              "      <td>Sunday</td>\n",
              "      <td>14</td>\n",
              "    </tr>\n",
              "    <tr>\n",
              "      <th>11360</th>\n",
              "      <td>posted</td>\n",
              "      <td>NaN</td>\n",
              "      <td>0</td>\n",
              "      <td>ACC-3100725361</td>\n",
              "      <td>AUD</td>\n",
              "      <td>145.73 -17.03</td>\n",
              "      <td>PAY/SALARY</td>\n",
              "      <td>NaN</td>\n",
              "      <td>0.0</td>\n",
              "      <td>Ronald</td>\n",
              "      <td>10753.02</td>\n",
              "      <td>2018-10-26</td>\n",
              "      <td>M</td>\n",
              "      <td>25</td>\n",
              "      <td>NaN</td>\n",
              "      <td>NaN</td>\n",
              "      <td>2018-10-26 15:00:00+00:00</td>\n",
              "      <td>6107.23</td>\n",
              "      <td>56e1a0f55f354624a3c713c37415d216</td>\n",
              "      <td>Australia</td>\n",
              "      <td>CUS-2178051368</td>\n",
              "      <td>NaN</td>\n",
              "      <td>credit</td>\n",
              "      <td>2018-10-26</td>\n",
              "      <td>October</td>\n",
              "      <td>2018</td>\n",
              "      <td>Friday</td>\n",
              "      <td>15</td>\n",
              "    </tr>\n",
              "  </tbody>\n",
              "</table>\n",
              "</div>"
            ],
            "text/plain": [
              "           status  card_present_flag  ... extraction_day_name extraction_hour\n",
              "833        posted                NaN  ...             Tuesday              15\n",
              "1858       posted                NaN  ...           Wednesday              15\n",
              "2401       posted                NaN  ...              Monday              13\n",
              "4822       posted                NaN  ...              Friday              15\n",
              "5754       posted                NaN  ...              Friday              15\n",
              "5755       posted                NaN  ...              Friday              15\n",
              "6529       posted                NaN  ...            Thursday              13\n",
              "7322       posted                NaN  ...           Wednesday              15\n",
              "9902       posted                NaN  ...              Monday              15\n",
              "9903       posted                NaN  ...              Monday              15\n",
              "10429      posted                NaN  ...              Friday              13\n",
              "10430      posted                NaN  ...              Friday              13\n",
              "10711  authorized                1.0  ...              Sunday              14\n",
              "11360      posted                NaN  ...              Friday              15\n",
              "\n",
              "[14 rows x 28 columns]"
            ]
          },
          "metadata": {},
          "execution_count": 53
        }
      ]
    },
    {
      "cell_type": "code",
      "source": [
        "df['transaction_id'].nunique()"
      ],
      "metadata": {
        "colab": {
          "base_uri": "https://localhost:8080/"
        },
        "id": "PfyP9mj7bmNU",
        "outputId": "4f474219-b175-4fcb-a040-7088706be447"
      },
      "execution_count": null,
      "outputs": [
        {
          "output_type": "execute_result",
          "data": {
            "text/plain": [
              "12043"
            ]
          },
          "metadata": {},
          "execution_count": 54
        }
      ]
    },
    {
      "cell_type": "code",
      "source": [
        "df['country'].unique()"
      ],
      "metadata": {
        "colab": {
          "base_uri": "https://localhost:8080/"
        },
        "id": "qGpey3wBbqHZ",
        "outputId": "de180092-d6bc-4c70-b624-6e0f694fdd87"
      },
      "execution_count": null,
      "outputs": [
        {
          "output_type": "execute_result",
          "data": {
            "text/plain": [
              "array(['Australia'], dtype=object)"
            ]
          },
          "metadata": {},
          "execution_count": 55
        }
      ]
    },
    {
      "cell_type": "code",
      "source": [
        "df['customer_id'].nunique()"
      ],
      "metadata": {
        "colab": {
          "base_uri": "https://localhost:8080/"
        },
        "id": "fa6Vrrtebtqo",
        "outputId": "47e99b65-8427-44d4-cada-316f9226e160"
      },
      "execution_count": null,
      "outputs": [
        {
          "output_type": "execute_result",
          "data": {
            "text/plain": [
              "100"
            ]
          },
          "metadata": {},
          "execution_count": 56
        }
      ]
    },
    {
      "cell_type": "code",
      "source": [
        "df['customer_id'].value_counts()"
      ],
      "metadata": {
        "colab": {
          "base_uri": "https://localhost:8080/"
        },
        "id": "I6Zzg5jnH_n1",
        "outputId": "7cc9b413-c812-450e-f1e2-c8fe2c5c590e"
      },
      "execution_count": null,
      "outputs": [
        {
          "output_type": "execute_result",
          "data": {
            "text/plain": [
              "CUS-2487424745    578\n",
              "CUS-2142601169    303\n",
              "CUS-3026014945    292\n",
              "CUS-3378712515    260\n",
              "CUS-1614226872    259\n",
              "                 ... \n",
              "CUS-3395687666     40\n",
              "CUS-3201519139     37\n",
              "CUS-1646183815     34\n",
              "CUS-495599312      31\n",
              "CUS-1739931018     25\n",
              "Name: customer_id, Length: 100, dtype: int64"
            ]
          },
          "metadata": {},
          "execution_count": 57
        }
      ]
    },
    {
      "cell_type": "code",
      "source": [
        "df_customer_id_values = df['customer_id'].value_counts()\n",
        "df_customer_id_values = df_customer_id_values.reset_index()\n",
        "df_customer_id_values.columns = ['customer_id', 'values_count']\n",
        "# df_long_lat_values.head()\n",
        "sns.histplot(data=df_customer_id_values, x='values_count')\n"
      ],
      "metadata": {
        "colab": {
          "base_uri": "https://localhost:8080/",
          "height": 301
        },
        "id": "xM6vD-0QIGfT",
        "outputId": "4aa53da8-ef74-42b1-b5ad-b6d0c06ff8a3"
      },
      "execution_count": null,
      "outputs": [
        {
          "output_type": "execute_result",
          "data": {
            "text/plain": [
              "<matplotlib.axes._subplots.AxesSubplot at 0x7f514d729490>"
            ]
          },
          "metadata": {},
          "execution_count": 58
        },
        {
          "output_type": "display_data",
          "data": {
            "image/png": "[encoded data removed]",
            "text/plain": [
              "<Figure size 432x288 with 1 Axes>"
            ]
          },
          "metadata": {
            "needs_background": "light"
          }
        }
      ]
    },
    {
      "cell_type": "code",
      "source": [
        "df['merchant_long_lat'].nunique()"
      ],
      "metadata": {
        "colab": {
          "base_uri": "https://localhost:8080/"
        },
        "id": "c0IVmWufbymy",
        "outputId": "d57c3939-07dc-4809-8894-7db0939e01c1"
      },
      "execution_count": null,
      "outputs": [
        {
          "output_type": "execute_result",
          "data": {
            "text/plain": [
              "2703"
            ]
          },
          "metadata": {},
          "execution_count": 59
        }
      ]
    },
    {
      "cell_type": "code",
      "source": [
        "df_merchant_long_lat_values = df['merchant_long_lat'].value_counts()\n",
        "df_merchant_long_lat_values = df_merchant_long_lat_values.reset_index()\n",
        "df_merchant_long_lat_values.columns = ['merchant_long_lat', 'values_count']\n",
        "# df_long_lat_values.head()\n",
        "sns.histplot(data=df_merchant_long_lat_values, x='values_count')"
      ],
      "metadata": {
        "colab": {
          "base_uri": "https://localhost:8080/",
          "height": 297
        },
        "id": "qYe8UdfbIgWF",
        "outputId": "09cc9714-14a1-4487-c3f0-672e65743d2d"
      },
      "execution_count": null,
      "outputs": [
        {
          "output_type": "execute_result",
          "data": {
            "text/plain": [
              "<matplotlib.axes._subplots.AxesSubplot at 0x7f514d14f0d0>"
            ]
          },
          "metadata": {},
          "execution_count": 60
        },
        {
          "output_type": "display_data",
          "data": {
            "image/png": "[encoded data removed]",
            "text/plain": [
              "<Figure size 432x288 with 1 Axes>"
            ]
          },
          "metadata": {
            "needs_background": "light"
          }
        }
      ]
    },
    {
      "cell_type": "code",
      "source": [
        "df['merchant_long_lat'].value_counts()"
      ],
      "metadata": {
        "colab": {
          "base_uri": "https://localhost:8080/"
        },
        "id": "X6Vlz8m-IknW",
        "outputId": "c6ff5a11-8a6b-48ec-8e65-c874fcff4eca"
      },
      "execution_count": null,
      "outputs": [
        {
          "output_type": "execute_result",
          "data": {
            "text/plain": [
              "151.21 -33.87    145\n",
              "144.96 -37.82     85\n",
              "144.97 -37.81     59\n",
              "144.96 -37.81     56\n",
              "153.02 -27.47     46\n",
              "                ... \n",
              "151 -33.73         1\n",
              "151.7 -32.77       1\n",
              "151.15 -34.05      1\n",
              "150.9 -33.77       1\n",
              "138.82 -34.44      1\n",
              "Name: merchant_long_lat, Length: 2703, dtype: int64"
            ]
          },
          "metadata": {},
          "execution_count": 61
        }
      ]
    },
    {
      "cell_type": "code",
      "source": [
        "df['movement'].unique()"
      ],
      "metadata": {
        "colab": {
          "base_uri": "https://localhost:8080/"
        },
        "id": "XvqeO9b5b6Pu",
        "outputId": "fc1c20c2-822d-447f-dd01-102731d3c4cf"
      },
      "execution_count": null,
      "outputs": [
        {
          "output_type": "execute_result",
          "data": {
            "text/plain": [
              "array(['debit', 'credit'], dtype=object)"
            ]
          },
          "metadata": {},
          "execution_count": 62
        }
      ]
    },
    {
      "cell_type": "code",
      "source": [
        "sns.catplot(data=df, x='movement', kind='count')"
      ],
      "metadata": {
        "colab": {
          "base_uri": "https://localhost:8080/",
          "height": 387
        },
        "id": "ZtIMpoHZJtbm",
        "outputId": "afb67fd0-4244-4c3f-e063-b06b9e6ae0ab"
      },
      "execution_count": null,
      "outputs": [
        {
          "output_type": "execute_result",
          "data": {
            "text/plain": [
              "<seaborn.axisgrid.FacetGrid at 0x7f514c4b6590>"
            ]
          },
          "metadata": {},
          "execution_count": 63
        },
        {
          "output_type": "display_data",
          "data": {
            "image/png": "[encoded data removed]",
            "text/plain": [
              "<Figure size 360x360 with 1 Axes>"
            ]
          },
          "metadata": {
            "needs_background": "light"
          }
        }
      ]
    },
    {
      "cell_type": "markdown",
      "source": [
        "Things to calculate:\n",
        "\n",
        "- Average transaction amount\n",
        "- Average transaction count per customer\n",
        "- Chart of transaction per day of week\n",
        "- Insights from location information"
      ],
      "metadata": {
        "id": "JvNmqVSyUu1G"
      }
    },
    {
      "cell_type": "code",
      "source": [
        "df.groupby(['movement', 'txn_description'])['amount'].mean()"
      ],
      "metadata": {
        "colab": {
          "base_uri": "https://localhost:8080/"
        },
        "id": "D2FPFW-qVPun",
        "outputId": "ef140631-02b1-4b15-97e2-a424cb024de5"
      },
      "execution_count": 87,
      "outputs": [
        {
          "output_type": "execute_result",
          "data": {
            "text/plain": [
              "movement  txn_description\n",
              "credit    PAY/SALARY         1898.728029\n",
              "debit     INTER BANK           86.699461\n",
              "          PAYMENT              77.613077\n",
              "          PHONE BANK          106.099010\n",
              "          POS                  40.407412\n",
              "          SALES-POS            39.909789\n",
              "Name: amount, dtype: float64"
            ]
          },
          "metadata": {},
          "execution_count": 87
        }
      ]
    },
    {
      "cell_type": "code",
      "source": [
        "df.groupby(['movement', 'txn_description'])['amount'].median()"
      ],
      "metadata": {
        "colab": {
          "base_uri": "https://localhost:8080/"
        },
        "id": "5T1ix9WUcIC2",
        "outputId": "d27fa994-4835-4b7a-e9cd-b8cfdb54a397"
      },
      "execution_count": 88,
      "outputs": [
        {
          "output_type": "execute_result",
          "data": {
            "text/plain": [
              "movement  txn_description\n",
              "credit    PAY/SALARY         1626.480\n",
              "debit     INTER BANK           39.000\n",
              "          PAYMENT              42.500\n",
              "          PHONE BANK           43.000\n",
              "          POS                  19.430\n",
              "          SALES-POS            20.035\n",
              "Name: amount, dtype: float64"
            ]
          },
          "metadata": {},
          "execution_count": 88
        }
      ]
    },
    {
      "cell_type": "code",
      "source": [
        "df_average_count = df.groupby(['account', 'movement'])['amount'].count().reset_index()\n",
        "df_average_count.head(4)"
      ],
      "metadata": {
        "colab": {
          "base_uri": "https://localhost:8080/",
          "height": 175
        },
        "id": "bEDfxntwcVib",
        "outputId": "6fad9d6a-4669-478a-b179-b80a4ae638f3"
      },
      "execution_count": 94,
      "outputs": [
        {
          "output_type": "execute_result",
          "data": {
            "text/html": [
              "<div>\n",
              "<style scoped>\n",
              "    .dataframe tbody tr th:only-of-type {\n",
              "        vertical-align: middle;\n",
              "    }\n",
              "\n",
              "    .dataframe tbody tr th {\n",
              "        vertical-align: top;\n",
              "    }\n",
              "\n",
              "    .dataframe thead th {\n",
              "        text-align: right;\n",
              "    }\n",
              "</style>\n",
              "<table border=\"1\" class=\"dataframe\">\n",
              "  <thead>\n",
              "    <tr style=\"text-align: right;\">\n",
              "      <th></th>\n",
              "      <th>account</th>\n",
              "      <th>movement</th>\n",
              "      <th>amount</th>\n",
              "    </tr>\n",
              "  </thead>\n",
              "  <tbody>\n",
              "    <tr>\n",
              "      <th>0</th>\n",
              "      <td>ACC-1037050564</td>\n",
              "      <td>credit</td>\n",
              "      <td>13</td>\n",
              "    </tr>\n",
              "    <tr>\n",
              "      <th>1</th>\n",
              "      <td>ACC-1037050564</td>\n",
              "      <td>debit</td>\n",
              "      <td>246</td>\n",
              "    </tr>\n",
              "    <tr>\n",
              "      <th>2</th>\n",
              "      <td>ACC-1056639002</td>\n",
              "      <td>credit</td>\n",
              "      <td>6</td>\n",
              "    </tr>\n",
              "    <tr>\n",
              "      <th>3</th>\n",
              "      <td>ACC-1056639002</td>\n",
              "      <td>debit</td>\n",
              "      <td>80</td>\n",
              "    </tr>\n",
              "  </tbody>\n",
              "</table>\n",
              "</div>"
            ],
            "text/plain": [
              "          account movement  amount\n",
              "0  ACC-1037050564   credit      13\n",
              "1  ACC-1037050564    debit     246\n",
              "2  ACC-1056639002   credit       6\n",
              "3  ACC-1056639002    debit      80"
            ]
          },
          "metadata": {},
          "execution_count": 94
        }
      ]
    },
    {
      "cell_type": "code",
      "source": [
        "sns.boxplot(data=df_average_count, x='movement', y='amount')"
      ],
      "metadata": {
        "colab": {
          "base_uri": "https://localhost:8080/",
          "height": 297
        },
        "id": "RhXLQ5mZdTLl",
        "outputId": "7867e451-4918-420a-994d-1a77a5daf6bf"
      },
      "execution_count": 95,
      "outputs": [
        {
          "output_type": "execute_result",
          "data": {
            "text/plain": [
              "<matplotlib.axes._subplots.AxesSubplot at 0x7f513ef77350>"
            ]
          },
          "metadata": {},
          "execution_count": 95
        },
        {
          "output_type": "display_data",
          "data": {
            "image/png": "[encoded data removed]",
            "text/plain": [
              "<Figure size 432x288 with 1 Axes>"
            ]
          },
          "metadata": {
            "needs_background": "light"
          }
        }
      ]
    },
    {
      "cell_type": "code",
      "source": [
        "df_average_count.loc[df_average_count['movement']=='debit'].mean()"
      ],
      "metadata": {
        "colab": {
          "base_uri": "https://localhost:8080/"
        },
        "id": "eFns_0QidyM5",
        "outputId": "0aa1ccd0-97af-437d-f46c-db545d3b51db"
      },
      "execution_count": 96,
      "outputs": [
        {
          "output_type": "execute_result",
          "data": {
            "text/plain": [
              "amount    111.6\n",
              "dtype: float64"
            ]
          },
          "metadata": {},
          "execution_count": 96
        }
      ]
    },
    {
      "cell_type": "code",
      "source": [
        "df_average_count.loc[df_average_count['movement']=='debit'].median()"
      ],
      "metadata": {
        "colab": {
          "base_uri": "https://localhost:8080/"
        },
        "id": "lxC0KudqeA8c",
        "outputId": "e86102ba-888f-439f-d63f-c684e4961f5b"
      },
      "execution_count": 97,
      "outputs": [
        {
          "output_type": "execute_result",
          "data": {
            "text/plain": [
              "amount    96.5\n",
              "dtype: float64"
            ]
          },
          "metadata": {},
          "execution_count": 97
        }
      ]
    },
    {
      "cell_type": "code",
      "source": [
        "df_average_count.loc[df_average_count['movement']=='debit'].min()"
      ],
      "metadata": {
        "colab": {
          "base_uri": "https://localhost:8080/"
        },
        "id": "eWJhClzReDtY",
        "outputId": "450bff5b-d22e-4e1d-d90b-1a2ec5ac60e3"
      },
      "execution_count": 98,
      "outputs": [
        {
          "output_type": "execute_result",
          "data": {
            "text/plain": [
              "account     ACC-1037050564\n",
              "movement             debit\n",
              "amount                  22\n",
              "dtype: object"
            ]
          },
          "metadata": {},
          "execution_count": 98
        }
      ]
    },
    {
      "cell_type": "code",
      "source": [
        "df_average_count.loc[df_average_count['movement']=='debit'].max()"
      ],
      "metadata": {
        "colab": {
          "base_uri": "https://localhost:8080/"
        },
        "id": "nvkY9wJXeLhI",
        "outputId": "281299fc-935c-4e03-9fa2-09714b3e16e9"
      },
      "execution_count": 99,
      "outputs": [
        {
          "output_type": "execute_result",
          "data": {
            "text/plain": [
              "account     ACC-966140392\n",
              "movement            debit\n",
              "amount                564\n",
              "dtype: object"
            ]
          },
          "metadata": {},
          "execution_count": 99
        }
      ]
    },
    {
      "cell_type": "code",
      "source": [
        "df_average_count.loc[df_average_count['movement']=='credit'].mean()"
      ],
      "metadata": {
        "colab": {
          "base_uri": "https://localhost:8080/"
        },
        "id": "TNDKQHvFeOs8",
        "outputId": "aaff48cc-506e-4594-afcb-f11933bae889"
      },
      "execution_count": 100,
      "outputs": [
        {
          "output_type": "execute_result",
          "data": {
            "text/plain": [
              "amount    8.83\n",
              "dtype: float64"
            ]
          },
          "metadata": {},
          "execution_count": 100
        }
      ]
    },
    {
      "cell_type": "code",
      "source": [
        "df_average_count.loc[df_average_count['movement']=='credit'].median()"
      ],
      "metadata": {
        "colab": {
          "base_uri": "https://localhost:8080/"
        },
        "id": "s4aPGgqQeSSG",
        "outputId": "0dd382c4-1e8c-4d72-8c05-3f5d7c5ff1ec"
      },
      "execution_count": 101,
      "outputs": [
        {
          "output_type": "execute_result",
          "data": {
            "text/plain": [
              "amount    7.0\n",
              "dtype: float64"
            ]
          },
          "metadata": {},
          "execution_count": 101
        }
      ]
    },
    {
      "cell_type": "code",
      "source": [
        "df_average_count.loc[df_average_count['movement']=='credit'].max()"
      ],
      "metadata": {
        "colab": {
          "base_uri": "https://localhost:8080/"
        },
        "id": "NKimNG0_eULI",
        "outputId": "9c4e74e7-7921-49c6-f97e-4660ea48af80"
      },
      "execution_count": 102,
      "outputs": [
        {
          "output_type": "execute_result",
          "data": {
            "text/plain": [
              "account     ACC-966140392\n",
              "movement           credit\n",
              "amount                 14\n",
              "dtype: object"
            ]
          },
          "metadata": {},
          "execution_count": 102
        }
      ]
    },
    {
      "cell_type": "code",
      "source": [
        "df_average_count.loc[df_average_count['movement']=='credit'].min()"
      ],
      "metadata": {
        "colab": {
          "base_uri": "https://localhost:8080/"
        },
        "id": "xkF_oxZNeVp6",
        "outputId": "a8b7c65b-7ab7-4f5f-9f20-c8196f8704a9"
      },
      "execution_count": 103,
      "outputs": [
        {
          "output_type": "execute_result",
          "data": {
            "text/plain": [
              "account     ACC-1037050564\n",
              "movement            credit\n",
              "amount                   2\n",
              "dtype: object"
            ]
          },
          "metadata": {},
          "execution_count": 103
        }
      ]
    },
    {
      "cell_type": "code",
      "source": [
        "df.columns"
      ],
      "metadata": {
        "colab": {
          "base_uri": "https://localhost:8080/"
        },
        "id": "qKmXXJhzfICg",
        "outputId": "f0bee2ca-4426-4912-9aa6-0705b4a257dc"
      },
      "execution_count": 104,
      "outputs": [
        {
          "output_type": "execute_result",
          "data": {
            "text/plain": [
              "Index(['status', 'card_present_flag', 'bpay_biller_code', 'account',\n",
              "       'currency', 'long_lat', 'txn_description', 'merchant_id',\n",
              "       'merchant_code', 'first_name', 'balance', 'date', 'gender', 'age',\n",
              "       'merchant_suburb', 'merchant_state', 'extraction', 'amount',\n",
              "       'transaction_id', 'country', 'customer_id', 'merchant_long_lat',\n",
              "       'movement', 'extraction_date', 'extraction_month_name',\n",
              "       'extraction_year', 'extraction_day_name', 'extraction_hour'],\n",
              "      dtype='object')"
            ]
          },
          "metadata": {},
          "execution_count": 104
        }
      ]
    },
    {
      "cell_type": "code",
      "source": [
        "# df['extraction_day_name'].value_counts()\n",
        "sns.catplot(data=df, y='extraction_day_name', kind='count', order=df['extraction_day_name'].value_counts().index)"
      ],
      "metadata": {
        "colab": {
          "base_uri": "https://localhost:8080/",
          "height": 387
        },
        "id": "lj07rFHce2lZ",
        "outputId": "e6344783-5429-400b-95a9-66b1fa346038"
      },
      "execution_count": 108,
      "outputs": [
        {
          "output_type": "execute_result",
          "data": {
            "text/plain": [
              "<seaborn.axisgrid.FacetGrid at 0x7f513d9d8690>"
            ]
          },
          "metadata": {},
          "execution_count": 108
        },
        {
          "output_type": "display_data",
          "data": {
            "image/png": "[encoded data removed]",
            "text/plain": [
              "<Figure size 360x360 with 1 Axes>"
            ]
          },
          "metadata": {
            "needs_background": "light"
          }
        }
      ]
    },
    {
      "cell_type": "code",
      "source": [
        "# df['extraction_day_name'].value_counts()\n",
        "sns.catplot(data=df.loc[df['movement']=='debit'], y='extraction_day_name', kind='count', order=df['extraction_day_name'].value_counts().index)"
      ],
      "metadata": {
        "colab": {
          "base_uri": "https://localhost:8080/",
          "height": 387
        },
        "id": "EO8xdRazfmfx",
        "outputId": "5f63af90-f4bd-44d5-cbb4-984bbf3650cd"
      },
      "execution_count": 109,
      "outputs": [
        {
          "output_type": "execute_result",
          "data": {
            "text/plain": [
              "<seaborn.axisgrid.FacetGrid at 0x7f513d9965d0>"
            ]
          },
          "metadata": {},
          "execution_count": 109
        },
        {
          "output_type": "display_data",
          "data": {
            "image/png": "[encoded data removed]",
            "text/plain": [
              "<Figure size 360x360 with 1 Axes>"
            ]
          },
          "metadata": {
            "needs_background": "light"
          }
        }
      ]
    },
    {
      "cell_type": "code",
      "source": [
        "sns.catplot(data=df.loc[df['movement']=='credit'], y='extraction_day_name', kind='count', order=df['extraction_day_name'].value_counts().index)"
      ],
      "metadata": {
        "colab": {
          "base_uri": "https://localhost:8080/",
          "height": 387
        },
        "id": "8NCWzbMnfwhF",
        "outputId": "76bd6d42-699a-4832-ded2-795a4c18ce5f"
      },
      "execution_count": 110,
      "outputs": [
        {
          "output_type": "execute_result",
          "data": {
            "text/plain": [
              "<seaborn.axisgrid.FacetGrid at 0x7f513d8b9850>"
            ]
          },
          "metadata": {},
          "execution_count": 110
        },
        {
          "output_type": "display_data",
          "data": {
            "image/png": "[encoded data removed]",
            "text/plain": [
              "<Figure size 360x360 with 1 Axes>"
            ]
          },
          "metadata": {
            "needs_background": "light"
          }
        }
      ]
    },
    {
      "cell_type": "code",
      "source": [
        "sns.catplot(data=df.loc[df['movement']=='credit'], y='txn_description', kind='count')"
      ],
      "metadata": {
        "colab": {
          "base_uri": "https://localhost:8080/",
          "height": 387
        },
        "id": "CaJAOXekgLIO",
        "outputId": "4090abd8-084d-465a-efc1-a6b0dbc65bc6"
      },
      "execution_count": 111,
      "outputs": [
        {
          "output_type": "execute_result",
          "data": {
            "text/plain": [
              "<seaborn.axisgrid.FacetGrid at 0x7f513d8f6710>"
            ]
          },
          "metadata": {},
          "execution_count": 111
        },
        {
          "output_type": "display_data",
          "data": {
            "image/png": "[encoded data removed]",
            "text/plain": [
              "<Figure size 360x360 with 1 Axes>"
            ]
          },
          "metadata": {
            "needs_background": "light"
          }
        }
      ]
    },
    {
      "cell_type": "code",
      "source": [
        "sns.catplot(data=df.loc[df['movement']=='debit'], y='txn_description', kind='count', order=df['txn_description'].value_counts().index)"
      ],
      "metadata": {
        "colab": {
          "base_uri": "https://localhost:8080/",
          "height": 387
        },
        "id": "k2ymlIN_gWTq",
        "outputId": "9949409a-0c25-445c-a8d7-34bd44fb0333"
      },
      "execution_count": 114,
      "outputs": [
        {
          "output_type": "execute_result",
          "data": {
            "text/plain": [
              "<seaborn.axisgrid.FacetGrid at 0x7f513d78fe50>"
            ]
          },
          "metadata": {},
          "execution_count": 114
        },
        {
          "output_type": "display_data",
          "data": {
            "image/png": "[encoded data removed]",
            "text/plain": [
              "<Figure size 360x360 with 1 Axes>"
            ]
          },
          "metadata": {
            "needs_background": "light"
          }
        }
      ]
    },
    {
      "cell_type": "code",
      "source": [
        "sns.catplot(data=df.loc[df['movement']=='debit'], y='gender', kind='count')"
      ],
      "metadata": {
        "colab": {
          "base_uri": "https://localhost:8080/",
          "height": 387
        },
        "id": "A9dgixvugzFx",
        "outputId": "2faa99d4-8b08-4c7a-c6ec-737558222606"
      },
      "execution_count": 115,
      "outputs": [
        {
          "output_type": "execute_result",
          "data": {
            "text/plain": [
              "<seaborn.axisgrid.FacetGrid at 0x7f513d764a10>"
            ]
          },
          "metadata": {},
          "execution_count": 115
        },
        {
          "output_type": "display_data",
          "data": {
            "image/png": "[encoded data removed]",
            "text/plain": [
              "<Figure size 360x360 with 1 Axes>"
            ]
          },
          "metadata": {
            "needs_background": "light"
          }
        }
      ]
    },
    {
      "cell_type": "code",
      "source": [
        "bsns.catplot(data=df.loc[df['movement']=='credit'], y='gender', kind='count')"
      ],
      "metadata": {
        "colab": {
          "base_uri": "https://localhost:8080/",
          "height": 387
        },
        "id": "pT3HoGqJg5LO",
        "outputId": "d4a2716f-50b6-4764-961c-a2f85bd418be"
      },
      "execution_count": 116,
      "outputs": [
        {
          "output_type": "execute_result",
          "data": {
            "text/plain": [
              "<seaborn.axisgrid.FacetGrid at 0x7f513d751b50>"
            ]
          },
          "metadata": {},
          "execution_count": 116
        },
        {
          "output_type": "display_data",
          "data": {
            "image/png": "[encoded data removed]",
            "text/plain": [
              "<Figure size 360x360 with 1 Axes>"
            ]
          },
          "metadata": {
            "needs_background": "light"
          }
        }
      ]
    },
    {
      "cell_type": "code",
      "source": [
        "sns.barplot(data=df, y='amount', x='gender', hue='movement')"
      ],
      "metadata": {
        "colab": {
          "base_uri": "https://localhost:8080/",
          "height": 297
        },
        "id": "SGu1szCUjBdo",
        "outputId": "1c66aef1-b83b-4dea-859a-ae1a665a425b"
      },
      "execution_count": 118,
      "outputs": [
        {
          "output_type": "execute_result",
          "data": {
            "text/plain": [
              "<matplotlib.axes._subplots.AxesSubplot at 0x7f513d6acb90>"
            ]
          },
          "metadata": {},
          "execution_count": 118
        },
        {
          "output_type": "display_data",
          "data": {
            "image/png": "[encoded data removed]",
            "text/plain": [
              "<Figure size 432x288 with 1 Axes>"
            ]
          },
          "metadata": {
            "needs_background": "light"
          }
        }
      ]
    },
    {
      "cell_type": "code",
      "source": [
        "sns.barplot(data=df.loc[df['movement']=='debit'], y='amount', x='gender')"
      ],
      "metadata": {
        "colab": {
          "base_uri": "https://localhost:8080/",
          "height": 297
        },
        "id": "Zd8dqQDKk-Nt",
        "outputId": "044327a4-eea3-4021-9715-892086fd5036"
      },
      "execution_count": 121,
      "outputs": [
        {
          "output_type": "execute_result",
          "data": {
            "text/plain": [
              "<matplotlib.axes._subplots.AxesSubplot at 0x7f513d623490>"
            ]
          },
          "metadata": {},
          "execution_count": 121
        },
        {
          "output_type": "display_data",
          "data": {
            "image/png": "[encoded data removed]",
            "text/plain": [
              "<Figure size 432x288 with 1 Axes>"
            ]
          },
          "metadata": {
            "needs_background": "light"
          }
        }
      ]
    },
    {
      "cell_type": "code",
      "source": [
        "sns.barplot(data=df.loc[df['movement']=='credit'], y='amount', x='gender')"
      ],
      "metadata": {
        "colab": {
          "base_uri": "https://localhost:8080/",
          "height": 297
        },
        "id": "KU_xG90KlP8J",
        "outputId": "f2eb8bbe-c56e-4dd3-d048-6aaf1271fa10"
      },
      "execution_count": 122,
      "outputs": [
        {
          "output_type": "execute_result",
          "data": {
            "text/plain": [
              "<matplotlib.axes._subplots.AxesSubplot at 0x7f513d51af50>"
            ]
          },
          "metadata": {},
          "execution_count": 122
        },
        {
          "output_type": "display_data",
          "data": {
            "image/png": "[encoded data removed]",
            "text/plain": [
              "<Figure size 432x288 with 1 Axes>"
            ]
          },
          "metadata": {
            "needs_background": "light"
          }
        }
      ]
    },
    {
      "cell_type": "code",
      "source": [
        "sns.barplot(data=df.loc[df['movement']=='debit'], y='amount', x='merchant_state')"
      ],
      "metadata": {
        "colab": {
          "base_uri": "https://localhost:8080/",
          "height": 297
        },
        "id": "Z6TlGMwZly9J",
        "outputId": "434fa1b7-c427-4a01-883b-663f6b802c21"
      },
      "execution_count": 127,
      "outputs": [
        {
          "output_type": "execute_result",
          "data": {
            "text/plain": [
              "<matplotlib.axes._subplots.AxesSubplot at 0x7f513d4aeb10>"
            ]
          },
          "metadata": {},
          "execution_count": 127
        },
        {
          "output_type": "display_data",
          "data": {
            "image/png": "[encoded data removed]",
            "text/plain": [
              "<Figure size 432x288 with 1 Axes>"
            ]
          },
          "metadata": {
            "needs_background": "light"
          }
        }
      ]
    }
  ]
}